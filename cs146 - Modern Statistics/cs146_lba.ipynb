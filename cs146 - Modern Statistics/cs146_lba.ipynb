{
 "cells": [
  {
   "cell_type": "markdown",
   "metadata": {},
   "source": [
    "# LBA - CS146\n",
    "\n",
    "## Data processing"
   ]
  },
  {
   "cell_type": "code",
   "execution_count": 42,
   "metadata": {},
   "outputs": [],
   "source": [
    "import pystan"
   ]
  },
  {
   "cell_type": "markdown",
   "metadata": {},
   "source": [
    "I removed the data collected by the following students because they either don't reside in Berlin or the neighborhood can't be determined: Barbara, Erika Sloan, Evan Buckman, Frances Pak Gelana Tostaeva, Hana Mcmahon-Cole, Jingren Wang, Mandla, Michelle Hackl, Nikesh Shrestha,, Sara Merner, Vu chu, Vy, Vu Luong.\n"
   ]
  },
  {
   "cell_type": "code",
   "execution_count": 105,
   "metadata": {},
   "outputs": [],
   "source": [
    "import csv\n",
    "location_map = {'Alt-Treptow': 1,\n",
    " 'Friedrichshain':2,\n",
    " 'Kreuzberg':3,\n",
    " 'Lichtenberg':4,\n",
    " 'Mitte':5,\n",
    " 'Neukölln':6,\n",
    " 'Prenzlauer Berg':7,\n",
    " 'Schöneberg':8,\n",
    " 'Tempelhof':9}\n",
    "inverse_location_map = {1:'Alt-Treptow',\n",
    " 2:'Friedrichshain',\n",
    " 3:'Kreuzberg',\n",
    " 4:'Lichtenberg',\n",
    " 5:'Mitte',\n",
    " 6:'Neukölln',\n",
    " 7:'Prenzlauer Berg',\n",
    " 8:'Schöneberg',\n",
    " 9:'Tempelhof'}\n",
    "brand_map = {'ALDI':1 , 'EDEKA':2, 'Lidl':3, 'REWE':4}\n",
    "inverse_brand_map = {1:'ALDI' , 2:'EDEKA', 3:'Lidl', 4:'REWE'}\n",
    "brand = []\n",
    "location = []\n",
    "item_type = [] # 'apples', 'bananas', tomatoes', 'potatoes', \n",
    "                # 'flour', 'rice', 'milk', 'butter', 'eggs', 'chicken breasts'\n",
    "item_map = {1:'apples', 2:'bananas', 3:'tomatoes',4: 'potatoes', \n",
    "                5:'flour', 6:'rice', 7:'milk', 8:'butter', 9:'eggs' , 10:'chicken breasts'}\n",
    "price = []\n",
    "with open('raw_lba.csv') as csv_file:\n",
    "    csv_reader = csv.reader(csv_file, delimiter=',')\n",
    "    next(csv_reader, None)\n",
    "    line_count = 0\n",
    "    for row in csv_reader:\n",
    "#         print('row:', row)\n",
    "        for i in range(1,11): # 10 items\n",
    "            data_list_for_this_item = [row[5+6*(i-1)+j] for j in range(1,7)]\n",
    "            # product 1\n",
    "            if data_list_for_this_item[0] != '' and data_list_for_this_item[1] != '':\n",
    "                brand.append(brand_map[row[3]])\n",
    "                item_type.append(i)\n",
    "                location.append(location_map[row[4]])\n",
    "                price.append(float(data_list_for_this_item[1])/float(data_list_for_this_item[0]))\n",
    "            # product 2\n",
    "            if data_list_for_this_item[2] != '' and data_list_for_this_item[3] != '':\n",
    "                brand.append(brand_map[row[3]])\n",
    "                item_type.append(i)\n",
    "                location.append(location_map[row[4]])\n",
    "                price.append(float(data_list_for_this_item[3])/float(data_list_for_this_item[2]))\n",
    "            # product 3\n",
    "            if data_list_for_this_item[4] != '' and data_list_for_this_item[5] != '':\n",
    "                brand.append(brand_map[row[3]])\n",
    "                item_type.append(i)\n",
    "                location.append(location_map[row[4]])\n",
    "                price.append(float(data_list_for_this_item[5])/float(data_list_for_this_item[4]))       "
   ]
  },
  {
   "cell_type": "code",
   "execution_count": 73,
   "metadata": {},
   "outputs": [
    {
     "name": "stdout",
     "output_type": "stream",
     "text": [
      "Item: 1 Neighborhood: 3 Store: 2 price: 2.49\n",
      "Item: 1 Neighborhood: 3 Store: 2 price: 2.49\n",
      "Item: 1 Neighborhood: 3 Store: 2 price: 1.66\n",
      "Item: 2 Neighborhood: 3 Store: 2 price: 5.2\n",
      "Item: 2 Neighborhood: 3 Store: 2 price: 2.99\n",
      "Item: 2 Neighborhood: 3 Store: 2 price: 1.09\n",
      "Item: 3 Neighborhood: 3 Store: 2 price: 8.0\n",
      "Item: 3 Neighborhood: 3 Store: 2 price: 4.98\n",
      "Item: 3 Neighborhood: 3 Store: 2 price: 8.0\n",
      "Item: 4 Neighborhood: 3 Store: 2 price: 2.49\n",
      "Item: 4 Neighborhood: 3 Store: 2 price: 0.8\n",
      "Item: 4 Neighborhood: 3 Store: 2 price: 2.49\n",
      "Item: 5 Neighborhood: 3 Store: 2 price: 0.99\n",
      "Item: 5 Neighborhood: 3 Store: 2 price: 1.79\n",
      "Item: 5 Neighborhood: 3 Store: 2 price: 1.98\n",
      "Item: 6 Neighborhood: 3 Store: 2 price: 7.16\n",
      "Item: 6 Neighborhood: 3 Store: 2 price: 2.78\n",
      "Item: 6 Neighborhood: 3 Store: 2 price: 5.98\n",
      "Item: 7 Neighborhood: 3 Store: 2 price: 0.63\n",
      "Item: 7 Neighborhood: 3 Store: 2 price: 0.71\n",
      "Item: 7 Neighborhood: 3 Store: 2 price: 0.99\n",
      "Item: 8 Neighborhood: 3 Store: 2 price: 1.5\n",
      "Item: 8 Neighborhood: 3 Store: 2 price: 1.38\n",
      "Item: 8 Neighborhood: 3 Store: 2 price: 3.58\n",
      "Item: 9 Neighborhood: 3 Store: 2 price: 0.159\n",
      "Item: 9 Neighborhood: 3 Store: 2 price: 0.119\n",
      "Item: 9 Neighborhood: 3 Store: 2 price: 0.24833333333333332\n",
      "Item: 10 Neighborhood: 3 Store: 2 price: 9.99\n",
      "Item: 10 Neighborhood: 3 Store: 2 price: 8.99\n",
      "Item: 1 Neighborhood: 8 Store: 4 price: 1.49\n"
     ]
    }
   ],
   "source": [
    "# demo what all the code above is\n",
    "for i in range(30):\n",
    "    print('Item:', item_type[i], 'Neighborhood:', location[i], 'Store:', brand[i], 'price:', price[i])"
   ]
  },
  {
   "cell_type": "markdown",
   "metadata": {},
   "source": [
    "# Hyperparameters Selection"
   ]
  },
  {
   "cell_type": "code",
   "execution_count": 5,
   "metadata": {},
   "outputs": [],
   "source": [
    "# find hyperparameters \n",
    "from scipy.optimize import minimize\n",
    "import scipy\n",
    "import scipy.stats as sts\n",
    "def f(x):\n",
    "    alpha = x[0]\n",
    "    beta = x[1]\n",
    "    lower = sts.gamma(a=alpha, scale=1/beta).cdf(0.5)\n",
    "    upper = sts.gamma(a=alpha, scale=1/beta).cdf(2)\n",
    "    return (lower-0.025)**2 + (upper-0.975)**2 + (alpha - 1 - beta)**2\n",
    "x_initial = [1,1]\n",
    "result = minimize(f, x_initial)\n",
    "x_final = result.x"
   ]
  },
  {
   "cell_type": "code",
   "execution_count": 2,
   "metadata": {},
   "outputs": [
    {
     "data": {
      "text/plain": [
       "array([2.76354028, 1.76354009, 0.29451489, 3.88214322])"
      ]
     },
     "execution_count": 2,
     "metadata": {},
     "output_type": "execute_result"
    }
   ],
   "source": [
    "x_final"
   ]
  },
  {
   "cell_type": "markdown",
   "metadata": {},
   "source": [
    "# Model"
   ]
  },
  {
   "cell_type": "code",
   "execution_count": 74,
   "metadata": {},
   "outputs": [],
   "source": [
    "# Build the stan model:\n",
    "stan_code = \"\"\"\n",
    "\n",
    "// The data block contains all known quantities - typically the observed\n",
    "// data and any constant hyperparameters.\n",
    "data {\n",
    "    int<lower=1> num; // number of data points\n",
    "    real<lower=0> lambda1; // lambda for base price exponential prior \n",
    "    real<lower=0> lambda2; // lambda for beta exponential prior \n",
    "    int<lower=1> num_items; // number different types of items (e.g., apples, rice, etc.)\n",
    "    int<lower=1> num_brands; // number different brands (e.g., ALDI, etc.)\n",
    "    int<lower=1> num_locations; // number different locations (e.g., Mitte, etc.)\n",
    "    real<lower=0> alpha;  // fixed prior hyperparameter for gamma\n",
    "    real<lower=0> beta;   // fixed prior hyperparameter for gamma\n",
    "    real<lower=0> price_dat[num]; // normalized price\n",
    "    int brand_dat[num]; // brands \n",
    "    int location_dat[num]; // neighborhoods\n",
    "    int item_dat[num]; // items\n",
    "\n",
    "}\n",
    "\n",
    "// The parameters block contains all unknown quantities - typically the\n",
    "// parameters of the model. Stan will generate samples from the posterior\n",
    "// distributions over all parameters.\n",
    "parameters {\n",
    "    real<lower=0> base_price[num_items];\n",
    "    real<lower=0> brand_multip[num_brands];\n",
    "    real<lower=0> location_multip[num_locations];\n",
    "    real<lower=0> beta_for_likelihood; // beta of gamma likelihood\n",
    "    \n",
    "}\n",
    "\n",
    "// The model block contains all probability distributions in the model.\n",
    "// This of this as specifying the generative model for the scenario.\n",
    "model {\n",
    "    base_price[num_items] ~ exponential(lambda1);\n",
    "    brand_multip[num_brands] ~ gamma(alpha, beta);\n",
    "    location_multip[num_locations] ~ gamma(alpha, beta);\n",
    "    \n",
    "    beta_for_likelihood ~ exponential(lambda2);\n",
    "    for(i in 1:num) {\n",
    "        price_dat[i] ~ gamma(base_price[item_dat[i]] * brand_multip[brand_dat[i]] * location_multip[location_dat[i]] * beta_for_likelihood, beta_for_likelihood);\n",
    "    }\n",
    "}\n",
    "\n",
    "\"\"\""
   ]
  },
  {
   "cell_type": "code",
   "execution_count": 65,
   "metadata": {},
   "outputs": [
    {
     "name": "stderr",
     "output_type": "stream",
     "text": [
      "INFO:pystan:COMPILING THE C++ CODE FOR MODEL anon_model_f0c111f31f4e45d8de6c248e1582a794 NOW.\n"
     ]
    }
   ],
   "source": [
    "# Compile model\n",
    "\n",
    "stan_model = pystan.StanModel(model_code=stan_code)"
   ]
  },
  {
   "cell_type": "code",
   "execution_count": 81,
   "metadata": {},
   "outputs": [],
   "source": [
    "data = {\n",
    "    'num': len(price),\n",
    "    'lambda1': 0.0000001,\n",
    "    'lambda2': 0.0001,\n",
    "    'num_items': len(set(item_type)),\n",
    "    'num_brands': len(set(brand)),\n",
    "    'num_locations': len(set(location)),\n",
    "    'alpha': x_final[0],\n",
    "    'beta': x_final[1],\n",
    "    'price_dat': price,\n",
    "    'brand_dat': brand,\n",
    "    'location_dat': location,\n",
    "    'item_dat': item_type\n",
    "}"
   ]
  },
  {
   "cell_type": "code",
   "execution_count": 82,
   "metadata": {},
   "outputs": [
    {
     "name": "stderr",
     "output_type": "stream",
     "text": [
      "WARNING:pystan:21 of 4000 iterations saturated the maximum tree depth of 10 (0.525 %)\n",
      "WARNING:pystan:Run again with max_treedepth larger than 10 to avoid saturation\n"
     ]
    }
   ],
   "source": [
    "# Fit the model to the data. This will generate samples from the posterior over\n",
    "# all parameters of the model. We start by computing posteriors for the treatment\n",
    "# data.\n",
    "\n",
    "stan_results = stan_model.sampling(data=data)"
   ]
  },
  {
   "cell_type": "markdown",
   "metadata": {},
   "source": [
    "# Posteriors"
   ]
  },
  {
   "cell_type": "markdown",
   "metadata": {},
   "source": [
    "## base price"
   ]
  },
  {
   "cell_type": "code",
   "execution_count": 83,
   "metadata": {},
   "outputs": [
    {
     "name": "stdout",
     "output_type": "stream",
     "text": [
      "Inference for Stan model: anon_model_f0c111f31f4e45d8de6c248e1582a794.\n",
      "4 chains, each with iter=2000; warmup=1000; thin=1; \n",
      "post-warmup draws per chain=1000, total post-warmup draws=4000.\n",
      "\n",
      "                 mean se_mean     sd     1%    99%  n_eff   Rhat\n",
      "base_price[1]   39.78    5.12  99.11   3.16  264.8    375   1.01\n",
      "base_price[2]   30.22    3.93  76.08   2.35 203.01    376   1.01\n",
      "base_price[3]   61.97    8.12 157.32   4.92 413.37    375   1.01\n",
      "base_price[4]   22.76    2.99  57.66    1.8 150.22    371   1.01\n",
      "base_price[5]    20.7    2.71  52.42   1.61 140.26    375   1.01\n",
      "base_price[6]   56.63    7.38 142.47   4.47 379.15    373   1.01\n",
      "base_price[7]   22.77     3.0  58.08   1.79 150.22    375   1.01\n",
      "base_price[8]   113.3   14.73 285.68   8.86 760.36    376   1.01\n",
      "base_price[9]    8.43    1.06  20.85   0.66  57.09    383   1.01\n",
      "base_price[10] 138.86   18.23  353.0  10.83 903.16    375   1.01\n",
      "\n",
      "Samples were drawn using NUTS at Sat Nov  9 22:26:21 2019.\n",
      "For each parameter, n_eff is a crude measure of effective sample size,\n",
      "and Rhat is the potential scale reduction factor on split chains (at \n",
      "convergence, Rhat=1).\n"
     ]
    }
   ],
   "source": [
    "# summarize the results\n",
    "print(stan_results.stansummary(pars=['base_price'], probs=[0.01, 0.99]))"
   ]
  },
  {
   "cell_type": "code",
   "execution_count": 122,
   "metadata": {},
   "outputs": [
    {
     "data": {
      "image/png": "[encoded data removed]",
      "text/plain": [
       "<Figure size 864x576 with 1 Axes>"
      ]
     },
     "metadata": {},
     "output_type": "display_data"
    }
   ],
   "source": [
    "import matplotlib.pyplot as plt\n",
    "import numpy as np\n",
    "samples = stan_results.extract()\n",
    "\n",
    "plt.figure(figsize=(12,8))\n",
    "for i in range(10):\n",
    "    plt.hist(samples['base_price'][:,i],bins=500, density = True, alpha = 0.7, label=item_map[i+1]) \n",
    "# plt.hist(samples['base_price'][:,0],bins=200)\n",
    "# plt.hist(samples['base_price'], bins=50, density=True)\n",
    "plt.title('Sampled posterior for base price')\n",
    "plt.xlim(0,100)\n",
    "plt.legend()\n",
    "plt.show()\n",
    "\n",
    "# print('Posterior 98% interval over lambda:', np.percentile(samples['lambda'], [1, 99]))\n",
    "\n"
   ]
  },
  {
   "cell_type": "markdown",
   "metadata": {},
   "source": [
    "## Location multiplier"
   ]
  },
  {
   "cell_type": "code",
   "execution_count": 110,
   "metadata": {},
   "outputs": [
    {
     "name": "stdout",
     "output_type": "stream",
     "text": [
      "Inference for Stan model: anon_model_f0c111f31f4e45d8de6c248e1582a794.\n",
      "4 chains, each with iter=2000; warmup=1000; thin=1; \n",
      "post-warmup draws per chain=1000, total post-warmup draws=4000.\n",
      "\n",
      "                     mean se_mean     sd     1%    99%  n_eff   Rhat\n",
      "location_multip[1]   0.91    0.02   0.36   0.29   1.92    534   1.01\n",
      "location_multip[2]   0.79    0.01   0.32   0.25   1.68    539   1.01\n",
      "location_multip[3]   0.82    0.01   0.33   0.25   1.71    543   1.01\n",
      "location_multip[4]   0.84    0.01   0.33   0.26    1.8    539   1.01\n",
      "location_multip[5]   0.87    0.01   0.35   0.27   1.83    538   1.01\n",
      "location_multip[6]   0.84    0.01   0.34   0.26   1.76    542   1.01\n",
      "location_multip[7]   0.81    0.01   0.32   0.25   1.71    539   1.01\n",
      "location_multip[8]   0.83    0.01   0.33   0.26   1.77    538   1.01\n",
      "location_multip[9]   0.88    0.01   0.34   0.29   1.84    535   1.01\n",
      "\n",
      "Samples were drawn using NUTS at Sat Nov  9 22:26:21 2019.\n",
      "For each parameter, n_eff is a crude measure of effective sample size,\n",
      "and Rhat is the potential scale reduction factor on split chains (at \n",
      "convergence, Rhat=1).\n"
     ]
    }
   ],
   "source": [
    "# summarize the results\n",
    "print(stan_results.stansummary(pars=['location_multip'], probs=[0.01, 0.99]))"
   ]
  },
  {
   "cell_type": "code",
   "execution_count": 117,
   "metadata": {},
   "outputs": [
    {
     "data": {
      "image/png": "[encoded data removed]",
      "text/plain": [
       "<Figure size 864x576 with 1 Axes>"
      ]
     },
     "metadata": {},
     "output_type": "display_data"
    }
   ],
   "source": [
    "import matplotlib.pyplot as plt\n",
    "import numpy as np\n",
    "samples = stan_results.extract()\n",
    "\n",
    "plt.figure(figsize=(12,8))\n",
    "for i in range(9):\n",
    "    plt.hist(samples['location_multip'][:,i],bins=50, density = True, alpha = 0.7, label=inverse_location_map[i+1]) \n",
    "# plt.hist(samples['base_price'][:,0],bins=200)\n",
    "# plt.hist(samples['base_price'], bins=50, density=True)\n",
    "plt.title('Sampled posterior for location multiplier')\n",
    "plt.xlim(0,2.5)\n",
    "plt.legend()\n",
    "plt.show()\n",
    "\n",
    "# print('Posterior 98% interval over lambda:', np.percentile(samples['lambda'], [1, 99]))\n",
    "\n",
    "\n"
   ]
  },
  {
   "cell_type": "markdown",
   "metadata": {},
   "source": [
    "## Store brand"
   ]
  },
  {
   "cell_type": "code",
   "execution_count": 118,
   "metadata": {},
   "outputs": [
    {
     "name": "stdout",
     "output_type": "stream",
     "text": [
      "Inference for Stan model: anon_model_f0c111f31f4e45d8de6c248e1582a794.\n",
      "4 chains, each with iter=2000; warmup=1000; thin=1; \n",
      "post-warmup draws per chain=1000, total post-warmup draws=4000.\n",
      "\n",
      "                  mean se_mean     sd     1%    99%  n_eff   Rhat\n",
      "brand_multip[1]   0.18  5.9e-3   0.14   0.01   0.64    542   1.01\n",
      "brand_multip[2]   0.23  7.8e-3   0.18   0.01   0.84    544   1.01\n",
      "brand_multip[3]   0.17  5.8e-3   0.13   0.01   0.63    540   1.01\n",
      "brand_multip[4]   0.21  6.9e-3   0.16   0.01   0.75    543   1.01\n",
      "\n",
      "Samples were drawn using NUTS at Sat Nov  9 22:26:21 2019.\n",
      "For each parameter, n_eff is a crude measure of effective sample size,\n",
      "and Rhat is the potential scale reduction factor on split chains (at \n",
      "convergence, Rhat=1).\n"
     ]
    }
   ],
   "source": [
    "# summarize the results\n",
    "print(stan_results.stansummary(pars=['brand_multip'], probs=[0.01, 0.99]))"
   ]
  },
  {
   "cell_type": "code",
   "execution_count": 125,
   "metadata": {},
   "outputs": [
    {
     "data": {
      "image/png": "[encoded data removed]",
      "text/plain": [
       "<Figure size 864x576 with 1 Axes>"
      ]
     },
     "metadata": {},
     "output_type": "display_data"
    }
   ],
   "source": [
    "import matplotlib.pyplot as plt\n",
    "import numpy as np\n",
    "samples = stan_results.extract()\n",
    "\n",
    "plt.figure(figsize=(12,8))\n",
    "for i in range(4):\n",
    "    plt.hist(samples['brand_multip'][:,i],bins=50, density = True, alpha = 0.5, label=inverse_brand_map[i+1]) \n",
    "# plt.hist(samples['base_price'][:,0],bins=200)\n",
    "# plt.hist(samples['base_price'], bins=50, density=True)\n",
    "plt.title('Sampled posterior for brand multiplier')\n",
    "plt.xlim(0,1.5)\n",
    "plt.legend()\n",
    "plt.show()\n",
    "\n",
    "# print('Posterior 98% interval over lambda:', np.percentile(samples['lambda'], [1, 99]))\n",
    "\n",
    "\n"
   ]
  },
  {
   "cell_type": "markdown",
   "metadata": {},
   "source": [
    "# Correlation with rental prices"
   ]
  },
  {
   "cell_type": "code",
   "execution_count": 132,
   "metadata": {},
   "outputs": [],
   "source": [
    "rental_prices_dict = {'Alt-Treptow': [530, 645, 782, 726, 630, 737, 773],\n",
    " 'Friedrichshain':[895],\n",
    " 'Kreuzberg':[865, 908],\n",
    " 'Lichtenberg':[739, 736, 752, 809, 734, 649, 483, 601,588, 571, 576, 609, 587],\n",
    " 'Mitte': [741, 886,893,932,957,1154,1044,1048],\n",
    " 'Neukölln':[897, 844,1005,934,755,812,705,743,820,730,778,641,678,633,621,611],\n",
    " 'Prenzlauer Berg':[719,902, 999],\n",
    " 'Schöneberg':[817,879,860,900,884,884,855],\n",
    " 'Tempelhof':[844,797,808,701,703,629,609]}\n",
    "rental_prices = []\n",
    "location_multip_means = []\n",
    "for key in rental_prices_dict:\n",
    "    rental_prices.append(np.mean(rental_prices_dict[key]))\n",
    "    \n",
    "    location_multip_means.append(np.mean(samples['location_multip'][:,location_map[key]-1]))\n"
   ]
  },
  {
   "cell_type": "code",
   "execution_count": 133,
   "metadata": {},
   "outputs": [
    {
     "name": "stdout",
     "output_type": "stream",
     "text": [
      "Coefficients: \n",
      " [-0.00017553]\n",
      "Intercept:\n",
      " 0.9875350509976513\n"
     ]
    },
    {
     "data": {
      "image/png": "[encoded data removed]",
      "text/plain": [
       "<Figure size 432x288 with 1 Axes>"
      ]
     },
     "metadata": {},
     "output_type": "display_data"
    }
   ],
   "source": [
    "from sklearn import datasets, linear_model\n",
    "rental_prices = [[rental_price] for rental_price in rental_prices] \n",
    "regr = linear_model.LinearRegression()\n",
    "\n",
    "# Train the model using the training set\n",
    "regr.fit(rental_prices, location_multip_means)\n",
    "\n",
    "# Make predictions on training set\n",
    "location_multip_means_preds = regr.predict(rental_prices)\n",
    "\n",
    "# The coefficients\n",
    "print('Coefficients: \\n', regr.coef_)\n",
    "print('Intercept:\\n', regr.intercept_)\n",
    "# # The mean squared error\n",
    "# print(\"Mean squared error: %.2f\"\n",
    "#       % mean_squared_error(bases, base_preds))\n",
    "\n",
    "# Plot outputs\n",
    "\n",
    "plt.scatter(rental_prices, location_multip_means)\n",
    "plt.plot(rental_prices, location_multip_means_preds ,color='red', linewidth=3)\n",
    "plt.xlabel('Rental price')\n",
    "plt.ylabel('Location multiplier')\n",
    "plt.show()"
   ]
  },
  {
   "cell_type": "code",
   "execution_count": null,
   "metadata": {},
   "outputs": [],
   "source": []
  }
 ],
 "metadata": {
  "kernelspec": {
   "display_name": "Python 3",
   "language": "python",
   "name": "python3"
  },
  "language_info": {
   "codemirror_mode": {
    "name": "ipython",
    "version": 3
   },
   "file_extension": ".py",
   "mimetype": "text/x-python",
   "name": "python",
   "nbconvert_exporter": "python",
   "pygments_lexer": "ipython3",
   "version": "3.6.5"
  }
 },
 "nbformat": 4,
 "nbformat_minor": 2
}
