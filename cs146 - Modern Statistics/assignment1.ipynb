{
 "cells": [
  {
   "cell_type": "code",
   "execution_count": 20,
   "metadata": {
    "scrolled": true
   },
   "outputs": [
    {
     "name": "stdout",
     "output_type": "stream",
     "text": [
      "0.599015\n",
      "0.5987063256829237\n",
      "True\n",
      "----------\n",
      "0.984816\n",
      "0.9848698599897642\n",
      "True\n",
      "----------\n",
      "1.0\n",
      "1.0\n",
      "True\n"
     ]
    }
   ],
   "source": [
    "import numpy as np\n",
    "import scipy\n",
    "import math\n",
    "def f(x):\n",
    "    return x**3 + 2*x + 1\n",
    "def is_match(mu, sig):\n",
    "    it = 1000000\n",
    "    count = 0\n",
    "    for _ in range(it):\n",
    "        x = np.random.normal(mu, sig)\n",
    "        if f(x) > 1:\n",
    "            count += 1\n",
    "    print(count/it)\n",
    "    print(1/2 - 1/2*math.erf(-mu/(sig*2**.5)))\n",
    "    return count/it - (1/2 - 1/2*math.erf(-mu/(sig*2**.5))) < .001\n",
    "print(is_match(1,4))\n",
    "print('-'*10)\n",
    "print(is_match(1.3,0.6))\n",
    "print('-'*10)\n",
    "print(is_match(4,.2))\n"
   ]
  },
  {
   "cell_type": "code",
   "execution_count": null,
   "metadata": {},
   "outputs": [],
   "source": []
  }
 ],
 "metadata": {
  "kernelspec": {
   "display_name": "Python 3",
   "language": "python",
   "name": "python3"
  },
  "language_info": {
   "codemirror_mode": {
    "name": "ipython",
    "version": 3
   },
   "file_extension": ".py",
   "mimetype": "text/x-python",
   "name": "python",
   "nbconvert_exporter": "python",
   "pygments_lexer": "ipython3",
   "version": "3.6.5"
  }
 },
 "nbformat": 4,
 "nbformat_minor": 2
}
