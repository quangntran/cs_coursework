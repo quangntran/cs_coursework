{
 "cells": [
  {
   "cell_type": "markdown",
   "metadata": {},
   "source": [
    "# Call center data modeling\n",
    "\n",
    "## 1. Compute a 98% posterior confidence interval over the number of calls per minute (the call rate λ ) for each hour of the day — so you will have 24 confidence intervals. Also, compute the posterior mean of λ for each hour of the day."
   ]
  },
  {
   "cell_type": "code",
   "execution_count": 1,
   "metadata": {},
   "outputs": [],
   "source": [
    "import numpy as np\n",
    "import scipy as sp\n",
    "import scipy.stats as sts\n",
    "import matplotlib.pyplot as plt\n",
    "\n",
    "%matplotlib inline"
   ]
  },
  {
   "cell_type": "code",
   "execution_count": 2,
   "metadata": {},
   "outputs": [
    {
     "name": "stdout",
     "output_type": "stream",
     "text": [
      "Size of data set: 5856\n",
      "First 3 values in data set: [30.   3.4  3.2]\n",
      "Sum of data set: 1441.6838153800093\n"
     ]
    }
   ],
   "source": [
    "# Load the data set containing durations between calls arriving at the call\n",
    "# center during 1 day. All values are in minutes.\n",
    "waiting_times_day = np.loadtxt('call_center.csv')\n",
    "\n",
    "# Display some basic information about the data set.\n",
    "print('Size of data set:', len(waiting_times_day))\n",
    "print('First 3 values in data set:', waiting_times_day[:3])\n",
    "print('Sum of data set:', sum(waiting_times_day))\n",
    "\n",
    "# Make 24 empty lists, one per hour.\n",
    "waiting_times_per_hour = [[] for _ in range(24)]\n",
    "\n",
    "# # Split the data into 24 separate series, one for each hour of the day.\n",
    "current_time = 0\n",
    "for t in waiting_times_day:\n",
    "    current_hour = int(current_time // 60)\n",
    "    current_time += t\n",
    "    waiting_times_per_hour[current_hour].append(t)"
   ]
  },
  {
   "cell_type": "markdown",
   "metadata": {},
   "source": [
    "In the code below, I followed the template during the in-class activity, which means I chose the gamma distribution paremeterized by $\\alpha=1$ and $\\beta=0.1$ as the likelihood for **all** hours. However, I just want to point out this is not the only option we have. We could even choose a different prior for each hout. Some factors that can influence our choice of prior:\n",
    "\n",
    "1. The support of the distribution. (Here gamma distribution makes sense in this respect as its support is positive real number, fitting lambda, the rate of calls).\n",
    "2. The different values lambdas can take, or its typical range.\""
   ]
  },
  {
   "cell_type": "code",
   "execution_count": 3,
   "metadata": {},
   "outputs": [
    {
     "name": "stdout",
     "output_type": "stream",
     "text": [
      "[0.04, 0.2]\n",
      "[0.04, 0.16]\n",
      "[0.04, 0.16]\n",
      "[0.08, 0.44]\n",
      "[0.24, 0.64]\n",
      "[0.6, 1.2]\n",
      "[1.2, 1.96]\n",
      "[2.36, 3.4]\n",
      "[3.64, 4.88]\n",
      "[5.0, 6.44]\n",
      "[7.4, 9.16]\n",
      "[14.16, 16.52]\n",
      "[13.120000000000001, 15.4]\n",
      "[5.6000000000000005, 7.12]\n",
      "[2.56, 3.64]\n",
      "[2.88, 4.0]\n",
      "[3.7600000000000002, 5.0]\n",
      "[6.2, 7.76]\n",
      "[7.92, 9.68]\n",
      "[5.88, 7.44]\n",
      "[1.84, 2.7600000000000002]\n",
      "[0.56, 1.12]\n",
      "[0.16, 0.52]\n",
      "[0.12, 0.48]\n"
     ]
    }
   ],
   "source": [
    "# THE LIKELIHOOD FUNCTION\n",
    "#\n",
    "# This function takes 2 inputs, namely the parameter (λ) value at which to\n",
    "# compute the likelihood and a value from the data set. You need to evaluate\n",
    "# the exponential distribution of the datum given the parameter value.\n",
    "\n",
    "def likelihood(lambda_, datum):\n",
    "    \"\"\"\n",
    "    We calculate P(datum | lambda_, exponential),\n",
    "    which is the exponential's pdf evaluated at datum.\n",
    "    \"\"\"\n",
    "    return sts.expon(scale=1/lambda_).pdf(datum)\n",
    "\n",
    "# THE PRIOR DISTRIBUTION\n",
    "#\n",
    "# This function takes 1 input, namely the parameter value (λ) at which to\n",
    "# compute the prior probability density. You need to evaluate the distribution\n",
    "# Gamma(λ | α, β).\n",
    "\n",
    "def prior(lambda_):\n",
    "    \"\"\"\n",
    "    Prior is the gamma distribution with alpha = 1 and beta=0.25 over values\n",
    "    of lambda. \n",
    "    The input is a value of lambda, and the output is the gamma's pdf evaluated\n",
    "    at lambda.\n",
    "    \"\"\"\n",
    "    return sts.gamma(1, scale=1/0.25).pdf(lambda_)\n",
    "\n",
    "# THE POSTERIOR DISTRIBUTION\n",
    "#\n",
    "# The function below is provided to help make computing the posterior easier. It\n",
    "# follows the same pattern as in the previous class, where we multiple the prior\n",
    "# and the likelihood evaluated at various values of the parameter (λ).\n",
    "#\n",
    "# You will see the function uses the logarithms of various distributions. This\n",
    "# is for numerical reasons. When you multiply lots of likelihood values, the\n",
    "# result can become very large or very small, causing numerical overflow or\n",
    "# underflow in Python. Taking logarithms avoids this problem.\n",
    "\n",
    "def compute_posterior(parameter_values, prior, likelihood, data):\n",
    "    log_prior = np.log(prior(parameter_values))\n",
    "    log_likelihood = np.array([\n",
    "        np.sum(np.log(likelihood(param, data)))\n",
    "        for param in parameter_values])\n",
    "    unnormalized_log_posterior = log_prior + log_likelihood\n",
    "    unnormalized_log_posterior -= max(unnormalized_log_posterior)\n",
    "    unnormalized_posterior = np.exp(unnormalized_log_posterior)\n",
    "    area = sp.integrate.trapz(unnormalized_posterior, parameter_values)\n",
    "    posterior = unnormalized_posterior / area\n",
    "    return posterior\n",
    "\n",
    "def compute_percentile(parameter_values, distribution_values, percentile):\n",
    "    '''\n",
    "    Compute the parameter value at a particular percentile of the given\n",
    "    probability distribution values. This function uses the cumulative trapezoid\n",
    "    integrator in SciPy.\n",
    "\n",
    "    Inputs:\n",
    "\n",
    "        parameter_values (array of float) This is the list of parameter values\n",
    "          at which the probability distribution has been evaluated.\n",
    "\n",
    "        distribution_values (array of float) This is the list of values of the\n",
    "          probability density function evaluated at the parameter values above.\n",
    "\n",
    "        percentile (float) This is the value between 0 and 1 of the percentile\n",
    "          to compute.\n",
    "\n",
    "    Returns: (float) The parameter value at the given percentile.\n",
    "    '''\n",
    "    cumulative_distribution = sp.integrate.cumtrapz(\n",
    "        distribution_values, parameter_values)\n",
    "    percentile_index = np.searchsorted(cumulative_distribution, percentile)\n",
    "    return lambdas[percentile_index]\n",
    "\n",
    "# posterior_means = []\n",
    "percentiles_list = []\n",
    "for hour_index in range(24):\n",
    "    waiting_times_hour = waiting_times_per_hour[hour_index]\n",
    "    lambdas = np.linspace(0, 20, 501)[1:]\n",
    "    posterior = compute_posterior(lambdas, prior, likelihood, waiting_times_hour)\n",
    "#     lambda_ = sp.integrate.trapz(posterior * lambdas, lambdas)\n",
    "#     posterior_means.append(lambda_)\n",
    "    percentiles = [compute_percentile(lambdas, posterior, p) for p in [0.01, 0.99]]\n",
    "    percentiles_list.append(percentiles)\n",
    "    \n",
    "    print(percentiles)"
   ]
  },
  {
   "cell_type": "markdown",
   "metadata": {},
   "source": [
    "## 2. Present your results graphically using Matplotlib. Make a plot that looks like the one below. Each dot is at the posterior mean and each line shows a 98% confidence interval for a λ. You can use the errorbar() function in the plotting library to do this"
   ]
  },
  {
   "cell_type": "code",
   "execution_count": 4,
   "metadata": {},
   "outputs": [
    {
     "data": {
      "text/plain": [
       "Text(0,0.5,'Call rate (calls per minute)')"
      ]
     },
     "execution_count": 4,
     "metadata": {},
     "output_type": "execute_result"
    },
    {
     "data": {
      "image/png": "[encoded data removed]",
      "text/plain": [
       "<Figure size 1080x720 with 1 Axes>"
      ]
     },
     "metadata": {},
     "output_type": "display_data"
    }
   ],
   "source": [
    "# Get the posterior expected values of λ\n",
    "posterior_means = []\n",
    "for interval in percentiles_list:\n",
    "    # the mean (the expection) is the middle point of the interval (the 50% percentile).\n",
    "    # which is the average of the two ends of the interval\n",
    "    posterior_means.append((interval[0]+interval[1])/2)\n",
    "\n",
    "# plot it!\n",
    "plt.figure(figsize=(15,10))\n",
    "plt.errorbar(range(24), posterior_means, \n",
    "             [(interval[1]-interval[0])/2 for interval in percentiles_list],\n",
    "            fmt='o', capsize=5)\n",
    "plt.xlabel('Hour of the day')\n",
    "plt.ylabel('Call rate (calls per minute)')"
   ]
  },
  {
   "cell_type": "markdown",
   "metadata": {},
   "source": [
    "## 3. Write a paragraph (100–200 words) to accompany your plot and present your findings to the client. Carefully summarize how many calls you expect during different parts of the day, and how much uncertainty there is in your estimates. Remember that the client is not an expert in statistics, so make it easy for them to understand. You may also make additional plots to help communicate your results."
   ]
  },
  {
   "cell_type": "markdown",
   "metadata": {},
   "source": [
    "The x-axis shows 24 hours of the day. Corresponding to each hour is a range for the number of calls per minute during that hour, which is shown on the y-axis. This range tells us that we are 98% confident (meaning that we are highly condifent, although not we are not absolutely sure with a 100% level of confidence) that the number of calls per minute during that hour would fall somewhere in this range. Therefore, the smaller the range (like those for hours 0, 1, 2), the more certain we are about the number of calls per minute being around the mean (the dot in each range.)\n",
    "\n",
    "During the night (from hour 21 to hour 5), we expect that the number of calls per minute is really low (from just barely above 0 to just below 1 call), and we are highly certain about these estimates, as reflected in the narrowness of the bars for these hours. After hour 5, the there's also an increase in the uncertainty in the estimates. The number of calls peaks at hour 11 (at around 15). After mid-day, there's another peak at hour 18 then the number of calls decreases steadily towards the end of the day.\n",
    "\n",
    "Generally speaking, the certainty surrounding our estimates is high for night-time hours (21 to 5), but relatively low for the rest of the day (the highest uncertainty is at hour 11). Therefore, for deciding on the number of call agents for the night shifts, you can safely rely on the expected number of calls we estimated. However, any decision based on the expected numbers of calls per minute for the rest of the day needs to take into consideration the high uncertainty surrounding the estimates."
   ]
  }
 ],
 "metadata": {
  "kernelspec": {
   "display_name": "Python 3",
   "language": "python",
   "name": "python3"
  },
  "language_info": {
   "codemirror_mode": {
    "name": "ipython",
    "version": 3
   },
   "file_extension": ".py",
   "mimetype": "text/x-python",
   "name": "python",
   "nbconvert_exporter": "python",
   "pygments_lexer": "ipython3",
   "version": "3.6.5"
  }
 },
 "nbformat": 4,
 "nbformat_minor": 2
}
