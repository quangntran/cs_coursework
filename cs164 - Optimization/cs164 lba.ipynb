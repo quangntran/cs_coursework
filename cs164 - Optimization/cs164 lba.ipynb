{
 "cells": [
  {
   "cell_type": "code",
   "execution_count": 73,
   "metadata": {},
   "outputs": [
    {
     "name": "stdout",
     "output_type": "stream",
     "text": [
      "      A     B     C     D\n",
      "A  1000     4     5     1\n",
      "B     4  1000     7     3\n",
      "C     5     7  1000     5\n",
      "D     1     3     5  1000\n"
     ]
    }
   ],
   "source": [
    "import numpy as np\n",
    "import cvxpy as cvx\n",
    "import time \n",
    "import pandas as pd\n",
    "cost_matrix = np.array([[1000,4,5,1],\n",
    "                             [4, 1000, 7,3],\n",
    "                             [5, 7, 1000,5],\n",
    "                             [1,3,5,1000]])\n",
    "destinations = ['A', 'B', 'C', 'D']\n",
    "def visualize(matrix, destinations):\n",
    "    \"\"\"\n",
    "    Visualizes the matrix with the destinations\n",
    "    \"\"\"\n",
    "    df = pd.DataFrame(matrix, columns=destinations, index=destinations)\n",
    "    print(df)\n",
    "visualize(cost_matrix, destinations)"
   ]
  },
  {
   "cell_type": "code",
   "execution_count": 87,
   "metadata": {},
   "outputs": [
    {
     "name": "stdout",
     "output_type": "stream",
     "text": [
      "The path matrix is:\n",
      " [[0. 0. 0. 1.]\n",
      " [0. 0. 1. 0.]\n",
      " [1. 0. 0. 0.]\n",
      " [0. 1. 0. 0.]]\n",
      "The corresponding path is:\n",
      "A - D - B - C - A\n"
     ]
    }
   ],
   "source": [
    "def get_path(path_matrix, destinations):\n",
    "    \"\"\"\n",
    "    Given the boolean matrix, returns the string that shows the corresponding path,\n",
    "    assuming the path is a Hamilton path.\n",
    "    \"\"\"\n",
    "    index_sequence = [0]\n",
    "    n = path_matrix.shape[0]\n",
    "    current_place = 0\n",
    "    for i in range(n):\n",
    "        next_place = int(np.array(range(n)).dot(path_matrix[current_place,:]))\n",
    "        index_sequence.append(next_place)\n",
    "        current_place = next_place\n",
    "    path_str = destinations[0] \n",
    "    for i in index_sequence[1:]:\n",
    "        path_str += ' - ' + destinations[i]\n",
    "    return path_str\n",
    "# demo\n",
    "path_matrix = np.array([[0., 0., 0., 1.],\n",
    "               [0., 0., 1., 0.],\n",
    "               [1., 0., 0., 0.],\n",
    "               [0., 1., 0., 0.]])\n",
    "print('The path matrix is:\\n', path_matrix)\n",
    "print('The corresponding path is:')\n",
    "print(get_path(path_matrix, destinations))"
   ]
  },
  {
   "cell_type": "code",
   "execution_count": 96,
   "metadata": {},
   "outputs": [
    {
     "name": "stdout",
     "output_type": "stream",
     "text": [
      "Total optimal cost: 15.999999995728647\n",
      "     A    B    C    D\n",
      "A -0.0  0.0 -0.0  1.0\n",
      "B  0.0 -0.0  1.0  0.0\n",
      "C  1.0  0.0 -0.0 -0.0\n",
      "D -0.0  1.0  0.0 -0.0\n",
      "[0. 2. 3. 1.]\n",
      "\n",
      "Optimal path:\n",
      "A - D - B - C - A\n"
     ]
    }
   ],
   "source": [
    "def tsp_tmz(cost_matrix):\n",
    "    \"\"\"\n",
    "    Solves the TSP with TMZ constraints. \n",
    "    \n",
    "    Inputs:\n",
    "    - cost_matrix: 2D array that represents the cost of moving from one place to another\n",
    "    \n",
    "    Outputs: \n",
    "    - path: 2D array, the optimal path matrix, with binary values. Path[i,j]=1 means\n",
    "    we go from location i to location j\n",
    "    - optim_value: float, the total time travelled (the optimal cost)\n",
    "    - duration: float, time taken (in seconds) to run the algorithm \n",
    "    \"\"\"\n",
    "    # number of destinations\n",
    "    n = cost_matrix.shape[0]\n",
    "    # path matrix variable\n",
    "    x = cvx.Variable((n,n), boolean=True)\n",
    "    # sum constraints: sum of each row and column must be 1\n",
    "    con = [cp.sum(x, axis=0) == np.ones(n),\n",
    "           cp.sum(x, axis=1) == np.ones(n)]\n",
    "    \n",
    "    # extra variables in MTZ formulation\n",
    "    u = cvx.Variable(n)\n",
    "\n",
    "    # Condition set 1. u_0 = 0\n",
    "    con.append(u[0] == 0)\n",
    "    # Consition set 2. 1 <= u_i <= n-1\n",
    "    con += [1 <= u[i] for i in range(1,n)]\n",
    "    con += [u[i] <= n-1 for i in range(1,n)]\n",
    "    # Condition set 3. u_i - u_j + 1 <= (n-1)(1-x_ij)\n",
    "    con += [u[i] - u[j] + 1 <= (n-1)*(1-x[i,j]) for i in range(1,n) for j in range(1,n)]\n",
    "\n",
    "    # objective function: the dot product between the cost matrix and the path matrix \n",
    "    # Here we use .multiply along with .sum to calculate the dot product \n",
    "    obj = cvx.Minimize(cvx.sum(cvx.multiply(cost_matrix,x)))\n",
    "\n",
    "    # solve the problem \n",
    "    prob = cvx.Problem(obj, con)\n",
    "    # timing the running time\n",
    "    start = time.time()\n",
    "    prob.solve()  # Returns the optimal value.\n",
    "    duration = time.time() - start\n",
    "    \n",
    "    # rounding the values in the optimal path matrix\n",
    "    path = np.around(x.value)\n",
    "    \n",
    "    # the cost (total time travelled)\n",
    "    optim_value = prob.value\n",
    "    print('Total optimal cost:', optim_value)\n",
    "    \n",
    "    # print nicely the path matrix\n",
    "    visualize(path, destinations)\n",
    "    print(u.value)\n",
    "    return path, optim_value, duration\n",
    "\n",
    "path_matrix, optim_cost, t = tsp_tmz(cost_matrix)\n",
    "\n",
    "# print out the path we need to take\n",
    "print('\\nOptimal path:')\n",
    "print(get_path(path_matrix, destinations))\n"
   ]
  },
  {
   "cell_type": "code",
   "execution_count": null,
   "metadata": {},
   "outputs": [],
   "source": []
  }
 ],
 "metadata": {
  "kernelspec": {
   "display_name": "Python 3",
   "language": "python",
   "name": "python3"
  },
  "language_info": {
   "codemirror_mode": {
    "name": "ipython",
    "version": 3
   },
   "file_extension": ".py",
   "mimetype": "text/x-python",
   "name": "python",
   "nbconvert_exporter": "python",
   "pygments_lexer": "ipython3",
   "version": "3.6.5"
  }
 },
 "nbformat": 4,
 "nbformat_minor": 2
}
