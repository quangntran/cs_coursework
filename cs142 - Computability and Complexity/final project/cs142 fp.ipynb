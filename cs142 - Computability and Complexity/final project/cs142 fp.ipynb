{
 "cells": [
  {
   "cell_type": "code",
   "execution_count": 11,
   "metadata": {},
   "outputs": [],
   "source": [
    "from itertools import combinations\n",
    "import networkx as nx\n",
    "from threading import Thread\n",
    "import pylab"
   ]
  },
  {
   "cell_type": "code",
   "execution_count": 41,
   "metadata": {},
   "outputs": [],
   "source": [
    "def TMVC(g, k):\n",
    "    \"\"\"\n",
    "    The main Program. If the TM accepts, it will print \"Accept\".\n",
    "    If the TM rejects, it will not print anything.\n",
    "    In the end, the log \"Main program ends\" is printed.\n",
    "    \n",
    "    Inputs:\n",
    "    - g: graph instance (e.g., the one created by networkx)\n",
    "    - k: the size of the supposed vertex cover\n",
    "    \"\"\"\n",
    "    run_tmvc(g, k)\n",
    "    print('Main program ends')\n",
    "\n",
    "def run_tmvc(g, k):\n",
    "    for V_prime in combinations(list(g.nodes), k): # step 1 in the TMVC\n",
    "                                                   # Nondeterministically select k distinct vertices\n",
    "        t1 = Thread(target=verify, args=[g, V_prime]) # because this is a nondeterministic machine,\n",
    "                                                      # we use threading library to simulate concurrent computing\n",
    "        t1.start() # a call to start runs the thread \n",
    "        \n",
    "def verify(g, V):\n",
    "    \"\"\"\n",
    "    Step 2 in the TMVC\n",
    "    Inputs:\n",
    "    - g: graph instance (e.g., the one created by networkx)\n",
    "    - V: the proposed set of vertices as vertex cover\n",
    "    \"\"\"\n",
    "    # for each edge in g\n",
    "    for edge in list(g.edges):\n",
    "        u, v = edge[0], edge[1] # the two vertices the edge connects\n",
    "        # if both vertices are not in V, we reject and this branch of computation halts\n",
    "        if not (u in V or v in V):\n",
    "            return\n",
    "    # the below statements are reached if all the edges passed the test\n",
    "    print('Accept')\n",
    "    # print out the vertex cover for debugging purposes only.\n",
    "    # This is not required and not a supposed output of the TM\n",
    "    print('Vertex cover:', V)"
   ]
  },
  {
   "cell_type": "markdown",
   "metadata": {},
   "source": [
    "# Demo 1"
   ]
  },
  {
   "cell_type": "markdown",
   "metadata": {},
   "source": [
    "Let us observe the following graph"
   ]
  },
  {
   "cell_type": "code",
   "execution_count": 42,
   "metadata": {},
   "outputs": [
    {
     "data": {
      "image/png": "[encoded data removed]",
      "text/plain": [
       "<Figure size 432x288 with 1 Axes>"
      ]
     },
     "metadata": {},
     "output_type": "display_data"
    }
   ],
   "source": [
    "# create a graph\n",
    "g = nx.Graph()\n",
    "g.add_nodes_from([1, 2, 3, 4, 5])\n",
    "g.add_edges_from([(1,3), (2,3), (1,5), (2,4),(2,5)])\n",
    "\n",
    "# visualize the graph\n",
    "g.pos = nx.spring_layout(g)\n",
    "nx.draw(g, pos=g.pos, with_labels=True, \n",
    "       alpha=1)\n",
    "pylab.show()"
   ]
  },
  {
   "cell_type": "markdown",
   "metadata": {},
   "source": [
    "It turns out that this graph have the minimum vertex cover of size 2: {1,2}. Therefore, for $k<2$, the machine should reject, and for $k >= 2$, the machine should accept. "
   ]
  },
  {
   "cell_type": "code",
   "execution_count": 43,
   "metadata": {},
   "outputs": [
    {
     "name": "stdout",
     "output_type": "stream",
     "text": [
      "Main program ends\n"
     ]
    }
   ],
   "source": [
    "TMVC(g, 1)"
   ]
  },
  {
   "cell_type": "code",
   "execution_count": 44,
   "metadata": {},
   "outputs": [
    {
     "name": "stdout",
     "output_type": "stream",
     "text": [
      "Accept\n",
      "Vertex cover: (1, 2)\n",
      "Main program ends\n"
     ]
    }
   ],
   "source": [
    "TMVC(g, 2)"
   ]
  },
  {
   "cell_type": "code",
   "execution_count": 47,
   "metadata": {},
   "outputs": [
    {
     "name": "stdout",
     "output_type": "stream",
     "text": [
      "Accept\n",
      "Vertex cover: (1, 2, 3)\n",
      "Accept\n",
      "Vertex cover: (1, 2, 4)\n",
      "Accept\n",
      "Vertex cover: (1, 2, 5)\n",
      "Accept\n",
      "Vertex cover: (2, 3, 5)\n",
      "Accept\n",
      "Vertex cover: (3, 4, 5)\n",
      "Main program ends\n"
     ]
    }
   ],
   "source": [
    "TMVC(g, 3)"
   ]
  },
  {
   "cell_type": "code",
   "execution_count": 46,
   "metadata": {},
   "outputs": [
    {
     "name": "stdout",
     "output_type": "stream",
     "text": [
      "Accept\n",
      "Vertex cover: (1, 2, 3, 4)\n",
      "Accept\n",
      "Vertex cover: (1, 2, 3, 5)\n",
      "Accept\n",
      "Vertex cover: (1, 2, 4, 5)\n",
      "Accept\n",
      "Vertex cover: (1, 3, 4, 5)\n",
      "Accept\n",
      "Vertex cover:Main program ends\n",
      " (2, 3, 4, 5)\n"
     ]
    }
   ],
   "source": [
    "TMVC(g, 4)"
   ]
  },
  {
   "cell_type": "code",
   "execution_count": 48,
   "metadata": {},
   "outputs": [
    {
     "name": "stdout",
     "output_type": "stream",
     "text": [
      "AcceptMain program ends\n",
      "\n",
      "Vertex cover: (1, 2, 3, 4, 5)\n"
     ]
    }
   ],
   "source": [
    "TMVC(g, 5)"
   ]
  },
  {
   "cell_type": "markdown",
   "metadata": {},
   "source": [
    "# Demo 2"
   ]
  },
  {
   "cell_type": "markdown",
   "metadata": {},
   "source": [
    "A more complicated example. Look at the left-most graph in this link: \n",
    "http://mathworld.wolfram.com/VertexCover.html"
   ]
  },
  {
   "cell_type": "code",
   "execution_count": 50,
   "metadata": {},
   "outputs": [
    {
     "data": {
      "image/png": "[encoded data removed]",
      "text/plain": [
       "<Figure size 432x288 with 1 Axes>"
      ]
     },
     "metadata": {},
     "output_type": "display_data"
    }
   ],
   "source": [
    "# create a graph\n",
    "g = nx.Graph()\n",
    "g.add_nodes_from(list(range(1,9)))\n",
    "\n",
    "list_edge = []\n",
    "for i in range(2,9):\n",
    "    list_edge.append((1,i))\n",
    "for i in range(2,8):\n",
    "    list_edge.append((i,i+1))\n",
    "list_edge.append((2,8))\n",
    "g.add_edges_from(list_edge)\n",
    "\n",
    "# visualize the graph\n",
    "g.pos = nx.spring_layout(g)\n",
    "nx.draw(g, pos=g.pos, with_labels=True, \n",
    "       alpha=1)\n",
    "pylab.show()"
   ]
  },
  {
   "cell_type": "markdown",
   "metadata": {},
   "source": [
    "The minimum vertex cover has size 5. For $k<5$ TMVC rejects. For $k>=5$, it accepts."
   ]
  },
  {
   "cell_type": "code",
   "execution_count": 51,
   "metadata": {},
   "outputs": [
    {
     "name": "stdout",
     "output_type": "stream",
     "text": [
      "Main program ends\n"
     ]
    }
   ],
   "source": [
    "TMVC(g, 0)"
   ]
  },
  {
   "cell_type": "code",
   "execution_count": 52,
   "metadata": {},
   "outputs": [
    {
     "name": "stdout",
     "output_type": "stream",
     "text": [
      "Main program ends\n"
     ]
    }
   ],
   "source": [
    "TMVC(g, 1)"
   ]
  },
  {
   "cell_type": "code",
   "execution_count": 53,
   "metadata": {},
   "outputs": [
    {
     "name": "stdout",
     "output_type": "stream",
     "text": [
      "Main program ends\n"
     ]
    }
   ],
   "source": [
    "TMVC(g, 2)"
   ]
  },
  {
   "cell_type": "code",
   "execution_count": 54,
   "metadata": {},
   "outputs": [
    {
     "name": "stdout",
     "output_type": "stream",
     "text": [
      "Main program ends\n"
     ]
    }
   ],
   "source": [
    "TMVC(g, 3)"
   ]
  },
  {
   "cell_type": "code",
   "execution_count": 55,
   "metadata": {},
   "outputs": [
    {
     "name": "stdout",
     "output_type": "stream",
     "text": [
      "Main program ends\n"
     ]
    }
   ],
   "source": [
    "TMVC(g, 4)"
   ]
  },
  {
   "cell_type": "code",
   "execution_count": 56,
   "metadata": {},
   "outputs": [
    {
     "name": "stdout",
     "output_type": "stream",
     "text": [
      "Accept\n",
      "Vertex cover: (1, 2, 3, 5, 7)\n",
      "Accept\n",
      "Vertex cover: (1, 2, 4, 5, 7)\n",
      "Accept\n",
      "Vertex cover: (1, 2, 4, 6, 7)\n",
      "Accept\n",
      "Vertex cover: (1, 2, 4, 6, 8)\n",
      "Accept\n",
      "Vertex cover: (1, 3, 4, 6, 8)\n",
      "Accept\n",
      "Vertex cover: (1, 3, 5, 6, 8)\n",
      "Accept\n",
      "Vertex cover: (1, 3, 5, 7, 8)\n",
      "Main program ends\n"
     ]
    }
   ],
   "source": [
    "TMVC(g, 5)"
   ]
  },
  {
   "cell_type": "code",
   "execution_count": 57,
   "metadata": {},
   "outputs": [
    {
     "name": "stdout",
     "output_type": "stream",
     "text": [
      "Accept\n",
      "Vertex cover: (1, 2, 3, 4, 5, 7)\n",
      "Accept\n",
      "Vertex cover: (1, 2, 3, 4, 6, 7)\n",
      "Accept\n",
      "Vertex cover: (1, 2, 3, 4, 6, 8)\n",
      "Accept\n",
      "Vertex cover: (1, 2, 3, 5, 6, 7)\n",
      "Accept\n",
      "Vertex cover: (1, 2, 3, 5, 6, 8)\n",
      "Accept\n",
      "Vertex cover: (1, 2, 3, 5, 7, 8)\n",
      "Accept\n",
      "Vertex cover: (1, 2, 4, 5, 6, 7)\n",
      "Accept\n",
      "Vertex cover: (1, 2, 4, 5, 6, 8)\n",
      "Accept\n",
      "Vertex cover: (1, 2, 4, 5, 7, 8)\n",
      "Accept\n",
      "Vertex cover: (1, 2, 4, 6, 7, 8)\n",
      "Accept\n",
      "Vertex cover: (1, 3, 4, 5, 6, 8)\n",
      "Accept\n",
      "Vertex cover: (1, 3, 4, 5, 7, 8)\n",
      "Accept\n",
      "Vertex cover: (1, 3, 4, 6, 7, 8)\n",
      "Accept\n",
      "Vertex cover: (1, 3, 5, 6, 7, 8)\n",
      "Main program ends\n"
     ]
    }
   ],
   "source": [
    "TMVC(g, 6)"
   ]
  },
  {
   "cell_type": "code",
   "execution_count": 58,
   "metadata": {},
   "outputs": [
    {
     "name": "stdout",
     "output_type": "stream",
     "text": [
      "Accept\n",
      "Vertex cover: (1, 2, 3, 4, 5, 6, 7)\n",
      "Accept\n",
      "Vertex cover: (1, 2, 3, 4, 5, 6, 8)\n",
      "Accept\n",
      "Vertex cover: (1, 2, 3, 4, 5, 7, 8)\n",
      "Accept\n",
      "Vertex cover: (1, 2, 3, 4, 6, 7, 8)\n",
      "Accept\n",
      "Vertex cover: (1, 2, 3, 5, 6, 7, 8)\n",
      "Accept\n",
      "Vertex cover: (1, 2, 4, 5, 6, 7, 8)\n",
      "Accept\n",
      "Vertex cover: (1, 3, 4, 5, 6, 7, 8)\n",
      "AcceptMain program ends\n",
      "\n",
      "Vertex cover: (2, 3, 4, 5, 6, 7, 8)\n"
     ]
    }
   ],
   "source": [
    "TMVC(g, 7)"
   ]
  },
  {
   "cell_type": "code",
   "execution_count": 59,
   "metadata": {},
   "outputs": [
    {
     "name": "stdout",
     "output_type": "stream",
     "text": [
      "Accept\n",
      "Vertex cover: (1, 2, 3, 4, 5, 6, 7, 8)\n",
      "Main program ends\n"
     ]
    }
   ],
   "source": [
    "TMVC(g, 8)"
   ]
  }
 ],
 "metadata": {
  "kernelspec": {
   "display_name": "Python 3",
   "language": "python",
   "name": "python3"
  },
  "language_info": {
   "codemirror_mode": {
    "name": "ipython",
    "version": 3
   },
   "file_extension": ".py",
   "mimetype": "text/x-python",
   "name": "python",
   "nbconvert_exporter": "python",
   "pygments_lexer": "ipython3",
   "version": "3.6.5"
  }
 },
 "nbformat": 4,
 "nbformat_minor": 2
}
