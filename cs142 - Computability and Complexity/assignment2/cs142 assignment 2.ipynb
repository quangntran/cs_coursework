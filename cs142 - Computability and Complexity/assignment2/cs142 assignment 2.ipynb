{
 "cells": [
  {
   "cell_type": "code",
   "execution_count": 81,
   "metadata": {},
   "outputs": [],
   "source": [
    "# First we import the base automaton\n",
    "from automata.base.automaton import Automaton #Begin by importing the following\n",
    "from automata.fa.fa import FA   # FA is the class of Finite Automata\n",
    "from automata.fa.nfa import NFA # NFA is tha class of Nondeterministic Finite Automata depends on FA"
   ]
  },
  {
   "cell_type": "code",
   "execution_count": 103,
   "metadata": {},
   "outputs": [
    {
     "data": {
      "text/plain": [
       "{'q0',\n",
       " 'q1',\n",
       " 'q10',\n",
       " 'q11',\n",
       " 'q12',\n",
       " 'q13',\n",
       " 'q14',\n",
       " 'q15',\n",
       " 'q16',\n",
       " 'q17',\n",
       " 'q18',\n",
       " 'q19',\n",
       " 'q2',\n",
       " 'q20',\n",
       " 'q21',\n",
       " 'q22',\n",
       " 'q23',\n",
       " 'q24',\n",
       " 'q25',\n",
       " 'q26',\n",
       " 'q27',\n",
       " 'q28',\n",
       " 'q29',\n",
       " 'q3',\n",
       " 'q30',\n",
       " 'q31',\n",
       " 'q4',\n",
       " 'q4a',\n",
       " 'q5',\n",
       " 'q6',\n",
       " 'q7',\n",
       " 'q8',\n",
       " 'q9'}"
      ]
     },
     "execution_count": 103,
     "metadata": {},
     "output_type": "execute_result"
    }
   ],
   "source": [
    "\"\"\"\n",
    "The formal definition requires the 5 tuple <Q, Sigma, Delta, qo, F>\n",
    "For NFAs, use '' to represent the empty string (epsilon) transitions\n",
    "\"\"\"\n",
    "states_lst = []\n",
    "for i in range(32):\n",
    "    states_lst.append('q' + str(i))\n",
    "states_lst.append('q4a')\n",
    "states = {state for state in states_lst}\n",
    "states\n"
   ]
  },
  {
   "cell_type": "code",
   "execution_count": 104,
   "metadata": {},
   "outputs": [
    {
     "name": "stdout",
     "output_type": "stream",
     "text": [
      "{'-', 'R', 'Q', '4', '=', 'i', 'B', 'N', '.', '8', '7', '<=', ' ', '+', 'd', 'j', 'n', 'p', 'V', '1', 'K', 'M', 'L', 'I', 'U', 'Z', '0', 'w', 'q', 'r', 'u', 'C', 'W', 'F', 'a', 'P', 'm', '>=', 'T', 'A', 'f', 'b', 't', 'S', '<', 'l', 'e', 'D', 'E', 'X', 'J', 'v', 'g', '6', '2', 'c', '3', 'h', 'x', 'y', 'o', 'Y', 'G', '5', 'z', 'O', 'k', 'H', '9', '>', 's'}\n",
      "Alphabet size: 71\n"
     ]
    }
   ],
   "source": [
    "#define critical sets for the alphabets\n",
    "import string\n",
    "lower = string.ascii_lowercase\n",
    "upper = string.ascii_uppercase\n",
    "\n",
    "# list of English letters 'A', 'a', 'B', 'b', ...\n",
    "S_AZ = [letter for letter in list(lower)] + [letter for letter in list(upper)]\n",
    "S_cond = ['>','<','=','<=','>=']\n",
    "D = [str(i) for i in range(10)] # list of digits\n",
    "others = ['.', '+', '-', ' ' ]\n",
    "alphabet = S_AZ + S_cond + D + others\n",
    "input_symbols = {symbol for symbol in alphabet}\n",
    "print(input_symbols)\n",
    "print('Alphabet size:', len(alphabet))"
   ]
  },
  {
   "cell_type": "code",
   "execution_count": 132,
   "metadata": {},
   "outputs": [
    {
     "name": "stdout",
     "output_type": "stream",
     "text": [
      "{'t': {'q13'}}\n"
     ]
    }
   ],
   "source": [
    "\n",
    "# transitions for some states that are complicated\n",
    "q4 = {character: {'q5'} for character in S_cond}\n",
    "q4['<'] = {'q4a','q5'}\n",
    "q4['>'] = {'q4a','q5'}\n",
    "q7 = {character: {'q7', 'q8'} for character in D}\n",
    "q7['.'] = {'q9'}\n",
    "\n",
    "q8 = {character: {'q8'} for character in D}\n",
    "q8['.'] = {'q9'}\n",
    "q8[''] = {'q11'}\n",
    "\n",
    "q10 = {character: {'q10'} for character in D}\n",
    "q10[''] = {'q11'}\n",
    "\n",
    "q21 = {character: {'q21', 'q22'} for character in D}\n",
    "q21['.'] = {'q23'}\n",
    "\n",
    "q22 = {character: {'q22'} for character in D}\n",
    "q22['.'] = {'q23'}\n",
    "q22[''] = {'q25'}\n",
    "\n",
    "q24 = {character: {'q24'} for character in D}\n",
    "q24[''] = {'q25'}\n",
    "\n",
    "# construct transition table\n",
    "transitions = {\n",
    "    'q0': {'I': {'q1'}},\n",
    "    'q1': {'f': {'q2'}},\n",
    "    'q2': {' ': {'q3'}},\n",
    "    'q3': {character: {'q4'} for character in S_AZ},\n",
    "#     'q4': {character: {'q5'} for character in S_cond},\n",
    "    'q4':q4,\n",
    "    'q4a': {'=': {'q5'}},\n",
    "    'q5': {'': {'q7'}, '+': {'q6'}, '-':{'q6'}},\n",
    "    'q6': {'': {'q7'}},\n",
    "    'q7': q7,\n",
    "    'q8': q8,\n",
    "    'q9': {'': {'q10'}},\n",
    "    'q10': q10,\n",
    "    'q11': {' ': {'q12'}},\n",
    "    'q12': {'t': {'q13'}},\n",
    "    'q13': {'h': {'q14'}},\n",
    "    'q14': {'e': {'q15'}},\n",
    "    'q15': {'n': {'q16'}},\n",
    "    'q16': {' ': {'q17'}},\n",
    "    'q17': {character: {'q18'} for character in S_AZ},\n",
    "    'q18': {'=': {'q19'}},\n",
    "    'q19': {'+': {'q20'}, '-': {'q20'}, '': {'q21'}},\n",
    "    'q20': {'': {'q21'}},\n",
    "    'q21': q21,\n",
    "    'q22': q22,\n",
    "    'q23': {'': {'q24'}},\n",
    "    'q24': q24,\n",
    "    'q25': {' ': {'q26'}},\n",
    "    'q26': {'e': {'q27'}},\n",
    "    'q27': {'n': {'q28'}},\n",
    "    'q28': {'d': {'q29'}},\n",
    "    'q29': {'i': {'q30'}},\n",
    "    'q30': {'f': {'q31'}},\n",
    "    'q31': {}\n",
    "}\n",
    "print(transitions['q12'])"
   ]
  },
  {
   "cell_type": "code",
   "execution_count": 140,
   "metadata": {},
   "outputs": [
    {
     "name": "stdout",
     "output_type": "stream",
     "text": [
      "True\n",
      "False\n"
     ]
    }
   ],
   "source": [
    "nfa = NFA(\n",
    "    states=states,\n",
    "    input_symbols=input_symbols,\n",
    "    transitions=transitions,\n",
    "    initial_state='q0',\n",
    "    final_states={'q31'}\n",
    ")\n",
    "# test with examples in the assignment\n",
    "\n",
    "print(nfa.accepts_input(\"If A<0 then B=10.5 endif\")) # should print True\n",
    "print(nfa.accepts_input(\"If A>0 then B=10.5e2\")) # should print False\n"
   ]
  },
  {
   "cell_type": "markdown",
   "metadata": {},
   "source": [
    "# Test cases and print out the states"
   ]
  },
  {
   "cell_type": "code",
   "execution_count": 156,
   "metadata": {},
   "outputs": [
    {
     "name": "stdout",
     "output_type": "stream",
     "text": [
      "True\n",
      "{'q0'}\n",
      "{'q1'}\n",
      "{'q2'}\n",
      "{'q3'}\n",
      "{'q4'}\n",
      "{'q7', 'q4a', 'q5'}\n",
      "{'q7', 'q5'}\n",
      "{'q8', 'q7', 'q11'}\n",
      "{'q12'}\n",
      "{'q13'}\n",
      "{'q14'}\n",
      "{'q15'}\n",
      "{'q16'}\n",
      "{'q17'}\n",
      "{'q18'}\n",
      "{'q21', 'q19'}\n",
      "{'q21', 'q20'}\n",
      "{'q25', 'q23', 'q24'}\n",
      "{'q25', 'q24'}\n",
      "{'q26'}\n",
      "{'q27'}\n",
      "{'q28'}\n",
      "{'q29'}\n",
      "{'q30'}\n",
      "{'q31'}\n"
     ]
    }
   ],
   "source": [
    "# should accept\n",
    "test = 'If A<=0 then G=-.5 endif' \n",
    "print(nfa.accepts_input(test))\n",
    "for i in nfa.read_input_stepwise(test):\n",
    "    print(i)"
   ]
  },
  {
   "cell_type": "code",
   "execution_count": 155,
   "metadata": {},
   "outputs": [
    {
     "name": "stdout",
     "output_type": "stream",
     "text": [
      "True\n",
      "{'q0'}\n",
      "{'q1'}\n",
      "{'q2'}\n",
      "{'q3'}\n",
      "{'q4'}\n",
      "{'q7', 'q4a', 'q5'}\n",
      "{'q7', 'q5'}\n",
      "{'q7', 'q6'}\n",
      "{'q8', 'q7', 'q11'}\n",
      "{'q8', 'q7', 'q11'}\n",
      "{'q8', 'q7', 'q11'}\n",
      "{'q8', 'q7', 'q11'}\n",
      "{'q8', 'q7', 'q11'}\n",
      "{'q9', 'q11', 'q10'}\n",
      "{'q11', 'q10'}\n",
      "{'q11', 'q10'}\n",
      "{'q11', 'q10'}\n",
      "{'q12'}\n",
      "{'q13'}\n",
      "{'q14'}\n",
      "{'q15'}\n",
      "{'q16'}\n",
      "{'q17'}\n",
      "{'q18'}\n",
      "{'q21', 'q19'}\n",
      "{'q25', 'q21', 'q22'}\n",
      "{'q23', 'q24', 'q25'}\n",
      "{'q26'}\n",
      "{'q27'}\n",
      "{'q28'}\n",
      "{'q29'}\n",
      "{'q30'}\n",
      "{'q31'}\n"
     ]
    }
   ],
   "source": [
    "# should accept \n",
    "test = 'If A>=+15345.233 then G=1. endif'\n",
    "print(nfa.accepts_input(test))\n",
    "for i in nfa.read_input_stepwise(test):\n",
    "    print(i)"
   ]
  },
  {
   "cell_type": "code",
   "execution_count": 157,
   "metadata": {},
   "outputs": [
    {
     "name": "stdout",
     "output_type": "stream",
     "text": [
      "True\n",
      "{'q0'}\n",
      "{'q1'}\n",
      "{'q2'}\n",
      "{'q3'}\n",
      "{'q4'}\n",
      "{'q7', 'q4a', 'q5'}\n",
      "{'q7', 'q6'}\n",
      "{'q9', 'q11', 'q10'}\n",
      "{'q11', 'q10'}\n",
      "{'q11', 'q10'}\n",
      "{'q11', 'q10'}\n",
      "{'q11', 'q10'}\n",
      "{'q12'}\n",
      "{'q13'}\n",
      "{'q14'}\n",
      "{'q15'}\n",
      "{'q16'}\n",
      "{'q17'}\n",
      "{'q18'}\n",
      "{'q21', 'q19'}\n",
      "{'q21', 'q20'}\n",
      "{'q25', 'q21', 'q22'}\n",
      "{'q23', 'q24', 'q25'}\n",
      "{'q25', 'q24'}\n",
      "{'q26'}\n",
      "{'q27'}\n",
      "{'q28'}\n",
      "{'q29'}\n",
      "{'q30'}\n",
      "{'q31'}\n"
     ]
    }
   ],
   "source": [
    "# should accept \n",
    "test = 'If A<-.2343 then T=-1.1 endif'\n",
    "\n",
    "print(nfa.accepts_input(test))\n",
    "for i in nfa.read_input_stepwise(test):\n",
    "    print(i)"
   ]
  },
  {
   "cell_type": "code",
   "execution_count": 158,
   "metadata": {},
   "outputs": [
    {
     "name": "stdout",
     "output_type": "stream",
     "text": [
      "False\n",
      "{'q0'}\n",
      "{'q1'}\n",
      "set()\n",
      "set()\n",
      "set()\n",
      "set()\n",
      "set()\n",
      "set()\n",
      "set()\n",
      "set()\n",
      "set()\n",
      "set()\n",
      "set()\n",
      "set()\n",
      "set()\n",
      "set()\n",
      "set()\n",
      "set()\n",
      "set()\n",
      "set()\n",
      "set()\n",
      "set()\n",
      "set()\n",
      "set()\n",
      "set()\n",
      "set()\n",
      "set()\n",
      "set()\n",
      "set()\n",
      "set()\n"
     ]
    },
    {
     "ename": "RejectionException",
     "evalue": "the NFA stopped on all non-final states ()",
     "output_type": "error",
     "traceback": [
      "\u001b[0;31m---------------------------------------------------------------------------\u001b[0m",
      "\u001b[0;31mRejectionException\u001b[0m                        Traceback (most recent call last)",
      "\u001b[0;32m<ipython-input-158-8a5ba0fb6ab0>\u001b[0m in \u001b[0;36m<module>\u001b[0;34m()\u001b[0m\n\u001b[1;32m      2\u001b[0m \u001b[0mtest\u001b[0m \u001b[0;34m=\u001b[0m \u001b[0;34m'I f <-.2343 then T=-1.1 endif'\u001b[0m\u001b[0;34m\u001b[0m\u001b[0m\n\u001b[1;32m      3\u001b[0m \u001b[0mprint\u001b[0m\u001b[0;34m(\u001b[0m\u001b[0mnfa\u001b[0m\u001b[0;34m.\u001b[0m\u001b[0maccepts_input\u001b[0m\u001b[0;34m(\u001b[0m\u001b[0mtest\u001b[0m\u001b[0;34m)\u001b[0m\u001b[0;34m)\u001b[0m\u001b[0;34m\u001b[0m\u001b[0m\n\u001b[0;32m----> 4\u001b[0;31m \u001b[0;32mfor\u001b[0m \u001b[0mi\u001b[0m \u001b[0;32min\u001b[0m \u001b[0mnfa\u001b[0m\u001b[0;34m.\u001b[0m\u001b[0mread_input_stepwise\u001b[0m\u001b[0;34m(\u001b[0m\u001b[0mtest\u001b[0m\u001b[0;34m)\u001b[0m\u001b[0;34m:\u001b[0m\u001b[0;34m\u001b[0m\u001b[0m\n\u001b[0m\u001b[1;32m      5\u001b[0m     \u001b[0mprint\u001b[0m\u001b[0;34m(\u001b[0m\u001b[0mi\u001b[0m\u001b[0;34m)\u001b[0m\u001b[0;34m\u001b[0m\u001b[0m\n",
      "\u001b[0;32m/anaconda3/lib/python3.6/site-packages/automata/fa/nfa.py\u001b[0m in \u001b[0;36mread_input_stepwise\u001b[0;34m(self, input_str)\u001b[0m\n\u001b[1;32m    118\u001b[0m             \u001b[0;32myield\u001b[0m \u001b[0mcurrent_states\u001b[0m\u001b[0;34m\u001b[0m\u001b[0m\n\u001b[1;32m    119\u001b[0m \u001b[0;34m\u001b[0m\u001b[0m\n\u001b[0;32m--> 120\u001b[0;31m         \u001b[0mself\u001b[0m\u001b[0;34m.\u001b[0m\u001b[0m_check_for_input_rejection\u001b[0m\u001b[0;34m(\u001b[0m\u001b[0mcurrent_states\u001b[0m\u001b[0;34m)\u001b[0m\u001b[0;34m\u001b[0m\u001b[0m\n\u001b[0m",
      "\u001b[0;32m/anaconda3/lib/python3.6/site-packages/automata/fa/nfa.py\u001b[0m in \u001b[0;36m_check_for_input_rejection\u001b[0;34m(self, current_states)\u001b[0m\n\u001b[1;32m    102\u001b[0m             raise exceptions.RejectionException(\n\u001b[1;32m    103\u001b[0m                 'the NFA stopped on all non-final states ({})'.format(\n\u001b[0;32m--> 104\u001b[0;31m                     ', '.join(current_states)))\n\u001b[0m\u001b[1;32m    105\u001b[0m \u001b[0;34m\u001b[0m\u001b[0m\n\u001b[1;32m    106\u001b[0m     \u001b[0;32mdef\u001b[0m \u001b[0mread_input_stepwise\u001b[0m\u001b[0;34m(\u001b[0m\u001b[0mself\u001b[0m\u001b[0;34m,\u001b[0m \u001b[0minput_str\u001b[0m\u001b[0;34m)\u001b[0m\u001b[0;34m:\u001b[0m\u001b[0;34m\u001b[0m\u001b[0m\n",
      "\u001b[0;31mRejectionException\u001b[0m: the NFA stopped on all non-final states ()"
     ]
    }
   ],
   "source": [
    "# should reject because there is a space inbetween the If\n",
    "test = 'I f <-.2343 then T=-1.1 endif'\n",
    "print(nfa.accepts_input(test))\n",
    "for i in nfa.read_input_stepwise(test):\n",
    "    print(i)"
   ]
  },
  {
   "cell_type": "code",
   "execution_count": 159,
   "metadata": {},
   "outputs": [
    {
     "name": "stdout",
     "output_type": "stream",
     "text": [
      "False\n",
      "{'q0'}\n",
      "set()\n",
      "set()\n",
      "set()\n",
      "set()\n",
      "set()\n",
      "set()\n",
      "set()\n",
      "set()\n",
      "set()\n",
      "set()\n",
      "set()\n",
      "set()\n",
      "set()\n",
      "set()\n",
      "set()\n",
      "set()\n",
      "set()\n",
      "set()\n",
      "set()\n",
      "set()\n",
      "set()\n",
      "set()\n",
      "set()\n",
      "set()\n"
     ]
    },
    {
     "ename": "RejectionException",
     "evalue": "the NFA stopped on all non-final states ()",
     "output_type": "error",
     "traceback": [
      "\u001b[0;31m---------------------------------------------------------------------------\u001b[0m",
      "\u001b[0;31mRejectionException\u001b[0m                        Traceback (most recent call last)",
      "\u001b[0;32m<ipython-input-159-0325cc6ee968>\u001b[0m in \u001b[0;36m<module>\u001b[0;34m()\u001b[0m\n\u001b[1;32m      2\u001b[0m \u001b[0mtest\u001b[0m \u001b[0;34m=\u001b[0m \u001b[0;34m'if A<=0 then G=-.5 endif'\u001b[0m\u001b[0;34m\u001b[0m\u001b[0m\n\u001b[1;32m      3\u001b[0m \u001b[0mprint\u001b[0m\u001b[0;34m(\u001b[0m\u001b[0mnfa\u001b[0m\u001b[0;34m.\u001b[0m\u001b[0maccepts_input\u001b[0m\u001b[0;34m(\u001b[0m\u001b[0mtest\u001b[0m\u001b[0;34m)\u001b[0m\u001b[0;34m)\u001b[0m\u001b[0;34m\u001b[0m\u001b[0m\n\u001b[0;32m----> 4\u001b[0;31m \u001b[0;32mfor\u001b[0m \u001b[0mi\u001b[0m \u001b[0;32min\u001b[0m \u001b[0mnfa\u001b[0m\u001b[0;34m.\u001b[0m\u001b[0mread_input_stepwise\u001b[0m\u001b[0;34m(\u001b[0m\u001b[0mtest\u001b[0m\u001b[0;34m)\u001b[0m\u001b[0;34m:\u001b[0m\u001b[0;34m\u001b[0m\u001b[0m\n\u001b[0m\u001b[1;32m      5\u001b[0m     \u001b[0mprint\u001b[0m\u001b[0;34m(\u001b[0m\u001b[0mi\u001b[0m\u001b[0;34m)\u001b[0m\u001b[0;34m\u001b[0m\u001b[0m\n",
      "\u001b[0;32m/anaconda3/lib/python3.6/site-packages/automata/fa/nfa.py\u001b[0m in \u001b[0;36mread_input_stepwise\u001b[0;34m(self, input_str)\u001b[0m\n\u001b[1;32m    118\u001b[0m             \u001b[0;32myield\u001b[0m \u001b[0mcurrent_states\u001b[0m\u001b[0;34m\u001b[0m\u001b[0m\n\u001b[1;32m    119\u001b[0m \u001b[0;34m\u001b[0m\u001b[0m\n\u001b[0;32m--> 120\u001b[0;31m         \u001b[0mself\u001b[0m\u001b[0;34m.\u001b[0m\u001b[0m_check_for_input_rejection\u001b[0m\u001b[0;34m(\u001b[0m\u001b[0mcurrent_states\u001b[0m\u001b[0;34m)\u001b[0m\u001b[0;34m\u001b[0m\u001b[0m\n\u001b[0m",
      "\u001b[0;32m/anaconda3/lib/python3.6/site-packages/automata/fa/nfa.py\u001b[0m in \u001b[0;36m_check_for_input_rejection\u001b[0;34m(self, current_states)\u001b[0m\n\u001b[1;32m    102\u001b[0m             raise exceptions.RejectionException(\n\u001b[1;32m    103\u001b[0m                 'the NFA stopped on all non-final states ({})'.format(\n\u001b[0;32m--> 104\u001b[0;31m                     ', '.join(current_states)))\n\u001b[0m\u001b[1;32m    105\u001b[0m \u001b[0;34m\u001b[0m\u001b[0m\n\u001b[1;32m    106\u001b[0m     \u001b[0;32mdef\u001b[0m \u001b[0mread_input_stepwise\u001b[0m\u001b[0;34m(\u001b[0m\u001b[0mself\u001b[0m\u001b[0;34m,\u001b[0m \u001b[0minput_str\u001b[0m\u001b[0;34m)\u001b[0m\u001b[0;34m:\u001b[0m\u001b[0;34m\u001b[0m\u001b[0m\n",
      "\u001b[0;31mRejectionException\u001b[0m: the NFA stopped on all non-final states ()"
     ]
    }
   ],
   "source": [
    "# should reject because if is not capitalized\n",
    "test = 'if A<=0 then G=-.5 endif'\n",
    "print(nfa.accepts_input(test))\n",
    "for i in nfa.read_input_stepwise(test):\n",
    "    print(i)"
   ]
  },
  {
   "cell_type": "code",
   "execution_count": 160,
   "metadata": {},
   "outputs": [
    {
     "name": "stdout",
     "output_type": "stream",
     "text": [
      "False\n",
      "{'q0'}\n",
      "{'q1'}\n",
      "{'q2'}\n",
      "{'q3'}\n",
      "{'q4'}\n",
      "{'q7', 'q4a', 'q5'}\n",
      "{'q7', 'q5'}\n",
      "{'q8', 'q7', 'q11'}\n",
      "{'q12'}\n",
      "{'q13'}\n",
      "{'q14'}\n",
      "{'q15'}\n",
      "{'q16'}\n",
      "{'q17'}\n",
      "{'q18'}\n",
      "{'q21', 'q19'}\n",
      "{'q21', 'q20'}\n",
      "{'q25', 'q23', 'q24'}\n",
      "{'q25', 'q24'}\n",
      "{'q26'}\n",
      "{'q27'}\n",
      "{'q28'}\n",
      "{'q29'}\n",
      "set()\n",
      "set()\n",
      "set()\n"
     ]
    },
    {
     "ename": "RejectionException",
     "evalue": "the NFA stopped on all non-final states ()",
     "output_type": "error",
     "traceback": [
      "\u001b[0;31m---------------------------------------------------------------------------\u001b[0m",
      "\u001b[0;31mRejectionException\u001b[0m                        Traceback (most recent call last)",
      "\u001b[0;32m<ipython-input-160-772160984bb4>\u001b[0m in \u001b[0;36m<module>\u001b[0;34m()\u001b[0m\n\u001b[1;32m      2\u001b[0m \u001b[0mtest\u001b[0m \u001b[0;34m=\u001b[0m \u001b[0;34m'If A<=0 then G=-.5 end if'\u001b[0m\u001b[0;34m\u001b[0m\u001b[0m\n\u001b[1;32m      3\u001b[0m \u001b[0mprint\u001b[0m\u001b[0;34m(\u001b[0m\u001b[0mnfa\u001b[0m\u001b[0;34m.\u001b[0m\u001b[0maccepts_input\u001b[0m\u001b[0;34m(\u001b[0m\u001b[0mtest\u001b[0m\u001b[0;34m)\u001b[0m\u001b[0;34m)\u001b[0m\u001b[0;34m\u001b[0m\u001b[0m\n\u001b[0;32m----> 4\u001b[0;31m \u001b[0;32mfor\u001b[0m \u001b[0mi\u001b[0m \u001b[0;32min\u001b[0m \u001b[0mnfa\u001b[0m\u001b[0;34m.\u001b[0m\u001b[0mread_input_stepwise\u001b[0m\u001b[0;34m(\u001b[0m\u001b[0mtest\u001b[0m\u001b[0;34m)\u001b[0m\u001b[0;34m:\u001b[0m\u001b[0;34m\u001b[0m\u001b[0m\n\u001b[0m\u001b[1;32m      5\u001b[0m     \u001b[0mprint\u001b[0m\u001b[0;34m(\u001b[0m\u001b[0mi\u001b[0m\u001b[0;34m)\u001b[0m\u001b[0;34m\u001b[0m\u001b[0m\n",
      "\u001b[0;32m/anaconda3/lib/python3.6/site-packages/automata/fa/nfa.py\u001b[0m in \u001b[0;36mread_input_stepwise\u001b[0;34m(self, input_str)\u001b[0m\n\u001b[1;32m    118\u001b[0m             \u001b[0;32myield\u001b[0m \u001b[0mcurrent_states\u001b[0m\u001b[0;34m\u001b[0m\u001b[0m\n\u001b[1;32m    119\u001b[0m \u001b[0;34m\u001b[0m\u001b[0m\n\u001b[0;32m--> 120\u001b[0;31m         \u001b[0mself\u001b[0m\u001b[0;34m.\u001b[0m\u001b[0m_check_for_input_rejection\u001b[0m\u001b[0;34m(\u001b[0m\u001b[0mcurrent_states\u001b[0m\u001b[0;34m)\u001b[0m\u001b[0;34m\u001b[0m\u001b[0m\n\u001b[0m",
      "\u001b[0;32m/anaconda3/lib/python3.6/site-packages/automata/fa/nfa.py\u001b[0m in \u001b[0;36m_check_for_input_rejection\u001b[0;34m(self, current_states)\u001b[0m\n\u001b[1;32m    102\u001b[0m             raise exceptions.RejectionException(\n\u001b[1;32m    103\u001b[0m                 'the NFA stopped on all non-final states ({})'.format(\n\u001b[0;32m--> 104\u001b[0;31m                     ', '.join(current_states)))\n\u001b[0m\u001b[1;32m    105\u001b[0m \u001b[0;34m\u001b[0m\u001b[0m\n\u001b[1;32m    106\u001b[0m     \u001b[0;32mdef\u001b[0m \u001b[0mread_input_stepwise\u001b[0m\u001b[0;34m(\u001b[0m\u001b[0mself\u001b[0m\u001b[0;34m,\u001b[0m \u001b[0minput_str\u001b[0m\u001b[0;34m)\u001b[0m\u001b[0;34m:\u001b[0m\u001b[0;34m\u001b[0m\u001b[0m\n",
      "\u001b[0;31mRejectionException\u001b[0m: the NFA stopped on all non-final states ()"
     ]
    }
   ],
   "source": [
    "# should reject because there is a white space in endif\n",
    "test = 'If A<=0 then G=-.5 end if' \n",
    "print(nfa.accepts_input(test))\n",
    "for i in nfa.read_input_stepwise(test):\n",
    "    print(i)"
   ]
  },
  {
   "cell_type": "code",
   "execution_count": 161,
   "metadata": {},
   "outputs": [
    {
     "name": "stdout",
     "output_type": "stream",
     "text": [
      "False\n",
      "{'q0'}\n",
      "set()\n",
      "set()\n",
      "set()\n",
      "set()\n",
      "set()\n",
      "set()\n",
      "set()\n",
      "set()\n",
      "set()\n",
      "set()\n",
      "set()\n",
      "set()\n",
      "set()\n",
      "set()\n",
      "set()\n",
      "set()\n",
      "set()\n",
      "set()\n",
      "set()\n",
      "set()\n",
      "set()\n",
      "set()\n"
     ]
    },
    {
     "ename": "RejectionException",
     "evalue": "the NFA stopped on all non-final states ()",
     "output_type": "error",
     "traceback": [
      "\u001b[0;31m---------------------------------------------------------------------------\u001b[0m",
      "\u001b[0;31mRejectionException\u001b[0m                        Traceback (most recent call last)",
      "\u001b[0;32m<ipython-input-161-0a16703463bc>\u001b[0m in \u001b[0;36m<module>\u001b[0;34m()\u001b[0m\n\u001b[1;32m      2\u001b[0m \u001b[0mtest\u001b[0m \u001b[0;34m=\u001b[0m \u001b[0;34m'if A<=0thenG=-.5 endif'\u001b[0m\u001b[0;34m\u001b[0m\u001b[0m\n\u001b[1;32m      3\u001b[0m \u001b[0mprint\u001b[0m\u001b[0;34m(\u001b[0m\u001b[0mnfa\u001b[0m\u001b[0;34m.\u001b[0m\u001b[0maccepts_input\u001b[0m\u001b[0;34m(\u001b[0m\u001b[0mtest\u001b[0m\u001b[0;34m)\u001b[0m\u001b[0;34m)\u001b[0m\u001b[0;34m\u001b[0m\u001b[0m\n\u001b[0;32m----> 4\u001b[0;31m \u001b[0;32mfor\u001b[0m \u001b[0mi\u001b[0m \u001b[0;32min\u001b[0m \u001b[0mnfa\u001b[0m\u001b[0;34m.\u001b[0m\u001b[0mread_input_stepwise\u001b[0m\u001b[0;34m(\u001b[0m\u001b[0mtest\u001b[0m\u001b[0;34m)\u001b[0m\u001b[0;34m:\u001b[0m\u001b[0;34m\u001b[0m\u001b[0m\n\u001b[0m\u001b[1;32m      5\u001b[0m     \u001b[0mprint\u001b[0m\u001b[0;34m(\u001b[0m\u001b[0mi\u001b[0m\u001b[0;34m)\u001b[0m\u001b[0;34m\u001b[0m\u001b[0m\n",
      "\u001b[0;32m/anaconda3/lib/python3.6/site-packages/automata/fa/nfa.py\u001b[0m in \u001b[0;36mread_input_stepwise\u001b[0;34m(self, input_str)\u001b[0m\n\u001b[1;32m    118\u001b[0m             \u001b[0;32myield\u001b[0m \u001b[0mcurrent_states\u001b[0m\u001b[0;34m\u001b[0m\u001b[0m\n\u001b[1;32m    119\u001b[0m \u001b[0;34m\u001b[0m\u001b[0m\n\u001b[0;32m--> 120\u001b[0;31m         \u001b[0mself\u001b[0m\u001b[0;34m.\u001b[0m\u001b[0m_check_for_input_rejection\u001b[0m\u001b[0;34m(\u001b[0m\u001b[0mcurrent_states\u001b[0m\u001b[0;34m)\u001b[0m\u001b[0;34m\u001b[0m\u001b[0m\n\u001b[0m",
      "\u001b[0;32m/anaconda3/lib/python3.6/site-packages/automata/fa/nfa.py\u001b[0m in \u001b[0;36m_check_for_input_rejection\u001b[0;34m(self, current_states)\u001b[0m\n\u001b[1;32m    102\u001b[0m             raise exceptions.RejectionException(\n\u001b[1;32m    103\u001b[0m                 'the NFA stopped on all non-final states ({})'.format(\n\u001b[0;32m--> 104\u001b[0;31m                     ', '.join(current_states)))\n\u001b[0m\u001b[1;32m    105\u001b[0m \u001b[0;34m\u001b[0m\u001b[0m\n\u001b[1;32m    106\u001b[0m     \u001b[0;32mdef\u001b[0m \u001b[0mread_input_stepwise\u001b[0m\u001b[0;34m(\u001b[0m\u001b[0mself\u001b[0m\u001b[0;34m,\u001b[0m \u001b[0minput_str\u001b[0m\u001b[0;34m)\u001b[0m\u001b[0;34m:\u001b[0m\u001b[0;34m\u001b[0m\u001b[0m\n",
      "\u001b[0;31mRejectionException\u001b[0m: the NFA stopped on all non-final states ()"
     ]
    }
   ],
   "source": [
    "# should reject because there is no whitespace before or after 'then'\n",
    "test = 'if A<=0thenG=-.5 endif' \n",
    "print(nfa.accepts_input(test))\n",
    "for i in nfa.read_input_stepwise(test):\n",
    "    print(i)"
   ]
  },
  {
   "cell_type": "code",
   "execution_count": null,
   "metadata": {},
   "outputs": [],
   "source": []
  }
 ],
 "metadata": {
  "kernelspec": {
   "display_name": "Python 3",
   "language": "python",
   "name": "python3"
  },
  "language_info": {
   "codemirror_mode": {
    "name": "ipython",
    "version": 3
   },
   "file_extension": ".py",
   "mimetype": "text/x-python",
   "name": "python",
   "nbconvert_exporter": "python",
   "pygments_lexer": "ipython3",
   "version": "3.6.5"
  }
 },
 "nbformat": 4,
 "nbformat_minor": 2
}
