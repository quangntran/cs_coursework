{
 "cells": [
  {
   "cell_type": "markdown",
   "metadata": {
    "colab_type": "text",
    "id": "4ngOTAUQ04PW"
   },
   "source": [
    "<h2>CS142 - Computability and Complexity </h2>\n",
    "<h3>Using the Python Automata Simulation Library</h3>\n",
    "<h3> by Yanal Marji</h3>\n",
    "<b>Automata</b> is Python library Copyright 2016-2019 Caleb Evans\n",
    "Released under the MIT license.<br><br>\n",
    "This notebook is meant to introduce you to simulating DFAs and NFAs using the Python library <b>Automata</b></br>\n",
    "The library was selected because it accurately defines and simulates the behavior of automata. Here we focus on these two features of the library:\n",
    "<UL>\n",
    "    <li> NFAs and DFAs are created using the exact formal definition (make sure you understand these defintions and document them in your programs), \n",
    "    <li> The library respects the limited capability of DFAs and NFAs (e.g., read an input string, accept or reject)\n",
    "</UL> \n",
    "You don't need to go to new lengths to learn concepts you haven't encountered yet, independently of your Python coding level, you should be able to explain and exercise the concepts covered in the first 9 lessons of CS142.\n",
    "\n",
    "To begin using automata-lib, you need to install the Python package on your computer.\n",
    "<p align=\"center\"><b> > pip install automata-lib</b></p> \n",
    "Make sure you are using the correct python in your computer.  If you want to use this package within anaconda, make sure you are using the pip package that is in anacond (e.g., >/anaconda3/bin/pip install . . )<br>"
   ]
  },
  {
   "cell_type": "code",
   "execution_count": 4,
   "metadata": {},
   "outputs": [
    {
     "name": "stdout",
     "output_type": "stream",
     "text": [
      "Collecting automata-lib\n",
      "  Downloading https://files.pythonhosted.org/packages/2e/7e/6dcd9d009fa9ffb7fa36f934b04684d7e343c544d986255a8d2f5cd00b1a/automata-lib-3.1.0.post1.tar.gz\n",
      "Building wheels for collected packages: automata-lib\n",
      "  Building wheel for automata-lib (setup.py) ... \u001b[?25ldone\n",
      "\u001b[?25h  Stored in directory: /Users/admin/Library/Caches/pip/wheels/9b/d9/97/cb0722b32b0a10156e42dce12a80c58ed4709aca11633a5315\n",
      "Successfully built automata-lib\n",
      "Installing collected packages: automata-lib\n",
      "Successfully installed automata-lib-3.1.0.post1\n",
      "\u001b[33mWARNING: You are using pip version 19.1.1, however version 19.3.1 is available.\n",
      "You should consider upgrading via the 'pip install --upgrade pip' command.\u001b[0m\n"
     ]
    }
   ],
   "source": [
    "! pip install automata-lib"
   ]
  },
  {
   "cell_type": "code",
   "execution_count": 5,
   "metadata": {
    "colab": {},
    "colab_type": "code",
    "id": "0kGV1A2504PY"
   },
   "outputs": [],
   "source": [
    "# First we import the base automaton\n",
    "from automata.base.automaton import Automaton #Begin by importing the following\n",
    "from automata.fa.fa import FA   # FA is the class of Finite Automata\n",
    "from automata.fa.dfa import DFA # DFA is the class of Deterministic Finite Automata depends on FA\n",
    "from automata.fa.nfa import NFA # NFA is tha class of Nondeterministic Finite Automata depends on FA"
   ]
  },
  {
   "cell_type": "markdown",
   "metadata": {
    "colab_type": "text",
    "id": "MlttN0CJ04Pb"
   },
   "source": [
    "<H2> Deterministic Finite Automata (DFA)</H2>"
   ]
  },
  {
   "cell_type": "code",
   "execution_count": 6,
   "metadata": {
    "colab": {},
    "colab_type": "code",
    "id": "L1rYwQss04Pc"
   },
   "outputs": [],
   "source": [
    "\"\"\"\n",
    "Here is how we can define and create a DFA using automata-lib.  \n",
    "This is an example that follows exercise 1.6 A from Sipser\n",
    "L(D) = {w| w begins with a 1 and ends with a 0}\n",
    "The formal definition requires the 5 tuple <Q, Sigma, Delta, qo, F>\n",
    "\"\"\"\n",
    "dfa = DFA(\n",
    "    states={'q0', 'q1', 'q2', 'q3'}, #Enumerate the states of the automaton\n",
    "    input_symbols={'0', '1'}, #The alphabet\n",
    "    transitions={\n",
    "        'q0': {'0': 'q3', '1': 'q1'}, #The transitions\n",
    "        'q1': {'0': 'q2', '1': 'q1'},\n",
    "        'q2': {'0': 'q2', '1': 'q1'},\n",
    "        'q3': {'0': 'q3', '1': 'q3'}\n",
    "    },\n",
    "    initial_state='q0',\n",
    "    final_states={'q2'}\n",
    ")"
   ]
  },
  {
   "cell_type": "code",
   "execution_count": 7,
   "metadata": {
    "colab": {},
    "colab_type": "code",
    "id": "i5X4Gcsz04Pe"
   },
   "outputs": [
    {
     "name": "stdout",
     "output_type": "stream",
     "text": [
      "q2\n",
      "q2\n"
     ]
    },
    {
     "ename": "RejectionException",
     "evalue": "the DFA stopped on a non-final state (q1)",
     "output_type": "error",
     "traceback": [
      "\u001b[0;31m---------------------------------------------------------------------------\u001b[0m",
      "\u001b[0;31mRejectionException\u001b[0m                        Traceback (most recent call last)",
      "\u001b[0;32m<ipython-input-7-ba79d9bfe033>\u001b[0m in \u001b[0;36m<module>\u001b[0;34m()\u001b[0m\n\u001b[1;32m     15\u001b[0m \u001b[0mprint\u001b[0m\u001b[0;34m(\u001b[0m\u001b[0mdfa\u001b[0m\u001b[0;34m.\u001b[0m\u001b[0mread_input\u001b[0m\u001b[0;34m(\u001b[0m\u001b[0;34m\"10\"\u001b[0m\u001b[0;34m)\u001b[0m\u001b[0;34m)\u001b[0m\u001b[0;34m\u001b[0m\u001b[0m\n\u001b[1;32m     16\u001b[0m \u001b[0mprint\u001b[0m\u001b[0;34m(\u001b[0m\u001b[0mdfa\u001b[0m\u001b[0;34m.\u001b[0m\u001b[0mread_input\u001b[0m\u001b[0;34m(\u001b[0m\u001b[0;34m\"100011101010\"\u001b[0m\u001b[0;34m)\u001b[0m\u001b[0;34m)\u001b[0m\u001b[0;34m\u001b[0m\u001b[0m\n\u001b[0;32m---> 17\u001b[0;31m \u001b[0mprint\u001b[0m\u001b[0;34m(\u001b[0m\u001b[0mdfa\u001b[0m\u001b[0;34m.\u001b[0m\u001b[0mread_input\u001b[0m\u001b[0;34m(\u001b[0m\u001b[0;34m\"100111001\"\u001b[0m\u001b[0;34m)\u001b[0m\u001b[0;34m)\u001b[0m   \u001b[0;31m#this prints an error!\u001b[0m\u001b[0;34m\u001b[0m\u001b[0m\n\u001b[0m",
      "\u001b[0;32m/anaconda3/lib/python3.6/site-packages/automata/base/automaton.py\u001b[0m in \u001b[0;36mread_input\u001b[0;34m(self, input_str)\u001b[0m\n\u001b[1;32m     32\u001b[0m         \"\"\"\n\u001b[1;32m     33\u001b[0m         \u001b[0mvalidation_generator\u001b[0m \u001b[0;34m=\u001b[0m \u001b[0mself\u001b[0m\u001b[0;34m.\u001b[0m\u001b[0mread_input_stepwise\u001b[0m\u001b[0;34m(\u001b[0m\u001b[0minput_str\u001b[0m\u001b[0;34m)\u001b[0m\u001b[0;34m\u001b[0m\u001b[0m\n\u001b[0;32m---> 34\u001b[0;31m         \u001b[0;32mfor\u001b[0m \u001b[0mconfig\u001b[0m \u001b[0;32min\u001b[0m \u001b[0mvalidation_generator\u001b[0m\u001b[0;34m:\u001b[0m\u001b[0;34m\u001b[0m\u001b[0m\n\u001b[0m\u001b[1;32m     35\u001b[0m             \u001b[0;32mpass\u001b[0m\u001b[0;34m\u001b[0m\u001b[0m\n\u001b[1;32m     36\u001b[0m         \u001b[0;32mreturn\u001b[0m \u001b[0mconfig\u001b[0m\u001b[0;34m\u001b[0m\u001b[0m\n",
      "\u001b[0;32m/anaconda3/lib/python3.6/site-packages/automata/fa/dfa.py\u001b[0m in \u001b[0;36mread_input_stepwise\u001b[0;34m(self, input_str)\u001b[0m\n\u001b[1;32m    103\u001b[0m             \u001b[0;32myield\u001b[0m \u001b[0mcurrent_state\u001b[0m\u001b[0;34m\u001b[0m\u001b[0m\n\u001b[1;32m    104\u001b[0m \u001b[0;34m\u001b[0m\u001b[0m\n\u001b[0;32m--> 105\u001b[0;31m         \u001b[0mself\u001b[0m\u001b[0;34m.\u001b[0m\u001b[0m_check_for_input_rejection\u001b[0m\u001b[0;34m(\u001b[0m\u001b[0mcurrent_state\u001b[0m\u001b[0;34m)\u001b[0m\u001b[0;34m\u001b[0m\u001b[0m\n\u001b[0m\u001b[1;32m    106\u001b[0m \u001b[0;34m\u001b[0m\u001b[0m\n\u001b[1;32m    107\u001b[0m     \u001b[0;32mdef\u001b[0m \u001b[0mminify\u001b[0m\u001b[0;34m(\u001b[0m\u001b[0mself\u001b[0m\u001b[0;34m)\u001b[0m\u001b[0;34m:\u001b[0m\u001b[0;34m\u001b[0m\u001b[0m\n",
      "\u001b[0;32m/anaconda3/lib/python3.6/site-packages/automata/fa/dfa.py\u001b[0m in \u001b[0;36m_check_for_input_rejection\u001b[0;34m(self, current_state)\u001b[0m\n\u001b[1;32m     87\u001b[0m             raise exceptions.RejectionException(\n\u001b[1;32m     88\u001b[0m                 'the DFA stopped on a non-final state ({})'.format(\n\u001b[0;32m---> 89\u001b[0;31m                     current_state))\n\u001b[0m\u001b[1;32m     90\u001b[0m \u001b[0;34m\u001b[0m\u001b[0m\n\u001b[1;32m     91\u001b[0m     \u001b[0;32mdef\u001b[0m \u001b[0mread_input_stepwise\u001b[0m\u001b[0;34m(\u001b[0m\u001b[0mself\u001b[0m\u001b[0;34m,\u001b[0m \u001b[0minput_str\u001b[0m\u001b[0;34m)\u001b[0m\u001b[0;34m:\u001b[0m\u001b[0;34m\u001b[0m\u001b[0m\n",
      "\u001b[0;31mRejectionException\u001b[0m: the DFA stopped on a non-final state (q1)"
     ]
    }
   ],
   "source": [
    "\"\"\"\n",
    "Recall that the DFA computation only involves recognizing whether a string is in a language.\n",
    "Therefore, DFA can only accept a string (reach and accept state) or reject it (doesn't reach \n",
    "an accept state by the time it completes reading the input string)\n",
    "\n",
    "In this automata-lib there are two main methods associate with DFAs:\n",
    "Method 1 is  read_input(\"input-string\").\n",
    "    This method returns the final state of the DFA after it reads all the input string. \n",
    "    If the DFA accepts, it reaches one of the accept states, else it rejects by never getting\n",
    "    to one of the accept states.  If it reject, this implementation returns an error (ends in the wrong state)\n",
    "\n",
    "Consider the following input string examples of the first method: \"10\", \"100011101010\", \"100111001\"\n",
    "\"\"\"\n",
    "\n",
    "print(dfa.read_input(\"10\"))\n",
    "print(dfa.read_input(\"100011101010\"))\n",
    "print(dfa.read_input(\"100111001\"))   #this prints an error!\n"
   ]
  },
  {
   "cell_type": "code",
   "execution_count": 8,
   "metadata": {
    "colab": {},
    "colab_type": "code",
    "id": "UvDBwwqZ04Pg"
   },
   "outputs": [
    {
     "name": "stdout",
     "output_type": "stream",
     "text": [
      "True\n",
      "True\n",
      "False\n"
     ]
    }
   ],
   "source": [
    "\"\"\"\n",
    "Method 2 is accepts_input(input-string).\n",
    "    This method returns True if the DFA accepted the string, otherwise returns False.\n",
    "    Thus, it tells us whether the DFA accepts the string or not.\n",
    "\n",
    "Consider the following input string examples of the second method: \"10\", \"100011101010\", \"100111001\"\n",
    "\"\"\"\n",
    "print(dfa.accepts_input(\"10\"))\n",
    "print(dfa.accepts_input(\"100011101010\"))\n",
    "print(dfa.accepts_input(\"100111001\"))"
   ]
  },
  {
   "cell_type": "code",
   "execution_count": 9,
   "metadata": {
    "colab": {},
    "colab_type": "code",
    "id": "AXj_KYEd04Pi"
   },
   "outputs": [
    {
     "name": "stdout",
     "output_type": "stream",
     "text": [
      "q0\n",
      "q1\n",
      "q2\n",
      "q1\n",
      "q2\n",
      "q1\n",
      "q2\n",
      "q1\n",
      "q2\n",
      "q1\n",
      "q2\n",
      "q1\n",
      "q2\n",
      "The DFA Accepts the Input String\n"
     ]
    }
   ],
   "source": [
    "\"\"\"\n",
    "The method to step through the DFA computation, one character at a time, doesn't work properly, so\n",
    "to do that, you can do the following after defining the DFA:\n",
    "\"\"\"\n",
    "\n",
    "def DFAIncremental(DFA, Input):\n",
    "    StorageList = []\n",
    "    current_state = DFA.initial_state\n",
    "    print(current_state)\n",
    "    for i in Input:                  # Reading the input string, Input, one character a time\n",
    "        current_state = DFA._get_next_current_state(\n",
    "            current_state, i)\n",
    "        print(current_state)\n",
    "        StorageList.append(current_state)\n",
    "    if StorageList[(len(StorageList))-1] in DFA.final_states:\n",
    "        print(\"The DFA Accepts the Input String\")\n",
    "    else:\n",
    "        print(\"The DFA Rejects the Input String\")\n",
    "\n",
    "DFAIncremental(dfa,\"101010101010\")"
   ]
  },
  {
   "cell_type": "code",
   "execution_count": 10,
   "metadata": {
    "colab": {},
    "colab_type": "code",
    "id": "Yd5o4Cy104Pk"
   },
   "outputs": [
    {
     "data": {
      "text/plain": [
       "{'q0', 'q1', 'q2', 'q3'}"
      ]
     },
     "execution_count": 10,
     "metadata": {},
     "output_type": "execute_result"
    }
   ],
   "source": [
    "\"\"\"\n",
    "Two more useful methods you can use are DFA.minify() and DFA.from_nfa.\n",
    "minify simplifies the DFA, as in creates a DFA that accepts the same language as the input DFA, but with less states,\n",
    "if such a smaller DFA exists.\n",
    "from_nfa converts an NFA into a corresponding DFA (since for every NFA, there exists a corresponding DFA that accepts\n",
    "the same language)\n",
    "\"\"\"\n",
    "\n",
    "minimized_dfa = dfa.minify()\n",
    "minimized_dfa.states #ask for the new dfa's states to see if it was actually minified\n",
    "#the result tells us that this is the smallest possible DFA and cannot be simplified further."
   ]
  },
  {
   "cell_type": "markdown",
   "metadata": {
    "colab_type": "text",
    "id": "Q3xF2Qvv04Pm"
   },
   "source": [
    "<H2> Nondeterministic Finite Automata (NFA)</H2>"
   ]
  },
  {
   "cell_type": "code",
   "execution_count": 11,
   "metadata": {
    "colab": {},
    "colab_type": "code",
    "id": "RqgTA07w04Pn"
   },
   "outputs": [],
   "source": [
    "\"\"\"\n",
    "Here is how we can define and create a NFA using automata-lib.  \n",
    "This is an example that follows exercise 1.7 A from Sipser\n",
    "L(D) = {w| w ends with 00}\n",
    "The formal definition requires the 5 tuple <Q, Sigma, Delta, qo, F>\n",
    "For NFAs, use '' to represent the empty string (epsilon) transitions\n",
    "\"\"\"\n",
    "nfa = NFA(\n",
    "    states={'q0', 'q1', 'q2'},\n",
    "    input_symbols={'0', '1'},\n",
    "    transitions={\n",
    "        'q0': {'0': {'q1', 'q0'}, '1': {'q0'}},\n",
    "        'q1': {'0': {'q2'}},\n",
    "        'q2': {}\n",
    "    },\n",
    "    initial_state='q0',\n",
    "    final_states={'q2'}\n",
    ")\n",
    "\n"
   ]
  },
  {
   "cell_type": "code",
   "execution_count": 12,
   "metadata": {
    "colab": {},
    "colab_type": "code",
    "id": "pz_0obea04Pp"
   },
   "outputs": [
    {
     "name": "stdout",
     "output_type": "stream",
     "text": [
      "{'q0', 'q2', 'q1'}\n"
     ]
    },
    {
     "ename": "RejectionException",
     "evalue": "the NFA stopped on all non-final states (q0)",
     "output_type": "error",
     "traceback": [
      "\u001b[0;31m---------------------------------------------------------------------------\u001b[0m",
      "\u001b[0;31mRejectionException\u001b[0m                        Traceback (most recent call last)",
      "\u001b[0;32m<ipython-input-12-f34902549c49>\u001b[0m in \u001b[0;36m<module>\u001b[0;34m()\u001b[0m\n\u001b[1;32m     12\u001b[0m \"\"\"\n\u001b[1;32m     13\u001b[0m \u001b[0mprint\u001b[0m\u001b[0;34m(\u001b[0m\u001b[0mnfa\u001b[0m\u001b[0;34m.\u001b[0m\u001b[0mread_input\u001b[0m\u001b[0;34m(\u001b[0m\u001b[0;34m\"1000\"\u001b[0m\u001b[0;34m)\u001b[0m\u001b[0;34m)\u001b[0m\u001b[0;34m\u001b[0m\u001b[0m\n\u001b[0;32m---> 14\u001b[0;31m \u001b[0mnfa\u001b[0m\u001b[0;34m.\u001b[0m\u001b[0mread_input\u001b[0m\u001b[0;34m(\u001b[0m\u001b[0;34m\"101\"\u001b[0m\u001b[0;34m)\u001b[0m  \u001b[0;31m#returns error because nfa rejects this string\u001b[0m\u001b[0;34m\u001b[0m\u001b[0m\n\u001b[0m",
      "\u001b[0;32m/anaconda3/lib/python3.6/site-packages/automata/base/automaton.py\u001b[0m in \u001b[0;36mread_input\u001b[0;34m(self, input_str)\u001b[0m\n\u001b[1;32m     32\u001b[0m         \"\"\"\n\u001b[1;32m     33\u001b[0m         \u001b[0mvalidation_generator\u001b[0m \u001b[0;34m=\u001b[0m \u001b[0mself\u001b[0m\u001b[0;34m.\u001b[0m\u001b[0mread_input_stepwise\u001b[0m\u001b[0;34m(\u001b[0m\u001b[0minput_str\u001b[0m\u001b[0;34m)\u001b[0m\u001b[0;34m\u001b[0m\u001b[0m\n\u001b[0;32m---> 34\u001b[0;31m         \u001b[0;32mfor\u001b[0m \u001b[0mconfig\u001b[0m \u001b[0;32min\u001b[0m \u001b[0mvalidation_generator\u001b[0m\u001b[0;34m:\u001b[0m\u001b[0;34m\u001b[0m\u001b[0m\n\u001b[0m\u001b[1;32m     35\u001b[0m             \u001b[0;32mpass\u001b[0m\u001b[0;34m\u001b[0m\u001b[0m\n\u001b[1;32m     36\u001b[0m         \u001b[0;32mreturn\u001b[0m \u001b[0mconfig\u001b[0m\u001b[0;34m\u001b[0m\u001b[0m\n",
      "\u001b[0;32m/anaconda3/lib/python3.6/site-packages/automata/fa/nfa.py\u001b[0m in \u001b[0;36mread_input_stepwise\u001b[0;34m(self, input_str)\u001b[0m\n\u001b[1;32m    118\u001b[0m             \u001b[0;32myield\u001b[0m \u001b[0mcurrent_states\u001b[0m\u001b[0;34m\u001b[0m\u001b[0m\n\u001b[1;32m    119\u001b[0m \u001b[0;34m\u001b[0m\u001b[0m\n\u001b[0;32m--> 120\u001b[0;31m         \u001b[0mself\u001b[0m\u001b[0;34m.\u001b[0m\u001b[0m_check_for_input_rejection\u001b[0m\u001b[0;34m(\u001b[0m\u001b[0mcurrent_states\u001b[0m\u001b[0;34m)\u001b[0m\u001b[0;34m\u001b[0m\u001b[0m\n\u001b[0m",
      "\u001b[0;32m/anaconda3/lib/python3.6/site-packages/automata/fa/nfa.py\u001b[0m in \u001b[0;36m_check_for_input_rejection\u001b[0;34m(self, current_states)\u001b[0m\n\u001b[1;32m    102\u001b[0m             raise exceptions.RejectionException(\n\u001b[1;32m    103\u001b[0m                 'the NFA stopped on all non-final states ({})'.format(\n\u001b[0;32m--> 104\u001b[0;31m                     ', '.join(current_states)))\n\u001b[0m\u001b[1;32m    105\u001b[0m \u001b[0;34m\u001b[0m\u001b[0m\n\u001b[1;32m    106\u001b[0m     \u001b[0;32mdef\u001b[0m \u001b[0mread_input_stepwise\u001b[0m\u001b[0;34m(\u001b[0m\u001b[0mself\u001b[0m\u001b[0;34m,\u001b[0m \u001b[0minput_str\u001b[0m\u001b[0;34m)\u001b[0m\u001b[0;34m:\u001b[0m\u001b[0;34m\u001b[0m\u001b[0m\n",
      "\u001b[0;31mRejectionException\u001b[0m: the NFA stopped on all non-final states (q0)"
     ]
    }
   ],
   "source": [
    "\"\"\"\n",
    "Recall that the NFA computation only involves recognizing whether a string is in a language.\n",
    "Therefore, NFA can only accept a string (reach and accept state) or reject it (doesn't reach \n",
    "an accept state by the time it completes reading the input string). NFA can follow multiple\n",
    "parallel computational branches. \n",
    "\n",
    "In this automata-lib there are two main methods associate with NFAs:\n",
    "Method 1 is  read_input(\"input-string\").\n",
    "    This method returns the list of the states the automaton stops at (the multiple computation branches)\n",
    "    If an accept state is in the list, then the NFA accepts. Otherwise, it returns an error \n",
    "    (if the NFA rejects input)\n",
    "\"\"\"\n",
    "print(nfa.read_input(\"1000\"))\n",
    "nfa.read_input(\"101\")  #returns error because nfa rejects this string\n"
   ]
  },
  {
   "cell_type": "code",
   "execution_count": 13,
   "metadata": {
    "colab": {},
    "colab_type": "code",
    "id": "yK4XQK0x04Pr"
   },
   "outputs": [
    {
     "name": "stdout",
     "output_type": "stream",
     "text": [
      "True\n",
      "False\n"
     ]
    }
   ],
   "source": [
    "\"\"\"\n",
    "Method 2 is  accepts_input(\"input-string\").\n",
    "    This method returns True if the DFA accepted the string, otherwise returns False.\n",
    "    Thus, it tells us whether the DFA accepts the string or not.\n",
    "\"\"\"\n",
    "\n",
    "print(nfa.accepts_input(\"1000\"))\n",
    "print(nfa.accepts_input(\"101\"))"
   ]
  },
  {
   "cell_type": "code",
   "execution_count": 14,
   "metadata": {
    "colab": {},
    "colab_type": "code",
    "id": "-4GZ0lAs04Pu"
   },
   "outputs": [
    {
     "data": {
      "text/plain": [
       "{'q2'}"
      ]
     },
     "execution_count": 14,
     "metadata": {},
     "output_type": "execute_result"
    }
   ],
   "source": [
    "\"\"\"\n",
    "Similarly, the NFA object has a method NFA.from_dfa() which converts a DFA into a corresponding DFA that accepts the same\n",
    "language.\n",
    "\"\"\"\n",
    "nfa1 = NFA.from_dfa(dfa)\n",
    "nfa1.read_input(\"1100110\")"
   ]
  },
  {
   "cell_type": "code",
   "execution_count": 0,
   "metadata": {
    "colab": {},
    "colab_type": "code",
    "id": "A6ZBgN8F04Pw"
   },
   "outputs": [],
   "source": []
  }
 ],
 "metadata": {
  "colab": {
   "collapsed_sections": [],
   "name": "FA-automatelib.ipynb",
   "provenance": []
  },
  "kernelspec": {
   "display_name": "Python 3",
   "language": "python",
   "name": "python3"
  },
  "language_info": {
   "codemirror_mode": {
    "name": "ipython",
    "version": 3
   },
   "file_extension": ".py",
   "mimetype": "text/x-python",
   "name": "python",
   "nbconvert_exporter": "python",
   "pygments_lexer": "ipython3",
   "version": "3.6.5"
  }
 },
 "nbformat": 4,
 "nbformat_minor": 1
}
