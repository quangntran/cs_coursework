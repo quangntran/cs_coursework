{
 "cells": [
  {
   "cell_type": "markdown",
   "metadata": {},
   "source": [
    "# Part 1"
   ]
  },
  {
   "cell_type": "code",
   "execution_count": 384,
   "metadata": {},
   "outputs": [],
   "source": [
    "import string\n",
    "lower = string.ascii_lowercase\n",
    "input_symbols = list(lower) + [' ', ',']\n",
    "stack_symbols = ['$', 'S', '<Prep-Phrase>','<Main-S>', '<Verb-Phrase>','<Noun-Phrase>',\n",
    "                 '<Cmplx-Noun>', '<Cmplx-Verb>','<Prep>', '<Single-Cmplx-Noun>', \n",
    "                 '<Multip-Cmplx-Noun>','<a-Article>','<a-Adj>','<Noun>','<an-Article>',\n",
    "  '<an-Adj>','<THE>','<Adj>','<Pl-Noun>', '<a-Noun>', '<an-Noun>','<Other-Cmplx-Noun>',\n",
    "                 '<Verb>','']\n",
    "stack_symbols += list(string.ascii_uppercase) + ['$',''] + input_symbols\n",
    "\n"
   ]
  },
  {
   "cell_type": "code",
   "execution_count": 385,
   "metadata": {},
   "outputs": [],
   "source": [
    "q_loop = {\n",
    "    \n",
    "                  # variable S\n",
    "            '' : {'S' : {('q_loop', ('<Prep-Phrase>',',',' ','<Main-S>',)), # 1st rule \n",
    "                         ('q_loop', ('<Main-S>',)), # 2nd rule \n",
    "                         ('q_loop', ('<Prep-Phrase>', '<Verb-Phrase>','<Noun-Phrase>',))},# 3rd rule\n",
    "                  # variable <Main-S>\n",
    "                  '<Main-S>' : {('q_loop', ('<Noun-Phrase>','<Verb-Phrase>'))}, #involving q5\n",
    "                  # variable <Noun-Phrase>\n",
    "                  '<Noun-Phrase>' : {('q_loop', ('<Cmplx-Noun>',)), # 1st rule\n",
    "                                   ('q_loop', ('<Cmplx-Noun>','<Prep-Phrase>'))}, # 2nd rule\n",
    "                  # variable <Verb-Phrase>\n",
    "                  '<Verb-Phrase>' : {('q_loop', ('<Cmplx-Verb>',)), # 1st rule\n",
    "                                   ('q_loop', ('<Cmplx-Verb>','<Prep-Phrase>'))}, # 2nd rule\n",
    "                  # variable <Prep-Phrase>\n",
    "                  '<Prep-Phrase>' : {('q_loop', ('<Prep>','<Cmplx-Noun>'))},\n",
    "                  # vairable <Cmplx-Noun>\n",
    "                  '<Cmplx-Noun>' : {('q_loop', ('<Single-Cmplx-Noun>',)),\n",
    "                                    ('q_loop', ('<Multip-Cmplx-Noun>',))},\n",
    "                  # variable <Single-Cmplx-Noun>\n",
    "                  '<Single-Cmplx-Noun>' : {('q_loop', ('<a-Article>','<a-Adj>','<Noun>')), # 1st rule, involving q9, q10\n",
    "                                           ('q_loop', ('<an-Article>','<an-Adj>','<Noun>')), # 2nd rule, involving q11, q12\n",
    "                                           ('q_loop', ('<THE>','<Adj>','<Pl-Noun>')), # 3rd rule, q13 ,q14\n",
    "                                           ('q_loop', ('<a-Article>','<a-Noun>')), # 4th rule, q15\n",
    "                                           ('q_loop', ('<an-Article>','<an-Noun>'))},# 5th rule, q16\n",
    "                  # variable <Noun>\n",
    "                  '<Noun>' : {('q_loop', ('<a-Noun>',)),\n",
    "                              ('q_loop', ('<an-Noun>',))},\n",
    "                  # variable <Adj>\n",
    "                  '<Adj>' : {('q_loop', ('<a-Adj>',)),\n",
    "                             ('q_loop', ('<an-Adj>',))},\n",
    "                  # variable <a-Adj>\n",
    "                  '<a-Adj>' : {('q_loop', ''), # epsilon rule\n",
    "                             ('q_loop', 'great '), # great rule\n",
    "                             ('q_loop', 'nice '), # nice rule\n",
    "                             ('q_loop', 'tall ')},# tall rule\n",
    "                  # variable <an-Adj>\n",
    "                  '<an-Adj>' : {('q_loop', ''), # epsilon\n",
    "                                ('q_loop', 'old '), # old\n",
    "                                ('q_loop', 'odd ')},# odd\n",
    "                  # vairable <a-Noun>\n",
    "                  '<a-Noun>' : {('q_loop', 'banana '),\n",
    "                                ('q_loop', 'river '),\n",
    "                                ('q_loop', 'cat '),\n",
    "                                ('q_loop', 'car '),\n",
    "                                ('q_loop', 'home ')},\n",
    "                  # variable <an-Noun>\n",
    "                  '<an-Noun>' : {('q_loop', 'egg '),\n",
    "                               ('q_loop', 'eye '),\n",
    "                               ('q_loop', 'actor '),\n",
    "                               ('q_loop', 'app '),\n",
    "                               ('q_loop', 'ink ')},\n",
    "                  # variable Pl-Noun\n",
    "                  '<Pl-Noun>' : {('q_loop', 'bananas '),\n",
    "                                 ('q_loop', 'cats ')},\n",
    "                  # vairablle <a-Article>\n",
    "                  '<a-Article>' : {('q_loop', 'a '),\n",
    "                                   ('q_loop', 'the ')},\n",
    "                  # variable <an-Article>\n",
    "                  '<an-Article>' : {('q_loop', 'an '),\n",
    "                                    ('q_loop', 'the ')}, # the\n",
    "                  # variable <THE>\n",
    "                  '<THE>' : {('q_loop', 'the '),\n",
    "                             ('q_loop', '')},\n",
    "                  # variable <Multip-Cmplx-Noun>\n",
    "                  '<Multip-Cmplx-Noun>' : {('q_loop', ('<Single-Cmplx-Noun>','<Other-Cmplx-Noun>'))},\n",
    "                  # variable <Other-Cmplx-Noun>\n",
    "                  '<Other-Cmplx-Noun>' : {('q_loop', ''),\n",
    "                                          ('q_loop', (',',' ','<Multip-Cmplx-Noun>'))},\n",
    "                  # variable <Cmplx-Verb>\n",
    "                  '<Cmplx-Verb>' : {('q_loop', ('<Verb>',)),\n",
    "                                    ('q_loop', ('<Verb>','<Noun-Phrase>'))},\n",
    "                  # variable <Verb>\n",
    "                  '<Verb>' : {('q_loop', 'eats '),\n",
    "                              ('q_loop', 'goes '),\n",
    "                              ('q_loop', 'sings '),\n",
    "                              ('q_loop', 'acts '),\n",
    "                              ('q_loop', 'plays ')},\n",
    "                  # variable <Prep>\n",
    "                  '<Prep>' : {('q_loop', 'in '),\n",
    "                              ('q_loop', 'on '),\n",
    "                              ('q_loop', 'at ')},\n",
    "                  \n",
    "                  '$': {('q_accept', '')}\n",
    "                  }, \n",
    "        }\n",
    "# simple terminals\n",
    "for terminal in input_symbols:\n",
    "    q_loop[terminal] = {terminal : {('q_loop', '')}}  "
   ]
  },
  {
   "cell_type": "code",
   "execution_count": 386,
   "metadata": {},
   "outputs": [],
   "source": [
    "states = {'q0', 'q_loop', 'q_accept'}\n",
    "# there is no q_start as in the diagram because I initialize the stack with ['$']\n",
    "# so we start right from q0."
   ]
  },
  {
   "cell_type": "code",
   "execution_count": 387,
   "metadata": {},
   "outputs": [],
   "source": [
    "from automata.pda.npda import NPDA\n",
    "\n",
    "npda = NPDA(\n",
    "    states=states,\n",
    "    input_symbols=input_symbols,\n",
    "    stack_symbols=stack_symbols,\n",
    "    transitions={\n",
    "\n",
    "        'q0': {\n",
    "            '': {\n",
    "                '$': {('q_loop', ('S','$'))},\n",
    "            },\n",
    "        },\n",
    "        'q_loop': q_loop,\n",
    "       \n",
    "    },\n",
    "    initial_state='q0',\n",
    "    initial_stack_symbol='$',\n",
    "    final_states={'q_accept'},\n",
    "    acceptance_mode='final_state'\n",
    ")"
   ]
  },
  {
   "cell_type": "code",
   "execution_count": 388,
   "metadata": {},
   "outputs": [],
   "source": [
    "def parser1(w):\n",
    "    return npda.accepts_input(w)"
   ]
  },
  {
   "cell_type": "markdown",
   "metadata": {},
   "source": [
    "## Demo"
   ]
  },
  {
   "cell_type": "code",
   "execution_count": 389,
   "metadata": {},
   "outputs": [
    {
     "name": "stdout",
     "output_type": "stream",
     "text": [
      "True\n",
      "False\n",
      "True\n",
      "True\n",
      "False\n",
      "True\n",
      "False\n",
      "True\n",
      "True\n"
     ]
    }
   ],
   "source": [
    "\n",
    "# True, as shown in the main report\n",
    "print(parser1('the actor eats the bananas at the river '))\n",
    "\n",
    "# False, because the grammar requries a white space after every word. Because there\n",
    "# is no white space after \"river\", this returns False\n",
    "print(parser1('the actor eats the bananas at the river')) \n",
    "\n",
    "# True\n",
    "print(parser1('cats eats an egg ')) \n",
    "\n",
    "# True\n",
    "print(parser1('a cat , an actor eats an egg , a banana in a car ')) \n",
    "\n",
    "# False. because the grammar requries a white space after every word. Because there\n",
    "# is no white space after \"cat\", this returns False\n",
    "print(parser1('a cat, an actor eats an egg ')) \n",
    "\n",
    "# True\n",
    "print(parser1('at the river , the cats goes '))\n",
    "\n",
    "# False, because the grammar requires a white space after comma.\n",
    "print(parser1('at the river ,the cats goes '))\n",
    "\n",
    "# True\n",
    "print(parser1('at the car , the old cat eats an odd banana '))\n",
    "\n",
    "# True\n",
    "print(parser1('on the river sings an actor ')) \n",
    "# for i in npda.read_input_stepwise('the actor eats the bananas at the river '):\n",
    "#     print(i)"
   ]
  },
  {
   "cell_type": "markdown",
   "metadata": {},
   "source": [
    "# Part 3"
   ]
  },
  {
   "cell_type": "markdown",
   "metadata": {},
   "source": [
    "## c. Write a Python simulator for ParseFunc"
   ]
  },
  {
   "cell_type": "code",
   "execution_count": 390,
   "metadata": {},
   "outputs": [],
   "source": [
    "input_symbols = {'x','y','f','(',')', '=','+','-','*','/',\n",
    "                 '0','1','2','3','4','5','6','7','8','9','.','s','i',\n",
    "                 'n','c','o','e','p','q','r','t','l','o','g',','}\n",
    "stack_symbols = set(['S',  '<Argument>', '<Func>', '<Exp>', '<Operand>', '<Operator>', \n",
    "                 '<Num>', '<Pos-Num>', '<Int>', '<Digit>', '<RHS>'] + ['$','']+list(input_symbols))\n",
    "states = {'q0', 'q_loop', 'q_accept' }\n",
    "# there is no q_start as in the diagram because I initialize the stack with ['$']\n",
    "# so we start right from q0."
   ]
  },
  {
   "cell_type": "code",
   "execution_count": 391,
   "metadata": {},
   "outputs": [],
   "source": [
    "# new ver.\n",
    "q_loop = {\n",
    "                  # variable S\n",
    "            '' : {'S' : {('q_loop', ('f','(','<Argument>',')','=','<RHS>')), \n",
    "                         },\n",
    "                  # variable <RHS>\n",
    "                  '<RHS>': {('q_loop', ('<Exp>',)),\n",
    "                            ('q_loop', ('<Func>', '(', '<Exp>', ')')),\n",
    "                            ('q_loop', ('<RHS>','<Operator>','<RHS>'))},\n",
    "                  # variable <Argument>\n",
    "                  '<Argument>' : {('q_loop', 'x'),\n",
    "                                 ('q_loop', 'y'),\n",
    "                                 ('q_loop', 'x,y'),\n",
    "                                 ('q_loop', '')}, \n",
    "                  # variable <Func>\n",
    "                  '<Func>' : {('q_loop', 'sin'), # 1st rule\n",
    "                                                 ('q_loop', 'cos'),\n",
    "                                                 ('q_loop', 'exp'),\n",
    "                                                 ('q_loop', 'sqrt'),\n",
    "                                                 ('q_loop', 'log')}, \n",
    "                  # variable <Exp>\n",
    "                  '<Exp>' : {('q_loop', ('<Operand>',)), # 1st rule\n",
    "                                                ('q_loop', ('<Operand>','<Operator>','<Exp>')),\n",
    "                                                ('q_loop', ('<Func>', '(', '<Exp>', ')'))}, \n",
    "                  # variable <Operator>\n",
    "                  '<Operator>' : {('q_loop', '+'),\n",
    "                                                     ('q_loop', '-'),\n",
    "                                                     ('q_loop', '*'),\n",
    "                                                     ('q_loop', '/')},\n",
    "                  # vairable <Operand>\n",
    "                  '<Operand>' : {('q_loop', 'x'),\n",
    "                                                    ('q_loop', 'y'),\n",
    "                                                    ('q_loop', ('<Num>',))},\n",
    "                  # variable <Num>\n",
    "                  '<Num>' : {('q_loop', ('+', '<Pos-Num>')), # 1st rule,\n",
    "                                                ('q_loop', ('-', '<Pos-Num>')), # 2nd rule, \n",
    "                                                ('q_loop', ('<Pos-Num>',))},\n",
    "                  # variable <Pos-Num>\n",
    "                  '<Pos-Num>' : {('q_loop', ('<Int>',)),\n",
    "                                                    ('q_loop', ('<Int>', '.', '<Int>'))},\n",
    "                  # variable <Int>\n",
    "                  '<Int>' : {('q_loop', ('<Digit>',)),\n",
    "                                                ('q_loop', ('<Digit>', '<Int>'))},\n",
    "                  # variable <Digit>\n",
    "                  '<Digit>' : {('q_loop', '0'),\n",
    "                                                  ('q_loop', '1'),\n",
    "                                                  ('q_loop', '2'),\n",
    "                                                  ('q_loop', '3'),\n",
    "                                                  ('q_loop', '4'),\n",
    "                                                  ('q_loop', '5'),\n",
    "                                                  ('q_loop', '6'),\n",
    "                                                  ('q_loop', '7'),\n",
    "                                                  ('q_loop', '8'),\n",
    "                                                  ('q_loop', '9'),},\n",
    "                  '$': {('q_accept', '')}\n",
    "                \n",
    "                  \n",
    "        }\n",
    "}\n",
    "# simple terminals\n",
    "for terminal in input_symbols:\n",
    "    q_loop[terminal] = {terminal : {('q_loop', '')}}\n",
    "    "
   ]
  },
  {
   "cell_type": "code",
   "execution_count": 393,
   "metadata": {},
   "outputs": [],
   "source": [
    "from automata.pda.npda import NPDA\n",
    "\n",
    "npda = NPDA(\n",
    "    states=states,\n",
    "    input_symbols=input_symbols,\n",
    "    stack_symbols=stack_symbols,\n",
    "    transitions={\n",
    "        'q0': {\n",
    "            '': {\n",
    "                '$': {('q_loop', ('S','$'))},\n",
    "            },\n",
    "        },\n",
    "        'q_loop': q_loop,\n",
    "        \n",
    "    },\n",
    "    initial_state='q0',\n",
    "    initial_stack_symbol='$',\n",
    "    final_states={'q_accept'},\n",
    "    acceptance_mode='final_state'\n",
    ")"
   ]
  },
  {
   "cell_type": "code",
   "execution_count": 394,
   "metadata": {},
   "outputs": [],
   "source": [
    "def parsefunc(w):\n",
    "    return npda.accepts_input(w)"
   ]
  },
  {
   "cell_type": "markdown",
   "metadata": {},
   "source": [
    "## Demo"
   ]
  },
  {
   "cell_type": "code",
   "execution_count": 395,
   "metadata": {},
   "outputs": [
    {
     "name": "stdout",
     "output_type": "stream",
     "text": [
      "True\n",
      "True\n",
      "True\n",
      "True\n",
      "True\n"
     ]
    }
   ],
   "source": [
    "\n",
    "print(parsefunc('f(x,y)=sin(x)+sin(y/2)'))\n",
    "print(parsefunc('f(x,y)=log(x*cos(y-x))'))\n",
    "print(parsefunc('f(x,y)=sin(log(y+cos(x-3)))'))\n",
    "print(parsefunc('f(x,y)=x+y/+2.0'))\n",
    "print(parsefunc('f(y)=x-y/2'))\n"
   ]
  },
  {
   "cell_type": "markdown",
   "metadata": {},
   "source": [
    "## d. Python function generator"
   ]
  },
  {
   "cell_type": "code",
   "execution_count": 396,
   "metadata": {},
   "outputs": [],
   "source": [
    "def pygen(w):\n",
    "    if not parsefunc(w):\n",
    "        return 'Can\\'t be parsed'\n",
    "    parsed = w.split('=')\n",
    "    pycode = \"def \" + parsed[0] + ':\\n\\tz = ' + parsed[1] + '\\n\\treturn z'\n",
    "    return pycode"
   ]
  },
  {
   "cell_type": "markdown",
   "metadata": {},
   "source": [
    "### Demo"
   ]
  },
  {
   "cell_type": "code",
   "execution_count": 397,
   "metadata": {},
   "outputs": [
    {
     "name": "stdout",
     "output_type": "stream",
     "text": [
      "def f(x,y):\n",
      "\tz = sin(x)+sin(y/2)\n",
      "\treturn z\n"
     ]
    }
   ],
   "source": [
    "print(pygen('f(x,y)=sin(x)+sin(y/2)'))"
   ]
  },
  {
   "cell_type": "code",
   "execution_count": 398,
   "metadata": {},
   "outputs": [
    {
     "name": "stdout",
     "output_type": "stream",
     "text": [
      "def f(x,y):\n",
      "\tz = log(x*cos(y-x))\n",
      "\treturn z\n"
     ]
    }
   ],
   "source": [
    "print(pygen('f(x,y)=log(x*cos(y-x))'))"
   ]
  },
  {
   "cell_type": "code",
   "execution_count": 399,
   "metadata": {},
   "outputs": [
    {
     "name": "stdout",
     "output_type": "stream",
     "text": [
      "def f(x,y):\n",
      "\tz = sin(log(y+cos(x-3)))\n",
      "\treturn z\n"
     ]
    }
   ],
   "source": [
    "print(pygen('f(x,y)=sin(log(y+cos(x-3)))'))"
   ]
  },
  {
   "cell_type": "code",
   "execution_count": 400,
   "metadata": {},
   "outputs": [
    {
     "name": "stdout",
     "output_type": "stream",
     "text": [
      "def f(x):\n",
      "\tz = x\n",
      "\treturn z\n"
     ]
    }
   ],
   "source": [
    "print(pygen('f(x)=x'))"
   ]
  },
  {
   "cell_type": "code",
   "execution_count": 401,
   "metadata": {},
   "outputs": [
    {
     "name": "stdout",
     "output_type": "stream",
     "text": [
      "def f(x):\n",
      "\tz = -10.3/x\n",
      "\treturn z\n"
     ]
    }
   ],
   "source": [
    "print(pygen('f(x)=-10.3/x'))"
   ]
  }
 ],
 "metadata": {
  "kernelspec": {
   "display_name": "Python 3",
   "language": "python",
   "name": "python3"
  },
  "language_info": {
   "codemirror_mode": {
    "name": "ipython",
    "version": 3
   },
   "file_extension": ".py",
   "mimetype": "text/x-python",
   "name": "python",
   "nbconvert_exporter": "python",
   "pygments_lexer": "ipython3",
   "version": "3.6.5"
  }
 },
 "nbformat": 4,
 "nbformat_minor": 2
}
