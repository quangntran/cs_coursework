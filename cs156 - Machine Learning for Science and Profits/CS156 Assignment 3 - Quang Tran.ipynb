{
 "cells": [
  {
   "cell_type": "markdown",
   "metadata": {},
   "source": [
    "This assignment seeks to explore the effects of reducing and not reducing data's dimensionality on the performance of logistic regression.\n",
    "\n"
   ]
  },
  {
   "cell_type": "code",
   "execution_count": null,
   "metadata": {},
   "outputs": [],
   "source": [
    "# set up:\n",
    "%matplotlib inline\n",
    "import random\n",
    "import matplotlib.pylab as plt\n",
    "\n",
    "from PIL import Image\n",
    "import numpy as np\n",
    "from scipy.misc import imresize\n",
    "import glob\n",
    "\n",
    "import tensorflow as tf\n",
    "import numpy as np\n",
    "import math\n",
    "import timeit\n",
    "import matplotlib.pyplot as plt\n",
    "\n",
    "from sklearn.model_selection import train_test_split\n",
    "from sklearn import model_selection\n",
    "from sklearn.decomposition import PCA\n",
    "from sklearn.discriminant_analysis import LinearDiscriminantAnalysis\n",
    "from sklearn.model_selection import KFold\n",
    "from sklearn.linear_model import LogisticRegression\n",
    "\n",
    "import time \n",
    "\n",
    "%matplotlib inline"
   ]
  },
  {
   "cell_type": "markdown",
   "metadata": {},
   "source": [
    "# Data processing"
   ]
  },
  {
   "cell_type": "markdown",
   "metadata": {},
   "source": [
    "(**#overfitting**) To avoid overfitting, I have used the following techniques:\n",
    "\n",
    "1. Augment the data. The original data set has only 2508 samples. For each image, I cropped from it 1 or 2 pixels from all four sides and thus increase the size of the data set by 3. \n",
    "\n",
    "\n",
    "2. Keep the number of features reasonably small. It is because if the number of features is too much larger than the number of samples, the issue of overfit is more severe. I chose the image size to just $218\\times 218$, when also increased the number of data points by means of augmentation, thus reduce the problem of overfitting. I could have augment the data further to the extent that the number of samples outnumbers the number of features, but I did not due to limited computational resources (my computer collapsed when I tried augmented the data to 8-fold). \n",
    "\n",
    "\n",
    "3. Apply regularization in the cost function. Regularization has the effect of shrinking the parameters towards 0 and thus prevents learning overly complex models, whose flexibility leads to overfitting.\n",
    "\n",
    "\n",
    "4. Use cross validation to tune the parameter (the regularization strength) of the logistic regression classifier. I chose CV over the validation set approach (i.e., designating a fixed part of the training data as a validation data) because our data set is already very small. We we used the validation set approach, we will further shrink our training set, which may exacerbate the possible overfitting. We want to utilize all the training data we have. \n",
    "\n",
    "Processing code adapted from this [notebook](https://github.com/ostegm/resizing/blob/master/Resizing.ipynb?fbclid=IwAR1-jIhpdnew0hGPi1ICZTS7zcjo_JPeMUEx01VQR09NSFOb2lHNAP0_ojc)"
   ]
  },
  {
   "cell_type": "code",
   "execution_count": 1,
   "metadata": {},
   "outputs": [
    {
     "ename": "NameError",
     "evalue": "name 'glob' is not defined",
     "output_type": "error",
     "traceback": [
      "\u001b[0;31m---------------------------------------------------------------------------\u001b[0m",
      "\u001b[0;31mNameError\u001b[0m                                 Traceback (most recent call last)",
      "\u001b[0;32m<ipython-input-1-cd53fac50833>\u001b[0m in \u001b[0;36m<module>\u001b[0;34m()\u001b[0m\n\u001b[1;32m      1\u001b[0m \u001b[0msize\u001b[0m \u001b[0;34m=\u001b[0m \u001b[0;36m512\u001b[0m\u001b[0;34m\u001b[0m\u001b[0m\n\u001b[0;32m----> 2\u001b[0;31m \u001b[0mfnames\u001b[0m \u001b[0;34m=\u001b[0m \u001b[0mlist\u001b[0m\u001b[0;34m(\u001b[0m\u001b[0mglob\u001b[0m\u001b[0;34m.\u001b[0m\u001b[0miglob\u001b[0m\u001b[0;34m(\u001b[0m\u001b[0;34mf'./images/*.jpg'\u001b[0m\u001b[0;34m)\u001b[0m\u001b[0;34m)\u001b[0m\u001b[0;34m\u001b[0m\u001b[0m\n\u001b[0m\u001b[1;32m      3\u001b[0m \u001b[0mimg_data\u001b[0m \u001b[0;34m=\u001b[0m \u001b[0;34m[\u001b[0m\u001b[0;34m]\u001b[0m\u001b[0;34m\u001b[0m\u001b[0m\n\u001b[1;32m      4\u001b[0m \u001b[0;32mfor\u001b[0m \u001b[0mfname\u001b[0m \u001b[0;32min\u001b[0m \u001b[0mfnames\u001b[0m\u001b[0;34m:\u001b[0m\u001b[0;34m\u001b[0m\u001b[0m\n\u001b[1;32m      5\u001b[0m     \u001b[0mimg\u001b[0m \u001b[0;34m=\u001b[0m \u001b[0mImage\u001b[0m\u001b[0;34m.\u001b[0m\u001b[0mopen\u001b[0m\u001b[0;34m(\u001b[0m\u001b[0mfname\u001b[0m\u001b[0;34m)\u001b[0m\u001b[0;34m\u001b[0m\u001b[0m\n",
      "\u001b[0;31mNameError\u001b[0m: name 'glob' is not defined"
     ]
    }
   ],
   "source": [
    "size = 218\n",
    "\n",
    "X_man = []\n",
    "X_woman = []\n",
    "\n",
    "for gender in ['man', 'woman']:\n",
    "    fnames = list(glob.iglob(f'./{gender}/*.JPEG'))\n",
    "    for fname in fnames:\n",
    "        img = Image.open(fname)\n",
    "        img_arr = np.array(img)\n",
    "        resized = imresize(img_arr, (size, size))\n",
    "        if resized.shape != (size, size, 3):\n",
    "            continue\n",
    "        if gender == 'man':\n",
    "            X_man.append(resized)\n",
    "        else:\n",
    "            X_woman.append(resized)\n",
    "        \n",
    "        # crop to augment\n",
    "        for crop_size in range(1,3):\n",
    "            crop_specs = (crop_size, crop_size, \n",
    "                          img.width - crop_size, img.height - crop_size)\n",
    "            crop_img = img.crop(crop_specs)\n",
    "            img_arr = np.array(crop_img)\n",
    "            resized = imresize(img_arr, (size, size))\n",
    "            if gender == 'man':\n",
    "                X_man.append(resized)\n",
    "            else:\n",
    "                X_woman.append(resized)\n",
    "        img.close()\n",
    "        \n",
    "\n",
    "X_man, X_woman = np.stack(X_man, axis=0), np.stack(X_woman, axis=0)"
   ]
  },
  {
   "cell_type": "code",
   "execution_count": 3,
   "metadata": {},
   "outputs": [
    {
     "name": "stdout",
     "output_type": "stream",
     "text": [
      "(3726, 218, 218, 3)\n",
      "(3798, 218, 218, 3)\n"
     ]
    }
   ],
   "source": [
    "print(X_man.shape)\n",
    "print(X_woman.shape)"
   ]
  },
  {
   "cell_type": "code",
   "execution_count": 4,
   "metadata": {},
   "outputs": [],
   "source": [
    "y_man = np.array([0]*X_man.shape[0])\n",
    "y_woman = np.array([1]*X_woman.shape[0])\n",
    "y = np.concatenate((y_man, y_woman))\n",
    "X = np.concatenate((X_man, X_woman))\n",
    "X = np.reshape(X, (X.shape[0],-1))"
   ]
  },
  {
   "cell_type": "code",
   "execution_count": 5,
   "metadata": {},
   "outputs": [
    {
     "name": "stdout",
     "output_type": "stream",
     "text": [
      "(7524, 142572)\n",
      "(7524,)\n"
     ]
    }
   ],
   "source": [
    "print(X.shape)\n",
    "print(y.shape)"
   ]
  },
  {
   "cell_type": "code",
   "execution_count": 6,
   "metadata": {},
   "outputs": [],
   "source": [
    "X_train, X_test, y_train, y_test = train_test_split(X, y, test_size=0.2, random_state=1)"
   ]
  },
  {
   "cell_type": "markdown",
   "metadata": {},
   "source": [
    "# Logistic Regression Using the Original Pixel Data\n",
    "\n",
    "We use cross validation to tune the inverse of the regularization strength (`C`). I didn't tune the penalty type and fixed it to `l1` due to reasons of computational resource. It is not that the L2 penalty involves squares and the numbers may explode (because I can always normalize the data so that they have a small range). It is that it took too long just to finish one iteration. Maybe with ambler time I will attempt tuning this (and other params) as well. "
   ]
  },
  {
   "cell_type": "code",
   "execution_count": 9,
   "metadata": {},
   "outputs": [
    {
     "name": "stdout",
     "output_type": "stream",
     "text": [
      "Running ...\n",
      "Finished 1/5\n",
      "Finished 2/5\n",
      "Finished 3/5\n",
      "Finished 4/5\n",
      "Finished 5/5\n",
      "Finished\n"
     ]
    }
   ],
   "source": [
    "from sklearn.model_selection import KFold\n",
    "from sklearn.linear_model import LogisticRegression\n",
    "i = 0\n",
    "best_accuracy = -1\n",
    "best_C = 0\n",
    "print('Running ...')\n",
    "for C in [1/1e-3, 1/1e-1, 1, 1/1e1, 1/1e3]:\n",
    "    clf = LogisticRegression(random_state=0, \n",
    "                       penalty='l1',\n",
    "                       C=C)\n",
    "    scores = model_selection.cross_val_score(clf, X_train, y_train, cv=3)\n",
    "    if np.mean(scores) > best_accuracy:\n",
    "        best_accuracy = np.mean(scores)\n",
    "        best_C = C\n",
    "    i += 1\n",
    "    print('Finished %d/%d'%(i,5))\n",
    "print('Finished')"
   ]
  },
  {
   "cell_type": "code",
   "execution_count": 10,
   "metadata": {},
   "outputs": [
    {
     "name": "stdout",
     "output_type": "stream",
     "text": [
      "--------------------------------------------------\n",
      "Best C: 1\n",
      "Val Accuracy: 0.9097821796612936\n"
     ]
    }
   ],
   "source": [
    "print('-'*50)\n",
    "print('Best C:', best_C)\n",
    "print('Val Accuracy:', best_accuracy)"
   ]
  },
  {
   "cell_type": "code",
   "execution_count": 14,
   "metadata": {},
   "outputs": [],
   "source": [
    "import time\n",
    "start = time.time()\n",
    "clf = LogisticRegression(random_state=0, \n",
    "                       penalty='l1',\n",
    "                       C=best_C)\n",
    "clf.fit(X_train, y_train)\n",
    "end = time.time() - start"
   ]
  },
  {
   "cell_type": "code",
   "execution_count": 16,
   "metadata": {},
   "outputs": [
    {
     "name": "stdout",
     "output_type": "stream",
     "text": [
      "Time running: 10.790315481026967 mins\n"
     ]
    }
   ],
   "source": [
    "print('Time running:', end/60, 'mins')"
   ]
  },
  {
   "cell_type": "code",
   "execution_count": 19,
   "metadata": {},
   "outputs": [
    {
     "name": "stdout",
     "output_type": "stream",
     "text": [
      "Training accuracy: 1.0\n"
     ]
    }
   ],
   "source": [
    "preds = clf.predict(X_train)\n",
    "acc = np.sum(preds==y_train)/len(y_train)\n",
    "print('Training accuracy:', acc)"
   ]
  },
  {
   "cell_type": "code",
   "execution_count": 17,
   "metadata": {},
   "outputs": [
    {
     "name": "stdout",
     "output_type": "stream",
     "text": [
      "Testing accuracy: 0.9833887043189369\n"
     ]
    }
   ],
   "source": [
    "preds = clf.predict(X_test)\n",
    "acc = np.sum(preds==y_test)/len(y_test)\n",
    "print('Testing accuracy:', acc)"
   ]
  },
  {
   "cell_type": "markdown",
   "metadata": {},
   "source": [
    "# Logistic Regression on the Reduced Representation Created Using PCA"
   ]
  },
  {
   "cell_type": "code",
   "execution_count": 29,
   "metadata": {},
   "outputs": [],
   "source": [
    "# subtract the mean from the data\n",
    "mean_X_train = np.mean(X_train, axis=0)\n",
    "X_train_pca = X_train - mean_X_train"
   ]
  },
  {
   "cell_type": "code",
   "execution_count": 50,
   "metadata": {},
   "outputs": [],
   "source": [
    "X_test_pca = X_test - mean_X_train"
   ]
  },
  {
   "cell_type": "code",
   "execution_count": 57,
   "metadata": {},
   "outputs": [
    {
     "name": "stdout",
     "output_type": "stream",
     "text": [
      "(6019, 10)\n"
     ]
    }
   ],
   "source": [
    "pca = PCA(n_components=10)\n",
    "pca.fit(X_train_pca)\n",
    "X_r = pca.transform(X_train_pca)\n",
    "print(X_r.shape)"
   ]
  },
  {
   "cell_type": "code",
   "execution_count": 37,
   "metadata": {},
   "outputs": [
    {
     "data": {
      "image/png": "[encoded data removed]",
      "text/plain": [
       "<Figure size 432x288 with 1 Axes>"
      ]
     },
     "metadata": {},
     "output_type": "display_data"
    }
   ],
   "source": [
    "plt.plot(range(1,11), pca.explained_variance_ratio_)\n",
    "plt.title('Screeplot for depicting the proportion of variance explained \\n by each of the principal components')\n",
    "plt.xlabel('Principal component')\n",
    "plt.ylabel('Proportion variance explained')\n",
    "plt.show()"
   ]
  },
  {
   "cell_type": "markdown",
   "metadata": {},
   "source": [
    "ISLR says that we can eye-ball the scree plot above (**#dataviz**) and look for an elbow shape to pick the number of components to use. However, it further notes that if in a supervised setting, we can always cross validate the parameter. Below I did just that, but in a sloppy way, due to (again) terribly long time it requires to train the model. It is sloppy because I used cross validation, but fit the PCA to **ALL** the training data. An ideal version would be as follows: we have k folds of data, and in each iteration, we only fit the PCA to $k-1$ fold and used the fitted results to transform the other fold and feed it to the classifer to get the validation score. \n",
    "\n",
    "Therefore, what I did below is mostly for demonstration that we could cross validate the `n_comp`, but the methodology is errored. "
   ]
  },
  {
   "cell_type": "code",
   "execution_count": 48,
   "metadata": {},
   "outputs": [
    {
     "name": "stdout",
     "output_type": "stream",
     "text": [
      "Running ...\n",
      "Finished 5/50\n",
      "Finished 10/50\n",
      "Finished 15/50\n",
      "Finished 20/50\n",
      "Finished 25/50\n",
      "Finished 30/50\n",
      "Finished 35/50\n",
      "Finished 40/50\n",
      "Finished 45/50\n",
      "Finished 50/50\n",
      "Finished\n"
     ]
    }
   ],
   "source": [
    "i = 0\n",
    "best_accuracy_pca = -1\n",
    "best_C_pca = 0\n",
    "best_n_comp = -1\n",
    "print('Running ...')\n",
    "for n_comp in range(1,11):\n",
    "    for C in [1/1e-3, 1/1e-1, 1, 1/1e1, 1/1e3]:\n",
    "        clf = LogisticRegression(random_state=0, \n",
    "                           penalty='l1',\n",
    "                           C=C)\n",
    "        X_r_best = X_r[:,:n_comp]\n",
    "        scores = model_selection.cross_val_score(clf, X_r_best, y_train, cv=10)\n",
    "        if np.mean(scores) > best_accuracy_pca:\n",
    "            best_n_comp = n_comp\n",
    "            best_accuracy_pca = np.mean(scores)\n",
    "            best_C_pca = C\n",
    "        i += 1\n",
    "        if i%5==0:\n",
    "            print('Finished %d/%d'%(i,50))\n",
    "print('Finished')"
   ]
  },
  {
   "cell_type": "code",
   "execution_count": 49,
   "metadata": {},
   "outputs": [
    {
     "name": "stdout",
     "output_type": "stream",
     "text": [
      "--------------------------------------------------\n",
      "Best number of components: 9\n",
      "Best C: 1000.0\n",
      "Val Accuracy: 0.6501110036977887\n"
     ]
    }
   ],
   "source": [
    "print('-'*50)\n",
    "print('Best number of components:', best_n_comp)\n",
    "print('Best C:', best_C_pca)\n",
    "print('Val Accuracy:', best_accuracy_pca)"
   ]
  },
  {
   "cell_type": "code",
   "execution_count": 53,
   "metadata": {},
   "outputs": [
    {
     "name": "stdout",
     "output_type": "stream",
     "text": [
      "Running time: 0.006350040435791016 secs\n"
     ]
    }
   ],
   "source": [
    "start = time.time()\n",
    "clf = LogisticRegression(random_state=0, \n",
    "                       penalty='l1',\n",
    "                       C=best_C_pca)\n",
    "clf.fit(X_r[:,:best_n_comp], y_train)\n",
    "end = time.time() - start\n",
    "print('Running time:', end,'secs')"
   ]
  },
  {
   "cell_type": "code",
   "execution_count": 54,
   "metadata": {},
   "outputs": [
    {
     "name": "stdout",
     "output_type": "stream",
     "text": [
      "Training accuracy: 0.648612726366506\n"
     ]
    }
   ],
   "source": [
    "preds = clf.predict(X_r[:,:best_n_comp])\n",
    "acc = np.sum(preds==y_train)/len(y_train)\n",
    "print('Training accuracy:', acc)"
   ]
  },
  {
   "cell_type": "code",
   "execution_count": 58,
   "metadata": {},
   "outputs": [],
   "source": [
    "X_r_test = pca.transform(X_test_pca)"
   ]
  },
  {
   "cell_type": "code",
   "execution_count": 59,
   "metadata": {},
   "outputs": [
    {
     "name": "stdout",
     "output_type": "stream",
     "text": [
      "Testing accuracy: 0.6478405315614618\n"
     ]
    }
   ],
   "source": [
    "preds = clf.predict(X_r_test[:,:best_n_comp])\n",
    "acc = np.sum(preds==y_test)/len(y_test)\n",
    "print('Testing accuracy:', acc)"
   ]
  },
  {
   "cell_type": "markdown",
   "metadata": {},
   "source": [
    "# Logistic Regression on the Reduced Representation Created Using LDA"
   ]
  },
  {
   "cell_type": "code",
   "execution_count": 7,
   "metadata": {},
   "outputs": [
    {
     "name": "stderr",
     "output_type": "stream",
     "text": [
      "/anaconda3/lib/python3.6/site-packages/sklearn/discriminant_analysis.py:388: UserWarning: Variables are collinear.\n",
      "  warnings.warn(\"Variables are collinear.\")\n"
     ]
    },
    {
     "name": "stdout",
     "output_type": "stream",
     "text": [
      "(6019, 1)\n"
     ]
    }
   ],
   "source": [
    "lda = LinearDiscriminantAnalysis(n_components=1)\n",
    "lda.fit(X_train, y_train)\n",
    "X_r_lda = lda.transform(X_train)\n",
    "print(X_r_lda.shape)"
   ]
  },
  {
   "cell_type": "code",
   "execution_count": 22,
   "metadata": {},
   "outputs": [
    {
     "name": "stdout",
     "output_type": "stream",
     "text": [
      "Running ...\n",
      "Finished 1/5\n",
      "Finished 2/5\n",
      "Finished 3/5\n",
      "Finished 4/5\n",
      "Finished 5/5\n",
      "Finished\n"
     ]
    }
   ],
   "source": [
    "i = 0\n",
    "best_accuracy_lda = -1\n",
    "best_C_lda = 0\n",
    "print('Running ...')\n",
    "for C in [1/1e-3, 1/1e-1, 1, 1/1e1, 1/1e3]:\n",
    "    clf = LogisticRegression(random_state=0, \n",
    "                       penalty='l1',\n",
    "                       C=C)\n",
    "    scores = model_selection.cross_val_score(clf, X_r_lda, y_train, cv=10)\n",
    "    if np.mean(scores) > best_accuracy_lda:\n",
    "        best_accuracy_lda = np.mean(scores)\n",
    "        best_C_lda = C\n",
    "    i += 1\n",
    "    print('Finished %d/%d'%(i,5))\n",
    "print('Finished')"
   ]
  },
  {
   "cell_type": "code",
   "execution_count": 12,
   "metadata": {},
   "outputs": [
    {
     "name": "stdout",
     "output_type": "stream",
     "text": [
      "--------------------------------------------------\n",
      "Best C: 10.0\n",
      "Val Accuracy: 0.9998338870431894\n"
     ]
    }
   ],
   "source": [
    "print('-'*50)\n",
    "print('Best C:', best_C_lda)\n",
    "print('Val Accuracy:', best_accuracy_lda)"
   ]
  },
  {
   "cell_type": "code",
   "execution_count": 16,
   "metadata": {},
   "outputs": [
    {
     "name": "stdout",
     "output_type": "stream",
     "text": [
      "Running time: 0.0059049129486083984 secs\n"
     ]
    }
   ],
   "source": [
    "start = time.time()\n",
    "clf = LogisticRegression(random_state=0, \n",
    "                       penalty='l1',\n",
    "                       C=best_C_lda)\n",
    "clf.fit(X_r_lda, y_train)\n",
    "end = time.time() - start\n",
    "print('Running time:', end,'secs')"
   ]
  },
  {
   "cell_type": "code",
   "execution_count": 17,
   "metadata": {},
   "outputs": [
    {
     "name": "stdout",
     "output_type": "stream",
     "text": [
      "Training accuracy: 0.9996677188901811\n"
     ]
    }
   ],
   "source": [
    "preds = clf.predict(X_r_lda)\n",
    "acc = np.sum(preds==y_train)/len(y_train)\n",
    "print('Training accuracy:', acc)"
   ]
  },
  {
   "cell_type": "code",
   "execution_count": 19,
   "metadata": {},
   "outputs": [],
   "source": [
    "X_r_lda_test = lda.transform(X_test)"
   ]
  },
  {
   "cell_type": "code",
   "execution_count": 20,
   "metadata": {},
   "outputs": [
    {
     "name": "stdout",
     "output_type": "stream",
     "text": [
      "Testing accuracy: 0.9315614617940199\n"
     ]
    }
   ],
   "source": [
    "preds = clf.predict(X_r_lda_test)\n",
    "acc = np.sum(preds==y_test)/len(y_test)\n",
    "print('Testing accuracy:', acc)"
   ]
  },
  {
   "cell_type": "markdown",
   "metadata": {},
   "source": [
    "# Model Metric \n",
    "\n",
    "I chose accuracy to evaluate the classifier's performance because:\n",
    "\n",
    "1. There is no obvious reason why one would try to avoid one type of error more than the other. In this context, we would feel as bad when we missclassify a woman's clothe as when we do a man's.\n",
    "\n",
    "2. The classes are balanced. There are 3726 samples for man clothes, and 3798 samples for woman clothes. The ratio is almost 50/50. That said, when the classifer achieve an impressive accuracy, we know that it is vertainly not due to lazily predicting everything to one class, as in cases with super imbalanced data sets. "
   ]
  },
  {
   "cell_type": "markdown",
   "metadata": {},
   "source": [
    "# Interpreting the results\n",
    "\n",
    "## Original Pixel Data\n",
    "\n",
    "The training accuracy is at a perfect level ($100\\%$). One may suspect that it is suffering heavy overfit due to the fact the number of features is much smaller than the number of observations, but the test accuracy negates that. It is nearly just as good ($98.3\\%$), suggesting no variance problem. The testing accuracy is also much better than random guessing (which would be one of $50\\%$). This is a reasonably good model on this kind of data.\n",
    "\n",
    "## Using PCA\n",
    "\n",
    "The training accuracy is much worse than that of the case above ($64.8\\%$). This is the problem of high bias. The testing accuracy is just slightly under the training accuracy ($64.7\\%$), suggesting that there is no overfit/ high variance problem. However, given that these accuracies is way lower than the optimal (Bayes) performance (the human performance), which should be very close to $100\\%$, the model suffers heavily with underfitting.\n",
    "\n",
    "One possible explanation for this poor performance is that in dimensionality reduction using PCA, it is unsupervised and thus only tries to maximize the variation in the projected data points, the goal of which may be an equivalent of having much overlap between the two classes in the reduced data space. This large inseparability may have led to the poor classfication performance. That said, we would expect a supervised dimension reduction techniques like LDA, which takes into account the labels in data, perform better.\n",
    "\n",
    "## Using LDA\n",
    "\n",
    "As expected, the training and testing accuracies are a vast improvement from those in the PCA case ($99.9\\%$ and $93.1\\%$, respectively.) The little gap between the two accuracies also shows that the model does not overfit. The little difference between the accuracies and the optimal performance ($100\\%$) shows that the model has low bias. Therefore, it is a better model than PCA, but not as good as when fit with the original data set.\n",
    "\n",
    "However, the number of components for LDA is not chosen in a proper way. Ideally, this should have also been cross validated, but I just picked $1$ because I had tried with larger quantities and the notebook collapsed. Perhaps we could have seen better performance with LDA if this had been done properly.\n",
    "\n",
    "## Synthesis\n",
    "\n",
    "No models/cases overfits.\n",
    "\n",
    "The logsitic regression used on the original (non-reduced data set) has the best performance. Its main disadvantage is the super long training time (about $10$ minutes). However, given that 1) the testing time is roughly the same (the output was printed almost instantaneously) for the three cases and 2) we don't care as much about the training time (as long as it's feasible) as we do the testing time in practice (we would be happy to incubate the model for a long period of time as long as it performs reasonable fast and accurately in testing phase), the first classifer is the most recommendable. The catch is that there is still a possible outperformance of the LDA over the original-data case if the number of components used in the LDA has been properly tuned. \n",
    "\n",
    "\n",
    "\n"
   ]
  }
 ],
 "metadata": {
  "kernelspec": {
   "display_name": "Python 3",
   "language": "python",
   "name": "python3"
  },
  "language_info": {
   "codemirror_mode": {
    "name": "ipython",
    "version": 3
   },
   "file_extension": ".py",
   "mimetype": "text/x-python",
   "name": "python",
   "nbconvert_exporter": "python",
   "pygments_lexer": "ipython3",
   "version": "3.6.5"
  }
 },
 "nbformat": 4,
 "nbformat_minor": 2
}
