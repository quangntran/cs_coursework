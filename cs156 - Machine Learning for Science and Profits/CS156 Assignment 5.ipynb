{
 "cells": [
  {
   "cell_type": "markdown",
   "metadata": {},
   "source": [
    "# Download data"
   ]
  },
  {
   "cell_type": "code",
   "execution_count": 55,
   "metadata": {},
   "outputs": [
    {
     "data": {
      "text/html": [
       "<div>\n",
       "<style scoped>\n",
       "    .dataframe tbody tr th:only-of-type {\n",
       "        vertical-align: middle;\n",
       "    }\n",
       "\n",
       "    .dataframe tbody tr th {\n",
       "        vertical-align: top;\n",
       "    }\n",
       "\n",
       "    .dataframe thead th {\n",
       "        text-align: right;\n",
       "    }\n",
       "</style>\n",
       "<table border=\"1\" class=\"dataframe\">\n",
       "  <thead>\n",
       "    <tr style=\"text-align: right;\">\n",
       "      <th></th>\n",
       "      <th>Date</th>\n",
       "      <th>Amount</th>\n",
       "    </tr>\n",
       "  </thead>\n",
       "  <tbody>\n",
       "    <tr>\n",
       "      <th>0</th>\n",
       "      <td>25May2016</td>\n",
       "      <td>54241.35</td>\n",
       "    </tr>\n",
       "    <tr>\n",
       "      <th>1</th>\n",
       "      <td>29May2017</td>\n",
       "      <td>54008.83</td>\n",
       "    </tr>\n",
       "    <tr>\n",
       "      <th>2</th>\n",
       "      <td>30Jun2017</td>\n",
       "      <td>54008.82</td>\n",
       "    </tr>\n",
       "    <tr>\n",
       "      <th>3</th>\n",
       "      <td>05Jan2017</td>\n",
       "      <td>52704.37</td>\n",
       "    </tr>\n",
       "    <tr>\n",
       "      <th>4</th>\n",
       "      <td>23Feb2017</td>\n",
       "      <td>52704.36</td>\n",
       "    </tr>\n",
       "  </tbody>\n",
       "</table>\n",
       "</div>"
      ],
      "text/plain": [
       "        Date    Amount\n",
       "0  25May2016  54241.35\n",
       "1  29May2017  54008.83\n",
       "2  30Jun2017  54008.82\n",
       "3  05Jan2017  52704.37\n",
       "4  23Feb2017  52704.36"
      ]
     },
     "execution_count": 55,
     "metadata": {},
     "output_type": "execute_result"
    }
   ],
   "source": [
    "import pandas as pd\n",
    "import matplotlib.pyplot as plt\n",
    "data = pd.read_csv('anonymized.csv')\n",
    "data.head()"
   ]
  },
  {
   "cell_type": "markdown",
   "metadata": {},
   "source": [
    "# Build the density model for the number of transactions that occur in a single motnh"
   ]
  },
  {
   "cell_type": "code",
   "execution_count": 56,
   "metadata": {},
   "outputs": [
    {
     "data": {
      "text/plain": [
       "(2518, 2)"
      ]
     },
     "execution_count": 56,
     "metadata": {},
     "output_type": "execute_result"
    }
   ],
   "source": [
    "data.shape"
   ]
  },
  {
   "cell_type": "code",
   "execution_count": 57,
   "metadata": {},
   "outputs": [],
   "source": [
    "data_copy1 = data.copy()"
   ]
  },
  {
   "cell_type": "code",
   "execution_count": 58,
   "metadata": {},
   "outputs": [
    {
     "data": {
      "text/plain": [
       "0    May2016\n",
       "1    May2017\n",
       "2    Jun2017\n",
       "3    Jan2017\n",
       "4    Feb2017\n",
       "Name: Date, dtype: object"
      ]
     },
     "execution_count": 58,
     "metadata": {},
     "output_type": "execute_result"
    }
   ],
   "source": [
    "data_copy1['Date'] = data_copy1['Date'].str[2:]\n",
    "data_copy1['Date'][:5]"
   ]
  },
  {
   "cell_type": "code",
   "execution_count": 59,
   "metadata": {},
   "outputs": [
    {
     "name": "stdout",
     "output_type": "stream",
     "text": [
      "[106  96  88  86  78  75  73  73  68  64  64  64  62  61  59  59  59  58\n",
      "  57  55  54  53  52  52  51  48  48  47  45  45  44  44  43  41  40  40\n",
      "  39  38  38  36  34  33  32  32  27  23  16  10   8]\n"
     ]
    }
   ],
   "source": [
    "# the numbers of transactions occuring in all months \n",
    "X = data_copy1['Date'].value_counts().values\n",
    "print(X)"
   ]
  },
  {
   "cell_type": "markdown",
   "metadata": {},
   "source": [
    "I will use the kernel density estimation and tuning the parameter `kernel` and `bandwidth` using LOOCV (in this case) or k-fold CV (in the other two models). Because `sklearn` only supports sampling for `gaussian` and `tophat` kernels, the candidates for kernels only contain these two (i.e., `linear`, `tophat`, etc. are not considered).\n",
    "\n",
    "I use LOOCV (as opposed to k-fold) because the data set (`X`) is small and using LOOCV won't take much time.\n",
    "\n",
    "The parameters are chosen so that the log likelihood of the held out parts are maximized."
   ]
  },
  {
   "cell_type": "code",
   "execution_count": 60,
   "metadata": {},
   "outputs": [],
   "source": [
    "# adapted from \n",
    "# https://jakevdp.github.io/PythonDataScienceHandbook/\n",
    "# 05.13-kernel-density-estimation.html\n",
    "from sklearn.grid_search import GridSearchCV\n",
    "from sklearn.cross_validation import LeaveOneOut\n",
    "from sklearn.neighbors.kde import KernelDensity\n",
    "import numpy as np\n",
    "parameters = {'kernel':('gaussian', 'tophat'),\n",
    "             'bandwidth': 10 ** np.linspace(-2, 2, 100) }\n",
    "grid = GridSearchCV(KernelDensity(),\n",
    "                    parameters,\n",
    "                    cv=LeaveOneOut(len(X)))\n",
    "\n",
    "grid.fit(X[:, None]);"
   ]
  },
  {
   "cell_type": "code",
   "execution_count": 61,
   "metadata": {},
   "outputs": [
    {
     "data": {
      "text/plain": [
       "{'bandwidth': 14.174741629268063, 'kernel': 'tophat'}"
      ]
     },
     "execution_count": 61,
     "metadata": {},
     "output_type": "execute_result"
    }
   ],
   "source": [
    "grid.best_params_"
   ]
  },
  {
   "cell_type": "code",
   "execution_count": 62,
   "metadata": {},
   "outputs": [],
   "source": [
    "kde1 = KernelDensity(kernel=grid.best_params_['kernel'], \n",
    "                     bandwidth=grid.best_params_['bandwidth']).fit(np.array(X).reshape((-1,1)))"
   ]
  },
  {
   "cell_type": "code",
   "execution_count": 63,
   "metadata": {},
   "outputs": [
    {
     "data": {
      "text/plain": [
       "[<matplotlib.lines.Line2D at 0x1a1a3adf28>]"
      ]
     },
     "execution_count": 63,
     "metadata": {},
     "output_type": "execute_result"
    },
    {
     "data": {
      "image/png": "[encoded data removed]",
      "text/plain": [
       "<Figure size 432x288 with 1 Axes>"
      ]
     },
     "metadata": {},
     "output_type": "display_data"
    }
   ],
   "source": [
    "import matplotlib.pyplot as plt\n",
    "X_plot = np.linspace(6, 100, 1000)[:, np.newaxis]\n",
    "log_dens = kde1.score_samples(X_plot)\n",
    "plt.plot(X_plot[:,0], np.exp(log_dens))"
   ]
  },
  {
   "cell_type": "markdown",
   "metadata": {},
   "source": [
    "# Build the density model for the day in the month that a transaction will occur on."
   ]
  },
  {
   "cell_type": "code",
   "execution_count": 64,
   "metadata": {},
   "outputs": [],
   "source": [
    "data_copy2 = data.copy()"
   ]
  },
  {
   "cell_type": "code",
   "execution_count": 65,
   "metadata": {},
   "outputs": [
    {
     "data": {
      "text/plain": [
       "0    25\n",
       "1    29\n",
       "2    30\n",
       "3    05\n",
       "4    23\n",
       "Name: Date, dtype: object"
      ]
     },
     "execution_count": 65,
     "metadata": {},
     "output_type": "execute_result"
    }
   ],
   "source": [
    "data_copy2['Date'] = data_copy2['Date'].str[:2]\n",
    "data_copy2['Date'][:5]"
   ]
  },
  {
   "cell_type": "code",
   "execution_count": 66,
   "metadata": {},
   "outputs": [],
   "source": [
    "data_copy2['Date'] = pd.to_numeric(data_copy2['Date'])"
   ]
  },
  {
   "cell_type": "code",
   "execution_count": 67,
   "metadata": {},
   "outputs": [
    {
     "name": "stdout",
     "output_type": "stream",
     "text": [
      "[25 29 30 ... 22 23 19]\n"
     ]
    }
   ],
   "source": [
    "X2 = data_copy2['Date'].values\n",
    "print(X2)"
   ]
  },
  {
   "cell_type": "code",
   "execution_count": 68,
   "metadata": {},
   "outputs": [],
   "source": [
    "parameters = {'kernel':('gaussian', 'tophat'),\n",
    "             'bandwidth': 10 ** np.linspace(-1, 1, 100) }\n",
    "grid = GridSearchCV(KernelDensity(),\n",
    "                    parameters,\n",
    "                    cv=5)\n",
    "grid.fit(X2[:, None]);"
   ]
  },
  {
   "cell_type": "code",
   "execution_count": 69,
   "metadata": {},
   "outputs": [
    {
     "data": {
      "text/plain": [
       "{'bandwidth': 0.1, 'kernel': 'tophat'}"
      ]
     },
     "execution_count": 69,
     "metadata": {},
     "output_type": "execute_result"
    }
   ],
   "source": [
    "grid.best_params_"
   ]
  },
  {
   "cell_type": "markdown",
   "metadata": {},
   "source": [
    "The optimal bandwidth is the lowest in the considered interval. Therefore, it is natural to expand the interval to see if there is any better bandwidth."
   ]
  },
  {
   "cell_type": "code",
   "execution_count": 70,
   "metadata": {},
   "outputs": [
    {
     "data": {
      "text/plain": [
       "{'bandwidth': 0.01, 'kernel': 'tophat'}"
      ]
     },
     "execution_count": 70,
     "metadata": {},
     "output_type": "execute_result"
    }
   ],
   "source": [
    "parameters['bandwidth'] = 10 ** np.linspace(-2, 2, 100)\n",
    "grid = GridSearchCV(KernelDensity(),\n",
    "                    parameters,\n",
    "                    cv=5)\n",
    "grid.fit(X2[:, None]);\n",
    "grid.best_params_"
   ]
  },
  {
   "cell_type": "markdown",
   "metadata": {},
   "source": [
    "We see that the bandwidth still takes the smallest value in the interval. The reason is that because there are only 31 distinct values (corresponding to a maximum of 31 days in a month), while the list of data contains more than 4,000 elements, it is highly likely that in k-fold cross validation, all the data in the validation set has been observed in the training set so that the only way to maximize the likelihood is that to minimize the bandwidth which has the effect of shrinking the density at non-integer points to 0. Therefore, we can never find an optimal value for bandwidth as it keeps shrinking.\n",
    "\n",
    "Therefore I will use the histogram distribution of the data `X2` instead (simply drawing from the list with equal probability for each element; this will be done in the sampling question.)"
   ]
  },
  {
   "cell_type": "code",
   "execution_count": 71,
   "metadata": {},
   "outputs": [
    {
     "data": {
      "text/plain": [
       "(array([290., 197., 210., 191., 189., 199., 241., 276., 384., 341.]),\n",
       " array([ 1.,  4.,  7., 10., 13., 16., 19., 22., 25., 28., 31.]),\n",
       " <a list of 10 Patch objects>)"
      ]
     },
     "execution_count": 71,
     "metadata": {},
     "output_type": "execute_result"
    },
    {
     "data": {
      "image/png": "[encoded data removed]",
      "text/plain": [
       "<Figure size 432x288 with 1 Axes>"
      ]
     },
     "metadata": {},
     "output_type": "display_data"
    }
   ],
   "source": [
    "plt.hist(X2)"
   ]
  },
  {
   "cell_type": "markdown",
   "metadata": {},
   "source": [
    "# Build the density model for the transaction size"
   ]
  },
  {
   "cell_type": "code",
   "execution_count": 72,
   "metadata": {},
   "outputs": [
    {
     "name": "stdout",
     "output_type": "stream",
     "text": [
      "[ 54241.35  54008.83  54008.82 ... -28400.   -35570.   -41054.95]\n"
     ]
    }
   ],
   "source": [
    "X = np.array(list(data['Amount'].values))\n",
    "print(X)"
   ]
  },
  {
   "cell_type": "code",
   "execution_count": 73,
   "metadata": {},
   "outputs": [],
   "source": [
    "parameters = {'kernel':('gaussian', 'tophat'),\n",
    "             'bandwidth': 10 ** np.linspace(-10, 10, 100) }\n",
    "grid = GridSearchCV(KernelDensity(),\n",
    "                    parameters,\n",
    "                    cv=5)\n",
    "grid.fit(X[:, None]);"
   ]
  },
  {
   "cell_type": "code",
   "execution_count": 74,
   "metadata": {},
   "outputs": [
    {
     "data": {
      "text/plain": [
       "{'bandwidth': 8697.490026177835, 'kernel': 'gaussian'}"
      ]
     },
     "execution_count": 74,
     "metadata": {},
     "output_type": "execute_result"
    }
   ],
   "source": [
    "grid.best_params_"
   ]
  },
  {
   "cell_type": "code",
   "execution_count": 75,
   "metadata": {},
   "outputs": [],
   "source": [
    "kde3 = KernelDensity(kernel='gaussian', \n",
    "                     bandwidth=grid.best_params_['bandwidth']).fit(np.array(X).reshape((-1,1)))"
   ]
  },
  {
   "cell_type": "code",
   "execution_count": 76,
   "metadata": {},
   "outputs": [
    {
     "data": {
      "text/plain": [
       "[<matplotlib.lines.Line2D at 0x1a1cee54a8>]"
      ]
     },
     "execution_count": 76,
     "metadata": {},
     "output_type": "execute_result"
    },
    {
     "data": {
      "image/png": "[encoded data removed]",
      "text/plain": [
       "<Figure size 432x288 with 1 Axes>"
      ]
     },
     "metadata": {},
     "output_type": "display_data"
    }
   ],
   "source": [
    "import matplotlib.pyplot as plt\n",
    "X_plot = np.linspace(-40000, 50000, 10000)[:, np.newaxis]\n",
    "log_dens = kde3.score_samples(X_plot)\n",
    "plt.plot(X_plot[:,0], np.exp(log_dens))"
   ]
  },
  {
   "cell_type": "markdown",
   "metadata": {},
   "source": [
    "# Sampling from these density models, create a fictitious month of personal transactions.\n"
   ]
  },
  {
   "cell_type": "code",
   "execution_count": 78,
   "metadata": {},
   "outputs": [
    {
     "name": "stdout",
     "output_type": "stream",
     "text": [
      "89\n"
     ]
    }
   ],
   "source": [
    "# sample the number of transactions in the month:\n",
    "num_trans = int(round(kde1.sample()[0,0]))\n",
    "print(num_trans)"
   ]
  },
  {
   "cell_type": "code",
   "execution_count": 79,
   "metadata": {},
   "outputs": [
    {
     "name": "stdout",
     "output_type": "stream",
     "text": [
      "[25, 24, 24, 24, 27, 12, 29, 12, 25, 19, 27, 14, 3, 31, 9, 31, 22, 6, 3, 19, 19, 6, 30, 22, 10, 31, 9, 23, 17, 25, 5, 1, 3, 7, 1, 25, 17, 24, 21, 22, 28, 9, 24, 1, 19, 5, 28, 12, 12, 14, 29, 4, 18, 4, 17, 24, 27, 22, 3, 18, 20, 7, 8, 26, 1, 26, 1, 23, 1, 7, 4, 25, 1, 23, 27, 16, 30, 11, 22, 26, 12, 29, 20, 20, 13, 9, 22, 17, 7]\n"
     ]
    }
   ],
   "source": [
    "# sample the days in the month that the transactions occur on:\n",
    "days = np.random.choice(X2, num_trans)\n",
    "days_list = list(days)\n",
    "print(days_list)"
   ]
  },
  {
   "cell_type": "code",
   "execution_count": 82,
   "metadata": {},
   "outputs": [
    {
     "name": "stdout",
     "output_type": "stream",
     "text": [
      "[[ 1.33504548e+04]\n",
      " [ 2.64170214e+03]\n",
      " [-1.68255460e+03]\n",
      " [ 5.69162172e+03]\n",
      " [ 4.75793860e+04]\n",
      " [ 1.88429939e+03]\n",
      " [-6.22548631e+02]\n",
      " [ 7.92968535e+03]\n",
      " [-9.25962020e+02]\n",
      " [ 1.13950046e+04]\n",
      " [ 2.50681884e+03]\n",
      " [-9.64804589e+03]\n",
      " [ 4.26264021e+03]\n",
      " [ 2.41061340e+03]\n",
      " [ 1.00615456e+04]\n",
      " [-6.73267545e+03]\n",
      " [ 5.28096226e+02]\n",
      " [ 4.90646612e+03]\n",
      " [ 1.96231470e+04]\n",
      " [ 1.21927280e+03]\n",
      " [ 1.44254559e+04]\n",
      " [-1.17236814e+04]\n",
      " [ 2.37994358e+03]\n",
      " [-4.62649812e+03]\n",
      " [ 1.26037543e+04]\n",
      " [ 9.60620052e+03]\n",
      " [-3.35288098e+03]\n",
      " [ 1.01202824e+04]\n",
      " [ 2.81391280e+04]\n",
      " [-4.78995869e+03]\n",
      " [ 7.75585866e+03]\n",
      " [-1.69587833e+04]\n",
      " [-1.50741585e+04]\n",
      " [ 2.96658225e+03]\n",
      " [-8.97239814e+03]\n",
      " [ 1.31430020e+03]\n",
      " [-4.31449814e+03]\n",
      " [ 5.79443421e+02]\n",
      " [ 7.09943955e+03]\n",
      " [ 8.42669478e+03]\n",
      " [ 4.66523753e+03]\n",
      " [ 1.40209040e+04]\n",
      " [ 6.38843226e+03]\n",
      " [-5.85970660e+02]\n",
      " [-4.90980479e+03]\n",
      " [ 7.66942637e+03]\n",
      " [-3.54642742e+03]\n",
      " [ 3.94132561e+03]\n",
      " [ 1.81935888e+03]\n",
      " [ 9.28306864e+03]\n",
      " [ 3.46443091e+03]\n",
      " [ 8.66703453e+03]\n",
      " [-1.82767849e+04]\n",
      " [ 4.45334074e+04]\n",
      " [ 1.93938548e+04]\n",
      " [ 1.03837936e+04]\n",
      " [ 6.36682015e+03]\n",
      " [ 9.82732997e+03]\n",
      " [ 1.02881031e+04]\n",
      " [-9.96506910e+03]\n",
      " [-7.75253332e+03]\n",
      " [ 4.24645282e+01]\n",
      " [ 3.48514937e+02]\n",
      " [ 6.05913517e+03]\n",
      " [-1.20397781e+04]\n",
      " [ 1.83526006e+04]\n",
      " [-4.57659587e+03]\n",
      " [ 1.95780945e+04]\n",
      " [-3.19611245e+03]\n",
      " [-1.36383331e+04]\n",
      " [ 1.56421335e+04]\n",
      " [ 6.64520283e+03]\n",
      " [ 4.56912652e+03]\n",
      " [ 1.61025324e+04]\n",
      " [-1.04915344e+04]\n",
      " [ 2.01503667e+04]\n",
      " [ 1.58506632e+03]\n",
      " [ 3.11339729e+02]\n",
      " [-1.01374976e+03]\n",
      " [ 4.12511787e+02]\n",
      " [-6.08083569e+03]\n",
      " [-9.12857798e+03]\n",
      " [-4.93165051e+03]\n",
      " [-3.61694110e+03]\n",
      " [ 5.88251424e+03]\n",
      " [-1.25737031e+04]\n",
      " [-1.48916577e+04]\n",
      " [ 8.06116743e+03]\n",
      " [-6.47975260e+03]]\n"
     ]
    }
   ],
   "source": [
    "# sample the transaction amount\n",
    "amounts = kde3.sample(num_trans)\n",
    "print(amounts)"
   ]
  },
  {
   "cell_type": "code",
   "execution_count": 83,
   "metadata": {},
   "outputs": [],
   "source": [
    "fictitious_data = {'day':days_list, 'amount':list(amounts[:,0])}\n",
    "df = pd.DataFrame(fictitious_data)"
   ]
  },
  {
   "cell_type": "code",
   "execution_count": 84,
   "metadata": {
    "scrolled": true
   },
   "outputs": [
    {
     "data": {
      "text/html": [
       "<div>\n",
       "<style scoped>\n",
       "    .dataframe tbody tr th:only-of-type {\n",
       "        vertical-align: middle;\n",
       "    }\n",
       "\n",
       "    .dataframe tbody tr th {\n",
       "        vertical-align: top;\n",
       "    }\n",
       "\n",
       "    .dataframe thead th {\n",
       "        text-align: right;\n",
       "    }\n",
       "</style>\n",
       "<table border=\"1\" class=\"dataframe\">\n",
       "  <thead>\n",
       "    <tr style=\"text-align: right;\">\n",
       "      <th></th>\n",
       "      <th>day</th>\n",
       "      <th>amount</th>\n",
       "    </tr>\n",
       "  </thead>\n",
       "  <tbody>\n",
       "    <tr>\n",
       "      <th>0</th>\n",
       "      <td>25</td>\n",
       "      <td>13350.454782</td>\n",
       "    </tr>\n",
       "    <tr>\n",
       "      <th>1</th>\n",
       "      <td>24</td>\n",
       "      <td>2641.702135</td>\n",
       "    </tr>\n",
       "    <tr>\n",
       "      <th>2</th>\n",
       "      <td>24</td>\n",
       "      <td>-1682.554597</td>\n",
       "    </tr>\n",
       "    <tr>\n",
       "      <th>3</th>\n",
       "      <td>24</td>\n",
       "      <td>5691.621716</td>\n",
       "    </tr>\n",
       "    <tr>\n",
       "      <th>4</th>\n",
       "      <td>27</td>\n",
       "      <td>47579.386025</td>\n",
       "    </tr>\n",
       "  </tbody>\n",
       "</table>\n",
       "</div>"
      ],
      "text/plain": [
       "   day        amount\n",
       "0   25  13350.454782\n",
       "1   24   2641.702135\n",
       "2   24  -1682.554597\n",
       "3   24   5691.621716\n",
       "4   27  47579.386025"
      ]
     },
     "execution_count": 84,
     "metadata": {},
     "output_type": "execute_result"
    }
   ],
   "source": [
    "df.head()"
   ]
  },
  {
   "cell_type": "markdown",
   "metadata": {},
   "source": [
    "# Explain what flaws still remain in your model that a forensic accountant might be able to find and determine that this was a fraudulent set of transactions."
   ]
  },
  {
   "cell_type": "markdown",
   "metadata": {},
   "source": [
    "The way the transactions are generated above assumes many independences. As long as these assumptions do not hold and there is a discrepency between the generated set of transactions' distributions and those of the original data sets, the set may be flagged as fradulent. Some of the assumptions are:\n",
    "\n",
    "1. The transaction size is independent of the day on which the transaction happens (this is reflected by the way we just naively pair the day and the amount together in the order of their appearance.) This could be wrong. For example, let us look at the distribution of the transaction amounts on day 1 and day 9 of a month:"
   ]
  },
  {
   "cell_type": "code",
   "execution_count": 85,
   "metadata": {},
   "outputs": [],
   "source": [
    "data_copy4 = data.copy()"
   ]
  },
  {
   "cell_type": "code",
   "execution_count": 86,
   "metadata": {},
   "outputs": [],
   "source": [
    "data_copy4['Date'] = data_copy4['Date'].str[:2]\n",
    "data_copy4['Date'] = pd.to_numeric(data_copy4['Date'])"
   ]
  },
  {
   "cell_type": "code",
   "execution_count": 87,
   "metadata": {},
   "outputs": [
    {
     "data": {
      "image/png": "[encoded data removed]",
      "text/plain": [
       "<Figure size 432x288 with 1 Axes>"
      ]
     },
     "metadata": {},
     "output_type": "display_data"
    }
   ],
   "source": [
    "data_day1 = data_copy4.loc[data_copy4['Date'] == 1]\n",
    "plt.hist(data_day1['Amount'])\n",
    "plt.xlabel('Transaction amount')\n",
    "plt.ylabel('Frequency (counts)')\n",
    "plt.title('Histogram for transaction amounts on day 1')\n",
    "plt.show()"
   ]
  },
  {
   "cell_type": "code",
   "execution_count": 88,
   "metadata": {
    "scrolled": true
   },
   "outputs": [
    {
     "data": {
      "image/png": "[encoded data removed]",
      "text/plain": [
       "<Figure size 432x288 with 1 Axes>"
      ]
     },
     "metadata": {},
     "output_type": "display_data"
    }
   ],
   "source": [
    "data_day9 = data_copy4.loc[data_copy4['Date'] == 9]\n",
    "plt.hist(data_day9['Amount'])\n",
    "plt.xlabel('Transaction amount')\n",
    "plt.ylabel('Frequency (counts)')\n",
    "plt.title('Histogram for transaction amounts on day 9')\n",
    "plt.show()"
   ]
  },
  {
   "cell_type": "markdown",
   "metadata": {},
   "source": [
    "We can see that the two distributions look quite different, because on day 9, negative amounts as large as -20,000 happen more often, while on day 1, no amounts less than -5000 occurs."
   ]
  },
  {
   "cell_type": "markdown",
   "metadata": {},
   "source": [
    "The follwing plot gives a more holistic view of the distribution of transaction amounts on each day."
   ]
  },
  {
   "cell_type": "code",
   "execution_count": 89,
   "metadata": {},
   "outputs": [
    {
     "data": {
      "image/png": "[encoded data removed]",
      "text/plain": [
       "<Figure size 432x288 with 1 Axes>"
      ]
     },
     "metadata": {},
     "output_type": "display_data"
    }
   ],
   "source": [
    "plt.plot(data_copy4['Date'], data_copy4['Amount'],'bo', alpha = 0.5)\n",
    "plt.title('Scatter plot for transaction size and day on month')\n",
    "plt.xlabel('Day')\n",
    "plt.ylabel('Transaction amount')\n",
    "plt.show()"
   ]
  },
  {
   "cell_type": "markdown",
   "metadata": {},
   "source": [
    "2. The number of transactions, the transaction size, and the days on which the transactions occur, are independent of the month in year (no distinction between January and December, for example)."
   ]
  },
  {
   "cell_type": "markdown",
   "metadata": {},
   "source": [
    "3. The number of transactions in a month is indepedent of the value of each transaction in that month."
   ]
  },
  {
   "cell_type": "markdown",
   "metadata": {},
   "source": [
    "4. In building the density estimation for the day in the month that a transaction will occur on, we assume that all the months have the same set of days (from 1 to 31), while in fact this is not true (April does not have day 31 for example). We may tackle this problem by saying that when generating transaction data for April (or June, September, November), whenever the model generates the day 31 we discard them. Because of this discarding, the overal probability of a transaction happens on day 31 across all months is lower than that probability in the real, non-fraud data set and the accountant may notice this discrepancy."
   ]
  }
 ],
 "metadata": {
  "kernelspec": {
   "display_name": "Python 3",
   "language": "python",
   "name": "python3"
  },
  "language_info": {
   "codemirror_mode": {
    "name": "ipython",
    "version": 3
   },
   "file_extension": ".py",
   "mimetype": "text/x-python",
   "name": "python",
   "nbconvert_exporter": "python",
   "pygments_lexer": "ipython3",
   "version": "3.6.5"
  }
 },
 "nbformat": 4,
 "nbformat_minor": 2
}
