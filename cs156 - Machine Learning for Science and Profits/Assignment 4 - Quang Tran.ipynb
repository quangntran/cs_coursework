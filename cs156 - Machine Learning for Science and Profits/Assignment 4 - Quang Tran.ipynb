{
 "cells": [
  {
   "cell_type": "markdown",
   "metadata": {},
   "source": [
    "# Load the entire MNIST digit dataset"
   ]
  },
  {
   "cell_type": "code",
   "execution_count": 1,
   "metadata": {},
   "outputs": [],
   "source": [
    "import matplotlib.pyplot as plt\n",
    "import pandas as pd\n",
    "import sklearn\n",
    "from sklearn import datasets, linear_model\n",
    "from sklearn.metrics import mean_squared_error\n",
    "from sklearn import model_selection\n",
    "import numpy as np\n",
    "import datetime as dt\n",
    "from scipy import stats\n",
    "from sklearn.svm import SVC\n",
    "import time\n",
    "from sklearn.metrics import accuracy_score"
   ]
  },
  {
   "cell_type": "code",
   "execution_count": 2,
   "metadata": {},
   "outputs": [],
   "source": [
    "# ! pip install python-mnist\n",
    "from mnist import MNIST\n",
    "\n",
    "mndata = MNIST('samples')\n",
    "X_train, y_train = mndata.load_training()\n",
    "\n",
    "X_test, y_test = mndata.load_testing()"
   ]
  },
  {
   "cell_type": "code",
   "execution_count": 3,
   "metadata": {},
   "outputs": [],
   "source": [
    "X_train = np.array(X_train)\n",
    "y_train = np.array(y_train)\n",
    "X_test = np.array(X_test)\n",
    "y_test = np.array(y_test)"
   ]
  },
  {
   "cell_type": "code",
   "execution_count": 4,
   "metadata": {},
   "outputs": [
    {
     "data": {
      "text/plain": [
       "(60000, 784)"
      ]
     },
     "execution_count": 4,
     "metadata": {},
     "output_type": "execute_result"
    }
   ],
   "source": [
    "X_train.shape"
   ]
  },
  {
   "cell_type": "markdown",
   "metadata": {},
   "source": [
    "# Choose two digit classes (e.g 7s and 3s) from the training data, and plot some of the examples."
   ]
  },
  {
   "cell_type": "code",
   "execution_count": 5,
   "metadata": {},
   "outputs": [],
   "source": [
    "# prune training and testing data sets so they contain only\n",
    "# 0 and 1\n",
    "def get_data(X, y, digit_list):\n",
    "    mask = []\n",
    "    for label in y:\n",
    "        to_append = False\n",
    "        for digit in digit_list:\n",
    "            if label == digit:\n",
    "                to_append = True\n",
    "        mask.append(to_append)\n",
    "    return X[mask,:], y[mask]\n",
    "X_train01, y_train01 = get_data(X_train, y_train, [0,1])\n",
    "X_test01, y_test01 = get_data(X_test, y_test, [0,1])"
   ]
  },
  {
   "cell_type": "code",
   "execution_count": 6,
   "metadata": {},
   "outputs": [
    {
     "name": "stdout",
     "output_type": "stream",
     "text": [
      "Shape of training features: (9498, 784)\n",
      "Shape of training labels: (9498,)\n",
      "Shape of val features: (3167, 784)\n",
      "Shape of val labels: (3167,)\n",
      "Shape of testing features: (2115, 784)\n",
      "Shape of testing labels: (2115,)\n"
     ]
    }
   ],
   "source": [
    "# validation set split\n",
    "X_train01, X_val01, y_train01, y_val01 = model_selection.train_test_split(X_train01, \n",
    "                                                                  y_train01, \n",
    "                                                                  test_size=.25)\n",
    "\n",
    "print('Shape of training features:', X_train01.shape)\n",
    "print('Shape of training labels:', y_train01.shape)\n",
    "print('Shape of val features:', X_val01.shape)\n",
    "print('Shape of val labels:', y_val01.shape)\n",
    "print('Shape of testing features:', X_test01.shape)\n",
    "print('Shape of testing labels:', y_test01.shape)"
   ]
  },
  {
   "cell_type": "code",
   "execution_count": 7,
   "metadata": {},
   "outputs": [
    {
     "name": "stdout",
     "output_type": "stream",
     "text": [
      "\n",
      "Plotting some examples ...\n"
     ]
    },
    {
     "data": {
      "image/png": "[encoded data removed]",
      "text/plain": [
       "<Figure size 432x288 with 8 Axes>"
      ]
     },
     "metadata": {},
     "output_type": "display_data"
    }
   ],
   "source": [
    "# plotting some examples\n",
    "print('\\nPlotting some examples ...')\n",
    "images_and_labels = list(zip(X_train01,y_train01))\n",
    "for index, (image, label) in enumerate(images_and_labels[:8]):\n",
    "    plt.subplot(2, 4, index + 1)\n",
    "    plt.axis('off')\n",
    "    plt.imshow(np.reshape(image,(28,28)), cmap=plt.cm.gray_r, interpolation='nearest')\n",
    "    plt.title('Label: %i' % label)"
   ]
  },
  {
   "cell_type": "markdown",
   "metadata": {},
   "source": [
    "Because the RBF kernel involves exponentials, and exponentials with large number can be unstable, I normalized the data. Because a lot of features in the original data have the same value (i.e., 0), the scheme of subtracting the mean and divided by the standard deviation fails because the std of those features are 0 and we cannot divide by 0. Therefore, we ignore these features by setting the `nan` in the resulted normalized data to 0. We can do this because features which are all 0 contribute nothing to the model and the decision. This can be done by `np.nan_to_num`."
   ]
  },
  {
   "cell_type": "code",
   "execution_count": 103,
   "metadata": {},
   "outputs": [
    {
     "name": "stderr",
     "output_type": "stream",
     "text": [
      "/anaconda3/lib/python3.6/site-packages/ipykernel_launcher.py:4: RuntimeWarning: invalid value encountered in true_divide\n",
      "  after removing the cwd from sys.path.\n",
      "/anaconda3/lib/python3.6/site-packages/ipykernel_launcher.py:5: RuntimeWarning: divide by zero encountered in true_divide\n",
      "  \"\"\"\n",
      "/anaconda3/lib/python3.6/site-packages/ipykernel_launcher.py:5: RuntimeWarning: invalid value encountered in true_divide\n",
      "  \"\"\"\n",
      "/anaconda3/lib/python3.6/site-packages/ipykernel_launcher.py:6: RuntimeWarning: divide by zero encountered in true_divide\n",
      "  \n",
      "/anaconda3/lib/python3.6/site-packages/ipykernel_launcher.py:6: RuntimeWarning: invalid value encountered in true_divide\n",
      "  \n"
     ]
    }
   ],
   "source": [
    "# Normalizing data\n",
    "mean_train = np.mean(X_train01,axis=0)\n",
    "std_train = np.std(X_train01,axis=0)\n",
    "X_train01_normalized = np.nan_to_num((X_train01 - mean_train)/std_train)\n",
    "X_val01_normalized = np.nan_to_num((X_val01 - mean_train)/std_train)\n",
    "X_test01_normalized = np.nan_to_num((X_test01 - mean_train)/std_train)"
   ]
  },
  {
   "cell_type": "markdown",
   "metadata": {},
   "source": [
    "# Train a support vector classifier using each of the following kernels:\n",
    "\n",
    "(**#overfitting**) In all the three sections corresponding to the three kernels, I used the validation set approach for tuning the parameters (as opposed to use cross validation). This is because our data is large enough. The reason we would want to use cross validation is usually when our training data is small and designating a fixed part of the data as a validation set would make the remaining training data even smaller and model trained on small data may not be generalized well. \n",
    "\n",
    "## Linear\n",
    "\n",
    "We will be tuning C (in this kernel and the other), the extent to which we penalize misclassifications when the data is linearly inseparable (in soft-margin SVM), which could happen even with using kernel. "
   ]
  },
  {
   "cell_type": "code",
   "execution_count": 69,
   "metadata": {},
   "outputs": [
    {
     "name": "stderr",
     "output_type": "stream",
     "text": [
      "/anaconda3/lib/python3.6/site-packages/numpy/core/_methods.py:36: RuntimeWarning: overflow encountered in reduce\n",
      "  return umr_sum(a, axis, dtype, out, keepdims, initial)\n"
     ]
    },
    {
     "name": "stdout",
     "output_type": "stream",
     "text": [
      "Finished 1/7\n",
      "Finished 2/7\n",
      "Finished 3/7\n",
      "Finished 4/7\n",
      "Finished 5/7\n",
      "Finished 6/7\n",
      "Finished 7/7\n"
     ]
    }
   ],
   "source": [
    "# validation\n",
    "kernel = 'linear'\n",
    "random_state = 1\n",
    "best_acc = -1\n",
    "best_params = -1\n",
    "i = 0 \n",
    "for C in [1e-3,1e-2,1e-1,1,10,100,1000]:\n",
    "        clf = SVC(C=C, kernel=kernel, random_state=random_state)\n",
    "        clf.fit(X_train01_normalized, y_train01)\n",
    "        preds = clf.predict(X_val01_normalized)\n",
    "        acc = accuracy_score(y_val01, preds)\n",
    "        if acc > best_acc:\n",
    "            best_acc = acc\n",
    "            best_params = C\n",
    "        i += 1\n",
    "        print('Finished %d/7'%(i))"
   ]
  },
  {
   "cell_type": "code",
   "execution_count": 70,
   "metadata": {},
   "outputs": [
    {
     "name": "stdout",
     "output_type": "stream",
     "text": [
      "Best accuracy: 0.9993684875276286\n",
      "Best C: 0.1\n"
     ]
    }
   ],
   "source": [
    "print('Best accuracy:', best_acc)\n",
    "best_C = best_params\n",
    "print('Best C:', best_C)"
   ]
  },
  {
   "cell_type": "code",
   "execution_count": 96,
   "metadata": {},
   "outputs": [],
   "source": [
    "\n",
    "best_C = .1\n",
    "kernel='linear'"
   ]
  },
  {
   "cell_type": "code",
   "execution_count": 97,
   "metadata": {},
   "outputs": [
    {
     "name": "stdout",
     "output_type": "stream",
     "text": [
      "Running time for Linear Kernel: 0.8229702663421631 s\n"
     ]
    }
   ],
   "source": [
    "# Get training time on the best params\n",
    "running_time = 0\n",
    "for _ in range(25):\n",
    "    start = time.time()\n",
    "    clf_lnr = SVC(C=best_C, kernel=kernel)\n",
    "    clf_lnr.fit(X_train01_normalized, y_train01)\n",
    "    running_time = running_time + (time.time()-start)\n",
    "avg_running_time_lnr = running_time/25\n",
    "print('Running time for Linear Kernel:', avg_running_time_lnr, 's')"
   ]
  },
  {
   "cell_type": "markdown",
   "metadata": {},
   "source": [
    "## Poly\n",
    "\n",
    "We additionally tune `degree`, the degree $d$ of the polynomial kernel function:\n",
    "$$k(x_i,x_{i'})=(1+\\sum_{j=1}^{p}x_{ij}x_{i'j})^d$$\n",
    "\n"
   ]
  },
  {
   "cell_type": "code",
   "execution_count": 73,
   "metadata": {},
   "outputs": [
    {
     "name": "stderr",
     "output_type": "stream",
     "text": [
      "/anaconda3/lib/python3.6/site-packages/numpy/core/_methods.py:36: RuntimeWarning: overflow encountered in reduce\n",
      "  return umr_sum(a, axis, dtype, out, keepdims, initial)\n"
     ]
    },
    {
     "name": "stdout",
     "output_type": "stream",
     "text": [
      "Finished 1/25\n",
      "Finished 2/25\n",
      "Finished 3/25\n",
      "Finished 4/25\n",
      "Finished 5/25\n",
      "Finished 6/25\n",
      "Finished 7/25\n",
      "Finished 8/25\n",
      "Finished 9/25\n",
      "Finished 10/25\n",
      "Finished 11/25\n",
      "Finished 12/25\n",
      "Finished 13/25\n",
      "Finished 14/25\n",
      "Finished 15/25\n",
      "Finished 16/25\n",
      "Finished 17/25\n",
      "Finished 18/25\n",
      "Finished 19/25\n",
      "Finished 20/25\n",
      "Finished 21/25\n",
      "Finished 22/25\n",
      "Finished 23/25\n",
      "Finished 24/25\n",
      "Finished 25/25\n"
     ]
    }
   ],
   "source": [
    "# validation\n",
    "kernel = 'poly'\n",
    "random_state = 1\n",
    "best_acc = -1\n",
    "best_params = [-1,-1]  \n",
    "i = 0 \n",
    "for C in [1e-3, 1e-1, 1, 100, 1000]:\n",
    "    for degree in range(2,11,2):\n",
    "        clf = SVC(C=C, kernel=kernel, degree=degree, random_state=random_state)\n",
    "        clf.fit(X_train01_normalized, y_train01)\n",
    "        preds = clf.predict(X_val01_normalized)\n",
    "        acc = accuracy_score(y_val01, preds)\n",
    "        if acc > best_acc:\n",
    "            best_acc = acc\n",
    "            best_params = [C, degree]\n",
    "        i += 1\n",
    "        print('Finished %d/25'%(i))   "
   ]
  },
  {
   "cell_type": "code",
   "execution_count": 74,
   "metadata": {},
   "outputs": [
    {
     "name": "stdout",
     "output_type": "stream",
     "text": [
      "Best accuracy: 0.9968424376381434\n",
      "Best C: 1\n",
      "Best degree: 2\n"
     ]
    }
   ],
   "source": [
    "print('Best accuracy:', best_acc)\n",
    "best_C, best_degree = best_params[0], best_params[1]\n",
    "print('Best C:', best_C)\n",
    "print('Best degree:', best_degree)"
   ]
  },
  {
   "cell_type": "code",
   "execution_count": 101,
   "metadata": {},
   "outputs": [
    {
     "name": "stdout",
     "output_type": "stream",
     "text": [
      "Running time for Poly Kernel: 7.8144989013671875 s\n"
     ]
    }
   ],
   "source": [
    "# Get training time on the best params\n",
    "running_time = 0\n",
    "for _ in range(5):\n",
    "    start = time.time()\n",
    "    clf_poly = SVC(C=best_C, kernel=kernel, degree=best_degree)\n",
    "    clf_poly.fit(X_train01_normalized, y_train01)\n",
    "    running_time = running_time + (time.time()-start)\n",
    "avg_running_time_poly = running_time/5\n",
    "print('Running time for Poly Kernel:', avg_running_time_poly,'s')"
   ]
  },
  {
   "cell_type": "markdown",
   "metadata": {},
   "source": [
    "## RBF\n",
    "\n",
    "The function for the RBF is:\n",
    "\n",
    "$$K(x_i,x_{i'})=exp(-\\gamma \\sum_{j=1}^p (x_{ij}-x_{i'j})^2$$\n",
    "\n",
    "As explained in this [Quora answer](https://www.quora.com/What-are-C-and-gamma-with-regards-to-a-support-vector-machine) $\\gamma$ controls for the influence of the support vectors on the output of the decision function, because $\\gamma$ controls the variance in the Gaussian function: lower $\\gamma$ implies large variance and therefore high influence of $x_{ij}$ on $x_{i'j}$ even when they are far away from each other.\n",
    "\n",
    "We will tune for this parameter as well."
   ]
  },
  {
   "cell_type": "code",
   "execution_count": 66,
   "metadata": {},
   "outputs": [
    {
     "name": "stderr",
     "output_type": "stream",
     "text": [
      "/anaconda3/lib/python3.6/site-packages/numpy/core/_methods.py:36: RuntimeWarning: overflow encountered in reduce\n",
      "  return umr_sum(a, axis, dtype, out, keepdims, initial)\n"
     ]
    },
    {
     "name": "stdout",
     "output_type": "stream",
     "text": [
      "Finished 1/25\n",
      "Finished 2/25\n",
      "Finished 3/25\n",
      "Finished 4/25\n",
      "Finished 5/25\n",
      "Finished 6/25\n",
      "Finished 7/25\n",
      "Finished 8/25\n",
      "Finished 9/25\n",
      "Finished 10/25\n",
      "Finished 11/25\n",
      "Finished 12/25\n",
      "Finished 13/25\n",
      "Finished 14/25\n",
      "Finished 15/25\n",
      "Finished 16/25\n",
      "Finished 17/25\n",
      "Finished 18/25\n",
      "Finished 19/25\n",
      "Finished 20/25\n",
      "Finished 21/25\n",
      "Finished 22/25\n",
      "Finished 23/25\n",
      "Finished 24/25\n",
      "Finished 25/25\n"
     ]
    }
   ],
   "source": [
    "# validation\n",
    "kernel = 'rbf'\n",
    "random_state = 1\n",
    "best_acc = -1\n",
    "best_params = [-1,-1]  \n",
    "i = 0 \n",
    "for C in [1e-3, 1e-1,1,1e2,1e3]:\n",
    "    for gamma in [1e-3, 1e-1,1,1e2,1e3]:\n",
    "        clf = SVC(C=C, kernel=kernel, gamma=gamma, random_state=random_state)\n",
    "        clf.fit(X_train01_normalized, y_train01)\n",
    "        preds = clf.predict(X_val01_normalized)\n",
    "        acc = accuracy_score(y_val01, preds)\n",
    "        if acc > best_acc:\n",
    "            best_acc = acc\n",
    "            best_params = [C, gamma]\n",
    "        i += 1\n",
    "        print('Finished %d/25'%(i))  "
   ]
  },
  {
   "cell_type": "code",
   "execution_count": 67,
   "metadata": {},
   "outputs": [
    {
     "name": "stdout",
     "output_type": "stream",
     "text": [
      "Best accuracy: 0.9946321439848437\n",
      "Best C: 100.0\n",
      "Best degree: 0.001\n"
     ]
    }
   ],
   "source": [
    "print('Best accuracy:', best_acc)\n",
    "best_C, best_gamma = best_params[0], best_params[1]\n",
    "print('Best C:', best_C)\n",
    "print('Best degree:', best_gamma)"
   ]
  },
  {
   "cell_type": "code",
   "execution_count": 91,
   "metadata": {},
   "outputs": [
    {
     "name": "stdout",
     "output_type": "stream",
     "text": [
      "Running time for RBF Kernel: 60.795526075363156 s\n"
     ]
    }
   ],
   "source": [
    "# Get training time on the best params\n",
    "running_time = 0\n",
    "for _ in range(5):\n",
    "    start = time.time()\n",
    "    clf_rbf = SVC(C=best_C, kernel=kernel, gamma=best_gamma)\n",
    "    clf_rbf.fit(X_train01_normalized, y_train01)\n",
    "    running_time = running_time + (time.time()-start)\n",
    "avg_running_time_rbf = running_time/5\n",
    "print('Running time for RBF Kernel:', avg_running_time_rbf,'s')"
   ]
  },
  {
   "cell_type": "markdown",
   "metadata": {},
   "source": [
    "# Report your training times on the dataset for the different kernels.\n",
    "\n",
    "Running time for Linear Kernel: 0.8229702663421631 s\n",
    "\n",
    "Running time for Poly Kernel: 7.8144989013671875 s\n",
    "\n",
    "Running time for RBF Kernel: 60.795526075363156 s\n",
    "\n",
    "We see that the RBF kernel takes the most time. This is because it involves more mathematic operations than the other two. For the same reason, linear kernel takes the least time to compute as it does not involve exponentials. "
   ]
  },
  {
   "cell_type": "markdown",
   "metadata": {},
   "source": [
    "# Report your error rates on the testing dataset for the different kernels."
   ]
  },
  {
   "cell_type": "code",
   "execution_count": 98,
   "metadata": {},
   "outputs": [
    {
     "name": "stdout",
     "output_type": "stream",
     "text": [
      "Test error rate: 0.0009456264775413725\n"
     ]
    },
    {
     "name": "stderr",
     "output_type": "stream",
     "text": [
      "/anaconda3/lib/python3.6/site-packages/numpy/core/_methods.py:36: RuntimeWarning: overflow encountered in reduce\n",
      "  return umr_sum(a, axis, dtype, out, keepdims, initial)\n"
     ]
    }
   ],
   "source": [
    "# test on linear kernel\n",
    "preds_lnr = clf_lnr.predict(X_test01_normalized)\n",
    "acc_lnr = accuracy_score(preds_lnr,y_test01)\n",
    "print('Test error rate:', 1-acc_lnr)"
   ]
  },
  {
   "cell_type": "code",
   "execution_count": 102,
   "metadata": {},
   "outputs": [
    {
     "name": "stderr",
     "output_type": "stream",
     "text": [
      "/anaconda3/lib/python3.6/site-packages/numpy/core/_methods.py:36: RuntimeWarning: overflow encountered in reduce\n",
      "  return umr_sum(a, axis, dtype, out, keepdims, initial)\n"
     ]
    },
    {
     "name": "stdout",
     "output_type": "stream",
     "text": [
      "Test error rate: 0.0014184397163120588\n"
     ]
    }
   ],
   "source": [
    "# test on poly kernel\n",
    "preds_poly = clf_poly.predict(X_test01_normalized)\n",
    "acc_poly = accuracy_score(y_test01, preds_poly)\n",
    "print('Test error rate:', 1-acc_poly)"
   ]
  },
  {
   "cell_type": "code",
   "execution_count": 93,
   "metadata": {},
   "outputs": [
    {
     "name": "stderr",
     "output_type": "stream",
     "text": [
      "/anaconda3/lib/python3.6/site-packages/numpy/core/_methods.py:36: RuntimeWarning: overflow encountered in reduce\n",
      "  return umr_sum(a, axis, dtype, out, keepdims, initial)\n"
     ]
    },
    {
     "name": "stdout",
     "output_type": "stream",
     "text": [
      "Test error rate: 0.013238770685579215\n"
     ]
    }
   ],
   "source": [
    "# test on poly kernel\n",
    "preds_rbf = clf_rbf.predict(X_test01_normalized)\n",
    "acc_rbf = accuracy_score(y_test01, preds_rbf)\n",
    "print('Test error rate:', 1-acc_rbf)"
   ]
  },
  {
   "cell_type": "markdown",
   "metadata": {},
   "source": [
    "We see that linear kernel used in svm yields the lowest test-set error rate. This is unusual, as it is expected that non-linear kernels result in better performance (or at least equally good) than linear kernel. Two possible reasons are:\n",
    "\n",
    "1. The data is already fairly separable. This may have something to do with the two classes chosen (0 and 1), as they, from human perspective, are easily distinguishable, compared to some other non-obvious cases like 1 and 7 or 5 and 6. This explains why linear kernel alone can do such a good job.\n",
    "\n",
    "2. The above may suggest that it requires super careful tuning for the parameters of when we use polynomial or RBF kernels to find the set of parameters that beat the near perfect performance of linear kernel. In this assignment, the grid search is far from thorough and could be improved (for example, stochastic search could also be used along with grid search, in case the relationship between the model's performance and the combination of parameters doesn't follow predictable patterns as the grid search assumes.)"
   ]
  }
 ],
 "metadata": {
  "kernelspec": {
   "display_name": "Python 3",
   "language": "python",
   "name": "python3"
  },
  "language_info": {
   "codemirror_mode": {
    "name": "ipython",
    "version": 3
   },
   "file_extension": ".py",
   "mimetype": "text/x-python",
   "name": "python",
   "nbconvert_exporter": "python",
   "pygments_lexer": "ipython3",
   "version": "3.6.5"
  }
 },
 "nbformat": 4,
 "nbformat_minor": 2
}
